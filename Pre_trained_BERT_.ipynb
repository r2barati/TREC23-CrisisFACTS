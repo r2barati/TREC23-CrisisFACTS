{
  "cells": [
    {
      "cell_type": "markdown",
      "metadata": {
        "id": "view-in-github",
        "colab_type": "text"
      },
      "source": [
        "<a href=\"https://colab.research.google.com/github/r2barati/TREC23-CrisisFACTS/blob/main/Pre_trained_BERT_.ipynb\" target=\"_parent\"><img src=\"https://colab.research.google.com/assets/colab-badge.svg\" alt=\"Open In Colab\"/></a>"
      ]
    },
    {
      "cell_type": "code",
      "execution_count": null,
      "metadata": {
        "id": "P8SAnALDzwAK"
      },
      "outputs": [],
      "source": [
        "!pip install --upgrade git+https://github.com/allenai/ir_datasets.git@crisisfacts # install ir_datasets (crisisfacts branch)\n"
      ]
    },
    {
      "cell_type": "code",
      "execution_count": null,
      "metadata": {
        "id": "mD6gW039zp15"
      },
      "outputs": [],
      "source": [
        "# Set up credentials\n",
        "credentials = {\n",
        "    \"institution\": \"<Toronto Metropolitan University>\", # University, Company or Public Agency Name\n",
        "    \"contactname\": \"<Reza Barati, Aary Kartha>\", # Your Name\n",
        "    \"email\": \"<rezabarati@gmail.com, aaryaman.kartha@torontomu.ca>\", # A contact email address\n",
        "    \"institutiontype\": \"<Research>\" # Either 'Research', 'Industry', or 'Public Sector'\n",
        "}\n",
        "\n",
        "  # Write this to a file so it can be read when needed\n",
        "import json\n",
        "import os\n",
        "\n",
        "home_dir = os.path.expanduser('~')\n",
        "\n",
        "!mkdir -p ~/.ir_datasets/auth/\n",
        "with open(home_dir + '/.ir_datasets/auth/crisisfacts.json', 'w') as f:\n",
        "    json.dump(credentials, f)\n"
      ]
    },
    {
      "cell_type": "code",
      "execution_count": null,
      "metadata": {
        "id": "J2EsmTmbzLqK"
      },
      "outputs": [],
      "source": [
        "# Define the event numbers\n",
        "eventNoList = [\n",
        "    \"001\", # Lilac Wildfire 2017\n",
        "]"
      ]
    },
    {
      "cell_type": "code",
      "execution_count": null,
      "metadata": {
        "id": "0zWCLFcwy7UB"
      },
      "outputs": [],
      "source": [
        "# Define the function to get days for an event\n",
        "import requests\n",
        "\n",
        "# Gets the list of days for a specified event number, e.g. '001'\n",
        "def getDaysForEventNo(eventNo):\n",
        "\n",
        "    # We will download a file containing the day list for an event\n",
        "    url = \"http://trecis.org/CrisisFACTs/CrisisFACTS-\"+eventNo+\".requests.json\"\n",
        "\n",
        "    # Download the list and parse as JSON\n",
        "    dayList = requests.get(url).json()\n",
        "\n",
        "    # Print each day\n",
        "    # Note each day object contains the following fields\n",
        "    #   {\n",
        "    #      \"eventID\" : \"CrisisFACTS-001\",\n",
        "    #      \"requestID\" : \"CrisisFACTS-001-r3\",\n",
        "    #      \"dateString\" : \"2017-12-07\",\n",
        "    #      \"startUnixTimestamp\" : 1512604800,\n",
        "    #      \"endUnixTimestamp\" : 1512691199\n",
        "    #   }\n",
        "\n",
        "    return dayList"
      ]
    },
    {
      "cell_type": "code",
      "execution_count": null,
      "metadata": {
        "colab": {
          "base_uri": "https://localhost:8080/"
        },
        "id": "ZZoNhtDNy3nu",
        "outputId": "4e76d676-c3dd-43ce-e0c1-0b69236c31b1"
      },
      "outputs": [
        {
          "output_type": "stream",
          "name": "stdout",
          "text": [
            "2017-12-07\n",
            "2017-12-08\n",
            "2017-12-09\n",
            "2017-12-10\n",
            "2017-12-11\n",
            "2017-12-12\n",
            "2017-12-13\n",
            "2017-12-14\n",
            "2017-12-15\n"
          ]
        }
      ],
      "source": [
        "# Use the function to get days for the first event\n",
        "# Below has a manual function for getting the days of each event number (there are 0-17 )\n",
        "import pandas as pd\n",
        "for day in getDaysForEventNo(eventNoList[0]):\n",
        "      print(day[\"dateString\"])\n",
        "    # print(day) day include Summary Request JSON File\n"
      ]
    },
    {
      "cell_type": "code",
      "execution_count": null,
      "metadata": {
        "colab": {
          "base_uri": "https://localhost:8080/"
        },
        "id": "0O5Pn9Qryo3f",
        "outputId": "174fa764-3a75-49c2-d8e9-319f2a7bddeb"
      },
      "outputs": [
        {
          "output_type": "stream",
          "name": "stdout",
          "text": [
            "Event 001\n",
            "  crisisfacts/001/2017-12-07 --> CrisisFACTS-001-r3\n",
            "  crisisfacts/001/2017-12-08 --> CrisisFACTS-001-r4\n",
            "  crisisfacts/001/2017-12-09 --> CrisisFACTS-001-r5\n",
            "  crisisfacts/001/2017-12-10 --> CrisisFACTS-001-r6\n",
            "  crisisfacts/001/2017-12-11 --> CrisisFACTS-001-r7\n",
            "  crisisfacts/001/2017-12-12 --> CrisisFACTS-001-r8\n",
            "  crisisfacts/001/2017-12-13 --> CrisisFACTS-001-r9\n",
            "  crisisfacts/001/2017-12-14 --> CrisisFACTS-001-r10\n",
            "  crisisfacts/001/2017-12-15 --> CrisisFACTS-001-r11\n",
            "\n"
          ]
        }
      ],
      "source": [
        "# Get days for all events\n",
        "eventsMeta = {}\n",
        "\n",
        "for eventNo in eventNoList: # for each event\n",
        "    dailyInfo = getDaysForEventNo(eventNo) # get the list of days\n",
        "    eventsMeta[eventNo]= dailyInfo\n",
        "\n",
        "    print(\"Event \"+eventNo)\n",
        "    for day in dailyInfo: # for each day\n",
        "        print(\"  crisisfacts/\"+eventNo+\"/\"+day[\"dateString\"], \"-->\", day[\"requestID\"]) # construct the request string\n",
        "\n",
        "    print()"
      ]
    },
    {
      "cell_type": "code",
      "execution_count": null,
      "metadata": {
        "id": "eh-qIqftwsq7"
      },
      "outputs": [],
      "source": [
        "# Download and print data for the second day of the ninth event\n",
        "import ir_datasets\n",
        "\n",
        "dataset = ir_datasets.load('crisisfacts/001/2017-12-07')\n",
        "\n",
        "for item in dataset.docs_iter()[:1]:\n",
        "    print(item)"
      ]
    },
    {
      "cell_type": "code",
      "execution_count": null,
      "metadata": {
        "id": "5CDJ4NlKwe7E"
      },
      "outputs": [],
      "source": [
        "# Convert the stream of items to a Pandas DataFrame and filter by source type\n",
        "import pandas as pd\n",
        "\n",
        "# Convert the stream of items to a Pandas Dataframe\n",
        "itemsAsDataFrame = pd.DataFrame(dataset.docs_iter())\n",
        "\n",
        "# Create a copy of the first 100 rows\n",
        "itemsAsDataFrame10000 = itemsAsDataFrame.head(10000).copy()\n",
        "itemsAsDataFrame10000.to_csv(\"2017-12-07-10000.csv\", index=False)\n",
        "\n",
        "# Create a filter expression\n",
        "is_reddit =  itemsAsDataFrame['source_type']==\"Reddit\"\n",
        "\n",
        "# Apply our filter\n",
        "itemsAsDataFrame[is_reddit]\n",
        "itemsAsDataFrame10000_Reddit = itemsAsDataFrame[is_reddit].head(10000).copy()\n",
        "\n",
        "# Create a filter expression\n",
        "is_twitter =  itemsAsDataFrame['source_type']==\"Twitter\"\n",
        "\n",
        "# Apply our filter\n",
        "itemsAsDataFrame[is_twitter]\n",
        "itemsAsDataFrame10000_Twitter = itemsAsDataFrame[is_twitter].head(10000).copy()\n",
        "\n",
        "# Create a filter expression\n",
        "is_fb =  itemsAsDataFrame['source_type']==\"Facebook\"\n",
        "\n",
        "# Apply our filter\n",
        "itemsAsDataFrame[is_fb]\n",
        "itemsAsDataFrame10000_fb = itemsAsDataFrame[is_fb].head(10000).copy()\n",
        "\n",
        "# Create a filter expression\n",
        "is_news =  itemsAsDataFrame['source_type']==\"News\"\n",
        "\n",
        "# Apply our filter\n",
        "itemsAsDataFrame[is_news]\n",
        "itemsAsDataFrame10000_news = itemsAsDataFrame[is_news].head(10000).copy()\n",
        "\n",
        "itemsAsDataFrame.head(5)\n"
      ]
    },
    {
      "cell_type": "code",
      "source": [
        "from google.colab import data_table"
      ],
      "metadata": {
        "id": "v0RGJ1ZA7HKc"
      },
      "execution_count": null,
      "outputs": []
    },
    {
      "cell_type": "code",
      "source": [
        "User_Profiles_Event_Definition = pd.DataFrame(dataset.queries_iter())"
      ],
      "metadata": {
        "id": "uOxgqLYrZLee"
      },
      "execution_count": null,
      "outputs": []
    },
    {
      "cell_type": "code",
      "source": [
        "import pandas as pd\n",
        "\n",
        "# documents_df = pd.read_csv('2017-12-07-10000.csv.csv')"
      ],
      "metadata": {
        "id": "ykdLhJ5FXAvs"
      },
      "execution_count": null,
      "outputs": []
    },
    {
      "cell_type": "code",
      "source": [
        "itemsAsDataFrame.head()"
      ],
      "metadata": {
        "id": "2Ad_d0xCaNOA"
      },
      "execution_count": null,
      "outputs": []
    },
    {
      "cell_type": "code",
      "source": [
        "User_Profiles_Event_Definition.head()"
      ],
      "metadata": {
        "id": "4AoHq5P8aQMu"
      },
      "execution_count": null,
      "outputs": []
    },
    {
      "cell_type": "code",
      "source": [
        "!pip install sentence-transformers"
      ],
      "metadata": {
        "id": "dNNDX121itjn"
      },
      "execution_count": null,
      "outputs": []
    },
    {
      "cell_type": "code",
      "source": [
        "pip install tqdm"
      ],
      "metadata": {
        "colab": {
          "base_uri": "https://localhost:8080/"
        },
        "id": "GumIj3AOjsyl",
        "outputId": "d800c811-1f3c-4124-e107-2849d47e4451"
      },
      "execution_count": null,
      "outputs": [
        {
          "output_type": "stream",
          "name": "stdout",
          "text": [
            "Requirement already satisfied: tqdm in /usr/local/lib/python3.10/dist-packages (4.65.0)\n"
          ]
        }
      ]
    },
    {
      "cell_type": "code",
      "source": [
        "import os\n",
        "import torch\n",
        "from torch.utils.data import DataLoader, TensorDataset\n",
        "from transformers import BertForMaskedLM, BertTokenizer\n",
        "from tqdm import tqdm\n",
        "from google.colab import drive\n",
        "\n",
        "# Mount Google Drive\n",
        "drive.mount('/content/gdrive')\n",
        "\n",
        "# Define the base save path in Google Drive\n",
        "save_base_path = \"/content/gdrive/MyDrive/colab/crisisfacts/model\"\n",
        "os.makedirs(save_base_path, exist_ok=True)\n",
        "\n",
        "# Function to get the last saved checkpoint path\n",
        "def get_last_checkpoint(base_path):\n",
        "    checkpoints = [os.path.join(base_path, name) for name in os.listdir(base_path)]\n",
        "    return max(checkpoints, key=os.path.getctime) if checkpoints else None\n",
        "\n",
        "# Check if there's a last saved checkpoint\n",
        "last_checkpoint = get_last_checkpoint(save_base_path)\n",
        "\n",
        "# Load BERT and tokenizer\n",
        "if last_checkpoint:\n",
        "    model = BertForMaskedLM.from_pretrained(last_checkpoint)\n",
        "    print(f\"Model loaded from {last_checkpoint}\")\n",
        "else:\n",
        "    model = BertForMaskedLM.from_pretrained('bert-base-uncased')\n",
        "tokenizer = BertTokenizer.from_pretrained('bert-base-uncased')\n",
        "\n",
        "# Prepare data (replace with your actual data preparation)\n",
        "text_data = User_Profiles_Event_Definition['text'].tolist() + itemsAsDataFrame['text'].tolist()\n",
        "encoded_data = tokenizer(text_data, truncation=True, padding='max_length', max_length=128, return_tensors='pt')\n",
        "\n",
        "# Masking - 15% of tokens\n",
        "probability = 0.15\n",
        "masked_input_ids = encoded_data['input_ids'].clone()\n",
        "for i in range(masked_input_ids.size(0)):\n",
        "    for j in range(masked_input_ids.size(1)):\n",
        "        if torch.rand(1).item() < probability:\n",
        "            masked_input_ids[i, j] = tokenizer.mask_token_id\n",
        "\n",
        "# DataLoader\n",
        "train_dataset = TensorDataset(masked_input_ids, encoded_data['attention_mask'], encoded_data['input_ids'])\n",
        "train_dataloader = DataLoader(train_dataset, batch_size=16, shuffle=True)\n",
        "\n",
        "# Calculate the number of batches that constitute 1% of the training\n",
        "one_percent_batches = len(train_dataloader) // 100\n",
        "\n",
        "# Optimizer\n",
        "optimizer = torch.optim.AdamW(model.parameters(), lr=5e-5)\n",
        "\n",
        "# Training loop\n",
        "model.train()\n",
        "num_epochs = 3\n",
        "for epoch in range(num_epochs):\n",
        "    for batch_num, batch in tqdm(enumerate(train_dataloader), desc=f\"Epoch {epoch+1}/{num_epochs}\", total=len(train_dataloader)):\n",
        "        inputs, attention_mask, labels = batch\n",
        "        optimizer.zero_grad()\n",
        "        outputs = model(inputs, attention_mask=attention_mask, labels=labels)\n",
        "        loss = outputs.loss\n",
        "        loss.backward()\n",
        "        optimizer.step()\n",
        "\n",
        "        # Save the model every 1% progress\n",
        "        if (batch_num + 1) % one_percent_batches == 0:\n",
        "            save_path = f\"{save_base_path}/epoch{epoch+1}_batch{batch_num+1}\"\n",
        "            model.save_pretrained(save_path)\n",
        "            print(f\"Model saved at {save_path}\")\n",
        "\n",
        "    print(f\"Epoch {epoch+1} completed.\")\n",
        "\n",
        "# Save the final model and tokenizer\n",
        "final_save_path = save_base_path\n",
        "model.save_pretrained(final_save_path)\n",
        "tokenizer.save_pretrained(final_save_path)\n",
        "print(f\"Final model saved at {final_save_path}\")\n"
      ],
      "metadata": {
        "colab": {
          "base_uri": "https://localhost:8080/",
          "height": 1000,
          "referenced_widgets": [
            "560d8f75807a430cb6494087b75b8a6a",
            "47d6a3f8c5a84ebd8b9ed0532b09341f",
            "9e43c33c0e7c451ebaca240c267b3545",
            "b2ef44acea804fc5a2f4944b264233a4",
            "8f5f555875a446a598ebc94b52fca29a",
            "a9a93ae25fb94ef0bb52304a57a0ee50",
            "4862f04203ae457ca41cdad0aaccfca6",
            "03a40e0d2e184a669c918f5517785408",
            "7eae8b7d5e26413c9a8be9c54983ffda",
            "f3e459bf6e8e439d8a0ec7e536dd0868",
            "c9a4a0118f4d4bf59a78aee334e98a9b",
            "44b93683bf174bb9930c371139c6ca93",
            "77f936a3afc74a3283a2b195919d7263",
            "8a6403b9781544698387524c212c34e2",
            "9bba37526b5141da96f979ca4ffe7e96",
            "c040d425d47640498142f0a05d5ff356",
            "6ebf027473734ad4a76cab6dd9413a51",
            "68f2aa755aec4edea5765ed34a0a63e6",
            "f53bed8b81f34a09b7517093530a2a51",
            "1f0b0e3f07f84279b392134ad8c380ac",
            "83d692586cb24e97bd59b74c0d0eb4a1",
            "eb028b5185b24c148bf56c3d6734f77c",
            "8f72ba54e3894ffcad2c40cdd0618615",
            "3f1c01d45f7442e58b4b5b7c0aaf64a7",
            "d47e1ca545944d7184c2793c727d41bb",
            "76d7c079640943bea0213a6f4044c2f9",
            "a03b8cbdad2440e2bf750efd0b421b4f",
            "041c7b2b261543dfaf46b01d1488e277",
            "232221a1b07f4b27a7955878fdeddeec",
            "8ba066c8d0fd487091982574fa3d8200",
            "384acd2fdfc94024adc191680fde5466",
            "a8ff2727cfca42df96d557c6d02fa007",
            "53ccbb64a93644cb8d6f6369da44f6f6",
            "799987f13cfe418bbbea1983b10d4da1",
            "46a16bfb974541dbbf08da293876f38e",
            "5b505d6881ec40df93d21597a2da3f20",
            "6db1a895448b46509da04510133f8766",
            "e0ca7a694fbd463084e02c38a466e0cd",
            "78b0a57f55324964a49bb1dc91e62c8f",
            "f7344c11fdee4b738651b69bc122a472",
            "8f3239ed79404e3a9ae2904a0ace5c7a",
            "173e00ffbb9d4c3f99b74ce4b5a7d8ff",
            "f123940d35b749d98c6af54002fa7fb1",
            "9278e71134d542e8b81318de77868aa4"
          ]
        },
        "id": "RmUV_1Gb2FQQ",
        "outputId": "7c2e2e78-244f-4d8a-9964-9a91999b69e7"
      },
      "execution_count": null,
      "outputs": [
        {
          "metadata": {
            "tags": null
          },
          "name": "stdout",
          "output_type": "stream",
          "text": [
            "Drive already mounted at /content/gdrive; to attempt to forcibly remount, call drive.mount(\"/content/gdrive\", force_remount=True).\n"
          ]
        },
        {
          "data": {
            "application/vnd.jupyter.widget-view+json": {
              "model_id": "560d8f75807a430cb6494087b75b8a6a",
              "version_major": 2,
              "version_minor": 0
            },
            "text/plain": [
              "Downloading (…)lve/main/config.json:   0%|          | 0.00/570 [00:00<?, ?B/s]"
            ]
          },
          "metadata": {},
          "output_type": "display_data"
        },
        {
          "data": {
            "application/vnd.jupyter.widget-view+json": {
              "model_id": "44b93683bf174bb9930c371139c6ca93",
              "version_major": 2,
              "version_minor": 0
            },
            "text/plain": [
              "Downloading model.safetensors:   0%|          | 0.00/440M [00:00<?, ?B/s]"
            ]
          },
          "metadata": {},
          "output_type": "display_data"
        },
        {
          "metadata": {
            "tags": null
          },
          "name": "stderr",
          "output_type": "stream",
          "text": [
            "Some weights of the model checkpoint at bert-base-uncased were not used when initializing BertForMaskedLM: ['bert.pooler.dense.weight', 'cls.seq_relationship.bias', 'bert.pooler.dense.bias', 'cls.seq_relationship.weight']\n",
            "- This IS expected if you are initializing BertForMaskedLM from the checkpoint of a model trained on another task or with another architecture (e.g. initializing a BertForSequenceClassification model from a BertForPreTraining model).\n",
            "- This IS NOT expected if you are initializing BertForMaskedLM from the checkpoint of a model that you expect to be exactly identical (initializing a BertForSequenceClassification model from a BertForSequenceClassification model).\n"
          ]
        },
        {
          "data": {
            "application/vnd.jupyter.widget-view+json": {
              "model_id": "8f72ba54e3894ffcad2c40cdd0618615",
              "version_major": 2,
              "version_minor": 0
            },
            "text/plain": [
              "Downloading (…)solve/main/vocab.txt:   0%|          | 0.00/232k [00:00<?, ?B/s]"
            ]
          },
          "metadata": {},
          "output_type": "display_data"
        },
        {
          "data": {
            "application/vnd.jupyter.widget-view+json": {
              "model_id": "799987f13cfe418bbbea1983b10d4da1",
              "version_major": 2,
              "version_minor": 0
            },
            "text/plain": [
              "Downloading (…)okenizer_config.json:   0%|          | 0.00/28.0 [00:00<?, ?B/s]"
            ]
          },
          "metadata": {},
          "output_type": "display_data"
        },
        {
          "metadata": {
            "tags": null
          },
          "name": "stderr",
          "output_type": "stream",
          "text": [
            "Epoch 1/3:   1%|          | 4/459 [00:17<34:24,  4.54s/it]"
          ]
        },
        {
          "metadata": {
            "tags": null
          },
          "name": "stdout",
          "output_type": "stream",
          "text": [
            "Model saved at /content/gdrive/MyDrive/colab/crisisfacts/model/epoch1_batch4\n"
          ]
        },
        {
          "metadata": {
            "tags": null
          },
          "name": "stderr",
          "output_type": "stream",
          "text": [
            "Epoch 1/3:   2%|▏         | 8/459 [00:32<31:22,  4.18s/it]"
          ]
        },
        {
          "metadata": {
            "tags": null
          },
          "name": "stdout",
          "output_type": "stream",
          "text": [
            "Model saved at /content/gdrive/MyDrive/colab/crisisfacts/model/epoch1_batch8\n"
          ]
        },
        {
          "metadata": {
            "tags": null
          },
          "name": "stderr",
          "output_type": "stream",
          "text": [
            "Epoch 1/3:   3%|▎         | 12/459 [00:45<27:09,  3.64s/it]"
          ]
        },
        {
          "metadata": {
            "tags": null
          },
          "name": "stdout",
          "output_type": "stream",
          "text": [
            "Model saved at /content/gdrive/MyDrive/colab/crisisfacts/model/epoch1_batch12\n"
          ]
        },
        {
          "metadata": {
            "tags": null
          },
          "name": "stderr",
          "output_type": "stream",
          "text": [
            "Epoch 1/3:   3%|▎         | 16/459 [00:58<24:48,  3.36s/it]"
          ]
        },
        {
          "metadata": {
            "tags": null
          },
          "name": "stdout",
          "output_type": "stream",
          "text": [
            "Model saved at /content/gdrive/MyDrive/colab/crisisfacts/model/epoch1_batch16\n"
          ]
        },
        {
          "metadata": {
            "tags": null
          },
          "name": "stderr",
          "output_type": "stream",
          "text": [
            "Epoch 1/3:   4%|▍         | 20/459 [01:13<26:52,  3.67s/it]"
          ]
        },
        {
          "metadata": {
            "tags": null
          },
          "name": "stdout",
          "output_type": "stream",
          "text": [
            "Model saved at /content/gdrive/MyDrive/colab/crisisfacts/model/epoch1_batch20\n"
          ]
        },
        {
          "metadata": {
            "tags": null
          },
          "name": "stderr",
          "output_type": "stream",
          "text": [
            "Epoch 1/3:   5%|▌         | 24/459 [01:27<26:48,  3.70s/it]"
          ]
        },
        {
          "metadata": {
            "tags": null
          },
          "name": "stdout",
          "output_type": "stream",
          "text": [
            "Model saved at /content/gdrive/MyDrive/colab/crisisfacts/model/epoch1_batch24\n"
          ]
        },
        {
          "metadata": {
            "tags": null
          },
          "name": "stderr",
          "output_type": "stream",
          "text": [
            "Epoch 1/3:   6%|▌         | 28/459 [01:42<27:36,  3.84s/it]"
          ]
        },
        {
          "metadata": {
            "tags": null
          },
          "name": "stdout",
          "output_type": "stream",
          "text": [
            "Model saved at /content/gdrive/MyDrive/colab/crisisfacts/model/epoch1_batch28\n"
          ]
        },
        {
          "metadata": {
            "tags": null
          },
          "name": "stderr",
          "output_type": "stream",
          "text": [
            "Epoch 1/3:   7%|▋         | 32/459 [02:00<31:59,  4.49s/it]"
          ]
        },
        {
          "metadata": {
            "tags": null
          },
          "name": "stdout",
          "output_type": "stream",
          "text": [
            "Model saved at /content/gdrive/MyDrive/colab/crisisfacts/model/epoch1_batch32\n"
          ]
        },
        {
          "metadata": {
            "tags": null
          },
          "name": "stderr",
          "output_type": "stream",
          "text": [
            "Epoch 1/3:   8%|▊         | 36/459 [02:16<30:25,  4.32s/it]"
          ]
        },
        {
          "metadata": {
            "tags": null
          },
          "name": "stdout",
          "output_type": "stream",
          "text": [
            "Model saved at /content/gdrive/MyDrive/colab/crisisfacts/model/epoch1_batch36\n"
          ]
        },
        {
          "metadata": {
            "tags": null
          },
          "name": "stderr",
          "output_type": "stream",
          "text": [
            "Epoch 1/3:   9%|▊         | 40/459 [02:32<29:05,  4.17s/it]"
          ]
        },
        {
          "metadata": {
            "tags": null
          },
          "name": "stdout",
          "output_type": "stream",
          "text": [
            "Model saved at /content/gdrive/MyDrive/colab/crisisfacts/model/epoch1_batch40\n"
          ]
        },
        {
          "metadata": {
            "tags": null
          },
          "name": "stderr",
          "output_type": "stream",
          "text": [
            "Epoch 1/3:  10%|▉         | 44/459 [02:52<34:41,  5.02s/it]"
          ]
        },
        {
          "metadata": {
            "tags": null
          },
          "name": "stdout",
          "output_type": "stream",
          "text": [
            "Model saved at /content/gdrive/MyDrive/colab/crisisfacts/model/epoch1_batch44\n"
          ]
        },
        {
          "metadata": {
            "tags": null
          },
          "name": "stderr",
          "output_type": "stream",
          "text": [
            "Epoch 1/3:  10%|█         | 48/459 [03:12<32:59,  4.82s/it]"
          ]
        },
        {
          "metadata": {
            "tags": null
          },
          "name": "stdout",
          "output_type": "stream",
          "text": [
            "Model saved at /content/gdrive/MyDrive/colab/crisisfacts/model/epoch1_batch48\n"
          ]
        },
        {
          "metadata": {
            "tags": null
          },
          "name": "stderr",
          "output_type": "stream",
          "text": [
            "Epoch 1/3:  11%|█▏        | 52/459 [03:28<30:16,  4.46s/it]"
          ]
        },
        {
          "metadata": {
            "tags": null
          },
          "name": "stdout",
          "output_type": "stream",
          "text": [
            "Model saved at /content/gdrive/MyDrive/colab/crisisfacts/model/epoch1_batch52\n"
          ]
        },
        {
          "metadata": {
            "tags": null
          },
          "name": "stderr",
          "output_type": "stream",
          "text": [
            "Epoch 1/3:  12%|█▏        | 56/459 [03:47<32:50,  4.89s/it]"
          ]
        },
        {
          "metadata": {
            "tags": null
          },
          "name": "stdout",
          "output_type": "stream",
          "text": [
            "Model saved at /content/gdrive/MyDrive/colab/crisisfacts/model/epoch1_batch56\n"
          ]
        },
        {
          "metadata": {
            "tags": null
          },
          "name": "stderr",
          "output_type": "stream",
          "text": [
            "Epoch 1/3:  13%|█▎        | 60/459 [04:02<28:05,  4.22s/it]"
          ]
        },
        {
          "metadata": {
            "tags": null
          },
          "name": "stdout",
          "output_type": "stream",
          "text": [
            "Model saved at /content/gdrive/MyDrive/colab/crisisfacts/model/epoch1_batch60\n"
          ]
        },
        {
          "metadata": {
            "tags": null
          },
          "name": "stderr",
          "output_type": "stream",
          "text": [
            "Epoch 1/3:  14%|█▍        | 64/459 [04:22<32:27,  4.93s/it]"
          ]
        },
        {
          "metadata": {
            "tags": null
          },
          "name": "stdout",
          "output_type": "stream",
          "text": [
            "Model saved at /content/gdrive/MyDrive/colab/crisisfacts/model/epoch1_batch64\n"
          ]
        },
        {
          "metadata": {
            "tags": null
          },
          "name": "stderr",
          "output_type": "stream",
          "text": [
            "Epoch 1/3:  15%|█▍        | 68/459 [04:38<27:57,  4.29s/it]"
          ]
        },
        {
          "metadata": {
            "tags": null
          },
          "name": "stdout",
          "output_type": "stream",
          "text": [
            "Model saved at /content/gdrive/MyDrive/colab/crisisfacts/model/epoch1_batch68\n"
          ]
        },
        {
          "metadata": {
            "tags": null
          },
          "name": "stderr",
          "output_type": "stream",
          "text": [
            "Epoch 1/3:  16%|█▌        | 72/459 [04:56<28:35,  4.43s/it]"
          ]
        },
        {
          "metadata": {
            "tags": null
          },
          "name": "stdout",
          "output_type": "stream",
          "text": [
            "Model saved at /content/gdrive/MyDrive/colab/crisisfacts/model/epoch1_batch72\n"
          ]
        },
        {
          "metadata": {
            "tags": null
          },
          "name": "stderr",
          "output_type": "stream",
          "text": [
            "Epoch 1/3:  17%|█▋        | 76/459 [05:14<29:22,  4.60s/it]"
          ]
        },
        {
          "metadata": {
            "tags": null
          },
          "name": "stdout",
          "output_type": "stream",
          "text": [
            "Model saved at /content/gdrive/MyDrive/colab/crisisfacts/model/epoch1_batch76\n"
          ]
        },
        {
          "metadata": {
            "tags": null
          },
          "name": "stderr",
          "output_type": "stream",
          "text": [
            "Epoch 1/3:  17%|█▋        | 80/459 [05:30<26:24,  4.18s/it]"
          ]
        },
        {
          "metadata": {
            "tags": null
          },
          "name": "stdout",
          "output_type": "stream",
          "text": [
            "Model saved at /content/gdrive/MyDrive/colab/crisisfacts/model/epoch1_batch80\n"
          ]
        },
        {
          "metadata": {
            "tags": null
          },
          "name": "stderr",
          "output_type": "stream",
          "text": [
            "Epoch 1/3:  18%|█▊        | 84/459 [05:46<26:17,  4.21s/it]"
          ]
        },
        {
          "metadata": {
            "tags": null
          },
          "name": "stdout",
          "output_type": "stream",
          "text": [
            "Model saved at /content/gdrive/MyDrive/colab/crisisfacts/model/epoch1_batch84\n"
          ]
        },
        {
          "metadata": {
            "tags": null
          },
          "name": "stderr",
          "output_type": "stream",
          "text": [
            "Epoch 1/3:  19%|█▉        | 88/459 [06:04<27:26,  4.44s/it]"
          ]
        },
        {
          "metadata": {
            "tags": null
          },
          "name": "stdout",
          "output_type": "stream",
          "text": [
            "Model saved at /content/gdrive/MyDrive/colab/crisisfacts/model/epoch1_batch88\n"
          ]
        },
        {
          "metadata": {
            "tags": null
          },
          "name": "stderr",
          "output_type": "stream",
          "text": [
            "Epoch 1/3:  20%|██        | 92/459 [06:22<27:14,  4.45s/it]"
          ]
        },
        {
          "metadata": {
            "tags": null
          },
          "name": "stdout",
          "output_type": "stream",
          "text": [
            "Model saved at /content/gdrive/MyDrive/colab/crisisfacts/model/epoch1_batch92\n"
          ]
        },
        {
          "metadata": {
            "tags": null
          },
          "name": "stderr",
          "output_type": "stream",
          "text": [
            "Epoch 1/3:  21%|██        | 96/459 [06:38<24:33,  4.06s/it]"
          ]
        },
        {
          "metadata": {
            "tags": null
          },
          "name": "stdout",
          "output_type": "stream",
          "text": [
            "Model saved at /content/gdrive/MyDrive/colab/crisisfacts/model/epoch1_batch96\n"
          ]
        },
        {
          "metadata": {
            "tags": null
          },
          "name": "stderr",
          "output_type": "stream",
          "text": [
            "Epoch 1/3:  22%|██▏       | 100/459 [06:57<27:12,  4.55s/it]"
          ]
        },
        {
          "metadata": {
            "tags": null
          },
          "name": "stdout",
          "output_type": "stream",
          "text": [
            "Model saved at /content/gdrive/MyDrive/colab/crisisfacts/model/epoch1_batch100\n"
          ]
        },
        {
          "metadata": {
            "tags": null
          },
          "name": "stderr",
          "output_type": "stream",
          "text": [
            "Epoch 1/3:  23%|██▎       | 104/459 [07:11<22:04,  3.73s/it]"
          ]
        },
        {
          "metadata": {
            "tags": null
          },
          "name": "stdout",
          "output_type": "stream",
          "text": [
            "Model saved at /content/gdrive/MyDrive/colab/crisisfacts/model/epoch1_batch104\n"
          ]
        },
        {
          "metadata": {
            "tags": null
          },
          "name": "stderr",
          "output_type": "stream",
          "text": [
            "Epoch 1/3:  24%|██▎       | 108/459 [07:21<17:22,  2.97s/it]"
          ]
        },
        {
          "metadata": {
            "tags": null
          },
          "name": "stdout",
          "output_type": "stream",
          "text": [
            "Model saved at /content/gdrive/MyDrive/colab/crisisfacts/model/epoch1_batch108\n"
          ]
        },
        {
          "metadata": {
            "tags": null
          },
          "name": "stderr",
          "output_type": "stream",
          "text": [
            "Epoch 1/3:  24%|██▍       | 112/459 [07:32<16:33,  2.86s/it]"
          ]
        },
        {
          "metadata": {
            "tags": null
          },
          "name": "stdout",
          "output_type": "stream",
          "text": [
            "Model saved at /content/gdrive/MyDrive/colab/crisisfacts/model/epoch1_batch112\n"
          ]
        },
        {
          "metadata": {
            "tags": null
          },
          "name": "stderr",
          "output_type": "stream",
          "text": [
            "Epoch 1/3:  25%|██▌       | 116/459 [07:42<14:39,  2.56s/it]"
          ]
        },
        {
          "metadata": {
            "tags": null
          },
          "name": "stdout",
          "output_type": "stream",
          "text": [
            "Model saved at /content/gdrive/MyDrive/colab/crisisfacts/model/epoch1_batch116\n"
          ]
        },
        {
          "metadata": {
            "tags": null
          },
          "name": "stderr",
          "output_type": "stream",
          "text": [
            "Epoch 1/3:  26%|██▌       | 120/459 [07:53<17:31,  3.10s/it]"
          ]
        },
        {
          "metadata": {
            "tags": null
          },
          "name": "stdout",
          "output_type": "stream",
          "text": [
            "Model saved at /content/gdrive/MyDrive/colab/crisisfacts/model/epoch1_batch120\n"
          ]
        },
        {
          "metadata": {
            "tags": null
          },
          "name": "stderr",
          "output_type": "stream",
          "text": [
            "Epoch 1/3:  27%|██▋       | 124/459 [08:02<14:32,  2.60s/it]"
          ]
        },
        {
          "metadata": {
            "tags": null
          },
          "name": "stdout",
          "output_type": "stream",
          "text": [
            "Model saved at /content/gdrive/MyDrive/colab/crisisfacts/model/epoch1_batch124\n"
          ]
        },
        {
          "metadata": {
            "tags": null
          },
          "name": "stderr",
          "output_type": "stream",
          "text": [
            "Epoch 1/3:  28%|██▊       | 128/459 [08:14<15:34,  2.82s/it]"
          ]
        },
        {
          "metadata": {
            "tags": null
          },
          "name": "stdout",
          "output_type": "stream",
          "text": [
            "Model saved at /content/gdrive/MyDrive/colab/crisisfacts/model/epoch1_batch128\n"
          ]
        },
        {
          "metadata": {
            "tags": null
          },
          "name": "stderr",
          "output_type": "stream",
          "text": [
            "Epoch 1/3:  29%|██▉       | 132/459 [08:23<14:02,  2.58s/it]"
          ]
        },
        {
          "metadata": {
            "tags": null
          },
          "name": "stdout",
          "output_type": "stream",
          "text": [
            "Model saved at /content/gdrive/MyDrive/colab/crisisfacts/model/epoch1_batch132\n"
          ]
        },
        {
          "metadata": {
            "tags": null
          },
          "name": "stderr",
          "output_type": "stream",
          "text": [
            "Epoch 1/3:  30%|██▉       | 136/459 [08:33<13:50,  2.57s/it]"
          ]
        },
        {
          "metadata": {
            "tags": null
          },
          "name": "stdout",
          "output_type": "stream",
          "text": [
            "Model saved at /content/gdrive/MyDrive/colab/crisisfacts/model/epoch1_batch136\n"
          ]
        },
        {
          "metadata": {
            "tags": null
          },
          "name": "stderr",
          "output_type": "stream",
          "text": [
            "Epoch 1/3:  31%|███       | 140/459 [08:42<14:00,  2.64s/it]"
          ]
        },
        {
          "metadata": {
            "tags": null
          },
          "name": "stdout",
          "output_type": "stream",
          "text": [
            "Model saved at /content/gdrive/MyDrive/colab/crisisfacts/model/epoch1_batch140\n"
          ]
        },
        {
          "metadata": {
            "tags": null
          },
          "name": "stderr",
          "output_type": "stream",
          "text": [
            "Epoch 1/3:  31%|███▏      | 144/459 [08:53<13:44,  2.62s/it]"
          ]
        },
        {
          "metadata": {
            "tags": null
          },
          "name": "stdout",
          "output_type": "stream",
          "text": [
            "Model saved at /content/gdrive/MyDrive/colab/crisisfacts/model/epoch1_batch144\n"
          ]
        },
        {
          "metadata": {
            "tags": null
          },
          "name": "stderr",
          "output_type": "stream",
          "text": [
            "Epoch 1/3:  32%|███▏      | 148/459 [09:03<14:22,  2.77s/it]"
          ]
        },
        {
          "metadata": {
            "tags": null
          },
          "name": "stdout",
          "output_type": "stream",
          "text": [
            "Model saved at /content/gdrive/MyDrive/colab/crisisfacts/model/epoch1_batch148\n"
          ]
        },
        {
          "metadata": {
            "tags": null
          },
          "name": "stderr",
          "output_type": "stream",
          "text": [
            "Epoch 1/3:  33%|███▎      | 152/459 [09:12<12:56,  2.53s/it]"
          ]
        },
        {
          "metadata": {
            "tags": null
          },
          "name": "stdout",
          "output_type": "stream",
          "text": [
            "Model saved at /content/gdrive/MyDrive/colab/crisisfacts/model/epoch1_batch152\n"
          ]
        },
        {
          "metadata": {
            "tags": null
          },
          "name": "stderr",
          "output_type": "stream",
          "text": [
            "Epoch 1/3:  34%|███▍      | 156/459 [09:24<14:29,  2.87s/it]"
          ]
        },
        {
          "metadata": {
            "tags": null
          },
          "name": "stdout",
          "output_type": "stream",
          "text": [
            "Model saved at /content/gdrive/MyDrive/colab/crisisfacts/model/epoch1_batch156\n"
          ]
        },
        {
          "metadata": {
            "tags": null
          },
          "name": "stderr",
          "output_type": "stream",
          "text": [
            "Epoch 1/3:  35%|███▍      | 160/459 [09:33<13:04,  2.62s/it]"
          ]
        },
        {
          "metadata": {
            "tags": null
          },
          "name": "stdout",
          "output_type": "stream",
          "text": [
            "Model saved at /content/gdrive/MyDrive/colab/crisisfacts/model/epoch1_batch160\n"
          ]
        },
        {
          "metadata": {
            "tags": null
          },
          "name": "stderr",
          "output_type": "stream",
          "text": [
            "Epoch 1/3:  36%|███▌      | 164/459 [09:44<13:36,  2.77s/it]"
          ]
        },
        {
          "metadata": {
            "tags": null
          },
          "name": "stdout",
          "output_type": "stream",
          "text": [
            "Model saved at /content/gdrive/MyDrive/colab/crisisfacts/model/epoch1_batch164\n"
          ]
        },
        {
          "metadata": {
            "tags": null
          },
          "name": "stderr",
          "output_type": "stream",
          "text": [
            "Epoch 1/3:  37%|███▋      | 168/459 [09:53<12:27,  2.57s/it]"
          ]
        },
        {
          "metadata": {
            "tags": null
          },
          "name": "stdout",
          "output_type": "stream",
          "text": [
            "Model saved at /content/gdrive/MyDrive/colab/crisisfacts/model/epoch1_batch168\n"
          ]
        },
        {
          "metadata": {
            "tags": null
          },
          "name": "stderr",
          "output_type": "stream",
          "text": [
            "Epoch 1/3:  37%|███▋      | 172/459 [10:08<16:33,  3.46s/it]"
          ]
        },
        {
          "metadata": {
            "tags": null
          },
          "name": "stdout",
          "output_type": "stream",
          "text": [
            "Model saved at /content/gdrive/MyDrive/colab/crisisfacts/model/epoch1_batch172\n"
          ]
        },
        {
          "metadata": {
            "tags": null
          },
          "name": "stderr",
          "output_type": "stream",
          "text": [
            "Epoch 1/3:  38%|███▊      | 176/459 [10:17<13:00,  2.76s/it]"
          ]
        },
        {
          "metadata": {
            "tags": null
          },
          "name": "stdout",
          "output_type": "stream",
          "text": [
            "Model saved at /content/gdrive/MyDrive/colab/crisisfacts/model/epoch1_batch176\n"
          ]
        },
        {
          "metadata": {
            "tags": null
          },
          "name": "stderr",
          "output_type": "stream",
          "text": [
            "Epoch 1/3:  39%|███▉      | 180/459 [10:26<11:10,  2.40s/it]"
          ]
        },
        {
          "metadata": {
            "tags": null
          },
          "name": "stdout",
          "output_type": "stream",
          "text": [
            "Model saved at /content/gdrive/MyDrive/colab/crisisfacts/model/epoch1_batch180\n"
          ]
        },
        {
          "metadata": {
            "tags": null
          },
          "name": "stderr",
          "output_type": "stream",
          "text": [
            "Epoch 1/3:  40%|████      | 184/459 [10:36<11:32,  2.52s/it]"
          ]
        },
        {
          "metadata": {
            "tags": null
          },
          "name": "stdout",
          "output_type": "stream",
          "text": [
            "Model saved at /content/gdrive/MyDrive/colab/crisisfacts/model/epoch1_batch184\n"
          ]
        },
        {
          "metadata": {
            "tags": null
          },
          "name": "stderr",
          "output_type": "stream",
          "text": [
            "Epoch 1/3:  41%|████      | 188/459 [10:45<11:03,  2.45s/it]"
          ]
        },
        {
          "metadata": {
            "tags": null
          },
          "name": "stdout",
          "output_type": "stream",
          "text": [
            "Model saved at /content/gdrive/MyDrive/colab/crisisfacts/model/epoch1_batch188\n"
          ]
        },
        {
          "metadata": {
            "tags": null
          },
          "name": "stderr",
          "output_type": "stream",
          "text": [
            "Epoch 1/3:  42%|████▏     | 192/459 [10:55<12:10,  2.74s/it]"
          ]
        },
        {
          "metadata": {
            "tags": null
          },
          "name": "stdout",
          "output_type": "stream",
          "text": [
            "Model saved at /content/gdrive/MyDrive/colab/crisisfacts/model/epoch1_batch192\n"
          ]
        },
        {
          "metadata": {
            "tags": null
          },
          "name": "stderr",
          "output_type": "stream",
          "text": [
            "Epoch 1/3:  43%|████▎     | 196/459 [11:04<10:38,  2.43s/it]"
          ]
        },
        {
          "metadata": {
            "tags": null
          },
          "name": "stdout",
          "output_type": "stream",
          "text": [
            "Model saved at /content/gdrive/MyDrive/colab/crisisfacts/model/epoch1_batch196\n"
          ]
        },
        {
          "metadata": {
            "tags": null
          },
          "name": "stderr",
          "output_type": "stream",
          "text": [
            "Epoch 1/3:  44%|████▎     | 200/459 [11:14<11:34,  2.68s/it]"
          ]
        },
        {
          "metadata": {
            "tags": null
          },
          "name": "stdout",
          "output_type": "stream",
          "text": [
            "Model saved at /content/gdrive/MyDrive/colab/crisisfacts/model/epoch1_batch200\n"
          ]
        },
        {
          "metadata": {
            "tags": null
          },
          "name": "stderr",
          "output_type": "stream",
          "text": [
            "Epoch 1/3:  44%|████▍     | 204/459 [11:24<10:42,  2.52s/it]"
          ]
        },
        {
          "metadata": {
            "tags": null
          },
          "name": "stdout",
          "output_type": "stream",
          "text": [
            "Model saved at /content/gdrive/MyDrive/colab/crisisfacts/model/epoch1_batch204\n"
          ]
        },
        {
          "metadata": {
            "tags": null
          },
          "name": "stderr",
          "output_type": "stream",
          "text": [
            "Epoch 1/3:  45%|████▌     | 208/459 [11:35<12:36,  3.01s/it]"
          ]
        },
        {
          "metadata": {
            "tags": null
          },
          "name": "stdout",
          "output_type": "stream",
          "text": [
            "Model saved at /content/gdrive/MyDrive/colab/crisisfacts/model/epoch1_batch208\n"
          ]
        },
        {
          "metadata": {
            "tags": null
          },
          "name": "stderr",
          "output_type": "stream",
          "text": [
            "Epoch 1/3:  46%|████▌     | 212/459 [11:42<08:58,  2.18s/it]"
          ]
        },
        {
          "metadata": {
            "tags": null
          },
          "name": "stdout",
          "output_type": "stream",
          "text": [
            "Model saved at /content/gdrive/MyDrive/colab/crisisfacts/model/epoch1_batch212\n"
          ]
        },
        {
          "metadata": {
            "tags": null
          },
          "name": "stderr",
          "output_type": "stream",
          "text": [
            "Epoch 1/3:  47%|████▋     | 216/459 [11:52<09:50,  2.43s/it]"
          ]
        },
        {
          "metadata": {
            "tags": null
          },
          "name": "stdout",
          "output_type": "stream",
          "text": [
            "Model saved at /content/gdrive/MyDrive/colab/crisisfacts/model/epoch1_batch216\n"
          ]
        },
        {
          "metadata": {
            "tags": null
          },
          "name": "stderr",
          "output_type": "stream",
          "text": [
            "Epoch 1/3:  48%|████▊     | 220/459 [11:59<08:04,  2.03s/it]"
          ]
        },
        {
          "metadata": {
            "tags": null
          },
          "name": "stdout",
          "output_type": "stream",
          "text": [
            "Model saved at /content/gdrive/MyDrive/colab/crisisfacts/model/epoch1_batch220\n"
          ]
        },
        {
          "metadata": {
            "tags": null
          },
          "name": "stderr",
          "output_type": "stream",
          "text": [
            "Epoch 1/3:  49%|████▉     | 224/459 [12:08<09:05,  2.32s/it]"
          ]
        },
        {
          "metadata": {
            "tags": null
          },
          "name": "stdout",
          "output_type": "stream",
          "text": [
            "Model saved at /content/gdrive/MyDrive/colab/crisisfacts/model/epoch1_batch224\n"
          ]
        },
        {
          "metadata": {
            "tags": null
          },
          "name": "stderr",
          "output_type": "stream",
          "text": [
            "Epoch 1/3:  50%|████▉     | 228/459 [12:15<08:02,  2.09s/it]"
          ]
        },
        {
          "metadata": {
            "tags": null
          },
          "name": "stdout",
          "output_type": "stream",
          "text": [
            "Model saved at /content/gdrive/MyDrive/colab/crisisfacts/model/epoch1_batch228\n"
          ]
        },
        {
          "metadata": {
            "tags": null
          },
          "name": "stderr",
          "output_type": "stream",
          "text": [
            "Epoch 1/3:  51%|█████     | 232/459 [12:24<08:47,  2.32s/it]"
          ]
        },
        {
          "metadata": {
            "tags": null
          },
          "name": "stdout",
          "output_type": "stream",
          "text": [
            "Model saved at /content/gdrive/MyDrive/colab/crisisfacts/model/epoch1_batch232\n"
          ]
        },
        {
          "metadata": {
            "tags": null
          },
          "name": "stderr",
          "output_type": "stream",
          "text": [
            "Epoch 1/3:  51%|█████▏    | 236/459 [12:32<07:58,  2.15s/it]"
          ]
        },
        {
          "metadata": {
            "tags": null
          },
          "name": "stdout",
          "output_type": "stream",
          "text": [
            "Model saved at /content/gdrive/MyDrive/colab/crisisfacts/model/epoch1_batch236\n"
          ]
        },
        {
          "metadata": {
            "tags": null
          },
          "name": "stderr",
          "output_type": "stream",
          "text": [
            "Epoch 1/3:  52%|█████▏    | 240/459 [12:41<08:13,  2.25s/it]"
          ]
        },
        {
          "metadata": {
            "tags": null
          },
          "name": "stdout",
          "output_type": "stream",
          "text": [
            "Model saved at /content/gdrive/MyDrive/colab/crisisfacts/model/epoch1_batch240\n"
          ]
        },
        {
          "metadata": {
            "tags": null
          },
          "name": "stderr",
          "output_type": "stream",
          "text": [
            "Epoch 1/3:  53%|█████▎    | 244/459 [12:48<07:21,  2.06s/it]"
          ]
        },
        {
          "metadata": {
            "tags": null
          },
          "name": "stdout",
          "output_type": "stream",
          "text": [
            "Model saved at /content/gdrive/MyDrive/colab/crisisfacts/model/epoch1_batch244\n"
          ]
        },
        {
          "metadata": {
            "tags": null
          },
          "name": "stderr",
          "output_type": "stream",
          "text": [
            "Epoch 1/3:  54%|█████▍    | 248/459 [12:57<07:50,  2.23s/it]"
          ]
        },
        {
          "metadata": {
            "tags": null
          },
          "name": "stdout",
          "output_type": "stream",
          "text": [
            "Model saved at /content/gdrive/MyDrive/colab/crisisfacts/model/epoch1_batch248\n"
          ]
        },
        {
          "metadata": {
            "tags": null
          },
          "name": "stderr",
          "output_type": "stream",
          "text": [
            "Epoch 1/3:  55%|█████▍    | 252/459 [13:05<07:19,  2.12s/it]"
          ]
        },
        {
          "metadata": {
            "tags": null
          },
          "name": "stdout",
          "output_type": "stream",
          "text": [
            "Model saved at /content/gdrive/MyDrive/colab/crisisfacts/model/epoch1_batch252\n"
          ]
        },
        {
          "metadata": {
            "tags": null
          },
          "name": "stderr",
          "output_type": "stream",
          "text": [
            "Epoch 1/3:  56%|█████▌    | 256/459 [13:13<07:29,  2.21s/it]"
          ]
        },
        {
          "metadata": {
            "tags": null
          },
          "name": "stdout",
          "output_type": "stream",
          "text": [
            "Model saved at /content/gdrive/MyDrive/colab/crisisfacts/model/epoch1_batch256\n"
          ]
        },
        {
          "metadata": {
            "tags": null
          },
          "name": "stderr",
          "output_type": "stream",
          "text": [
            "Epoch 1/3:  57%|█████▋    | 260/459 [13:22<08:13,  2.48s/it]"
          ]
        },
        {
          "metadata": {
            "tags": null
          },
          "name": "stdout",
          "output_type": "stream",
          "text": [
            "Model saved at /content/gdrive/MyDrive/colab/crisisfacts/model/epoch1_batch260\n"
          ]
        },
        {
          "metadata": {
            "tags": null
          },
          "name": "stderr",
          "output_type": "stream",
          "text": [
            "Epoch 1/3:  58%|█████▊    | 264/459 [13:31<07:29,  2.31s/it]"
          ]
        },
        {
          "metadata": {
            "tags": null
          },
          "name": "stdout",
          "output_type": "stream",
          "text": [
            "Model saved at /content/gdrive/MyDrive/colab/crisisfacts/model/epoch1_batch264\n"
          ]
        },
        {
          "metadata": {
            "tags": null
          },
          "name": "stderr",
          "output_type": "stream",
          "text": [
            "Epoch 1/3:  58%|█████▊    | 268/459 [13:39<06:46,  2.13s/it]"
          ]
        },
        {
          "metadata": {
            "tags": null
          },
          "name": "stdout",
          "output_type": "stream",
          "text": [
            "Model saved at /content/gdrive/MyDrive/colab/crisisfacts/model/epoch1_batch268\n"
          ]
        },
        {
          "metadata": {
            "tags": null
          },
          "name": "stderr",
          "output_type": "stream",
          "text": [
            "Epoch 1/3:  59%|█████▉    | 272/459 [13:47<06:39,  2.14s/it]"
          ]
        },
        {
          "metadata": {
            "tags": null
          },
          "name": "stdout",
          "output_type": "stream",
          "text": [
            "Model saved at /content/gdrive/MyDrive/colab/crisisfacts/model/epoch1_batch272\n"
          ]
        },
        {
          "metadata": {
            "tags": null
          },
          "name": "stderr",
          "output_type": "stream",
          "text": [
            "Epoch 1/3:  60%|██████    | 276/459 [13:55<06:32,  2.14s/it]"
          ]
        },
        {
          "metadata": {
            "tags": null
          },
          "name": "stdout",
          "output_type": "stream",
          "text": [
            "Model saved at /content/gdrive/MyDrive/colab/crisisfacts/model/epoch1_batch276\n"
          ]
        },
        {
          "metadata": {
            "tags": null
          },
          "name": "stderr",
          "output_type": "stream",
          "text": [
            "Epoch 1/3:  61%|██████    | 280/459 [14:02<05:51,  1.96s/it]"
          ]
        },
        {
          "metadata": {
            "tags": null
          },
          "name": "stdout",
          "output_type": "stream",
          "text": [
            "Model saved at /content/gdrive/MyDrive/colab/crisisfacts/model/epoch1_batch280\n"
          ]
        },
        {
          "metadata": {
            "tags": null
          },
          "name": "stderr",
          "output_type": "stream",
          "text": [
            "Epoch 1/3:  62%|██████▏   | 284/459 [14:11<06:19,  2.17s/it]"
          ]
        },
        {
          "metadata": {
            "tags": null
          },
          "name": "stdout",
          "output_type": "stream",
          "text": [
            "Model saved at /content/gdrive/MyDrive/colab/crisisfacts/model/epoch1_batch284\n"
          ]
        },
        {
          "metadata": {
            "tags": null
          },
          "name": "stderr",
          "output_type": "stream",
          "text": [
            "Epoch 1/3:  63%|██████▎   | 288/459 [14:18<05:38,  1.98s/it]"
          ]
        },
        {
          "metadata": {
            "tags": null
          },
          "name": "stdout",
          "output_type": "stream",
          "text": [
            "Model saved at /content/gdrive/MyDrive/colab/crisisfacts/model/epoch1_batch288\n"
          ]
        },
        {
          "metadata": {
            "tags": null
          },
          "name": "stderr",
          "output_type": "stream",
          "text": [
            "Epoch 1/3:  64%|██████▎   | 292/459 [14:27<06:14,  2.24s/it]"
          ]
        },
        {
          "metadata": {
            "tags": null
          },
          "name": "stdout",
          "output_type": "stream",
          "text": [
            "Model saved at /content/gdrive/MyDrive/colab/crisisfacts/model/epoch1_batch292\n"
          ]
        },
        {
          "metadata": {
            "tags": null
          },
          "name": "stderr",
          "output_type": "stream",
          "text": [
            "Epoch 1/3:  64%|██████▍   | 296/459 [14:35<05:36,  2.07s/it]"
          ]
        },
        {
          "metadata": {
            "tags": null
          },
          "name": "stdout",
          "output_type": "stream",
          "text": [
            "Model saved at /content/gdrive/MyDrive/colab/crisisfacts/model/epoch1_batch296\n"
          ]
        },
        {
          "metadata": {
            "tags": null
          },
          "name": "stderr",
          "output_type": "stream",
          "text": [
            "Epoch 1/3:  65%|██████▌   | 300/459 [14:43<05:56,  2.24s/it]"
          ]
        },
        {
          "metadata": {
            "tags": null
          },
          "name": "stdout",
          "output_type": "stream",
          "text": [
            "Model saved at /content/gdrive/MyDrive/colab/crisisfacts/model/epoch1_batch300\n"
          ]
        },
        {
          "metadata": {
            "tags": null
          },
          "name": "stderr",
          "output_type": "stream",
          "text": [
            "Epoch 1/3:  66%|██████▌   | 304/459 [14:51<05:07,  1.99s/it]"
          ]
        },
        {
          "metadata": {
            "tags": null
          },
          "name": "stdout",
          "output_type": "stream",
          "text": [
            "Model saved at /content/gdrive/MyDrive/colab/crisisfacts/model/epoch1_batch304\n"
          ]
        },
        {
          "metadata": {
            "tags": null
          },
          "name": "stderr",
          "output_type": "stream",
          "text": [
            "Epoch 1/3:  67%|██████▋   | 308/459 [15:00<05:50,  2.32s/it]"
          ]
        },
        {
          "metadata": {
            "tags": null
          },
          "name": "stdout",
          "output_type": "stream",
          "text": [
            "Model saved at /content/gdrive/MyDrive/colab/crisisfacts/model/epoch1_batch308\n"
          ]
        },
        {
          "metadata": {
            "tags": null
          },
          "name": "stderr",
          "output_type": "stream",
          "text": [
            "Epoch 1/3:  68%|██████▊   | 312/459 [15:07<04:50,  1.98s/it]"
          ]
        },
        {
          "metadata": {
            "tags": null
          },
          "name": "stdout",
          "output_type": "stream",
          "text": [
            "Model saved at /content/gdrive/MyDrive/colab/crisisfacts/model/epoch1_batch312\n"
          ]
        },
        {
          "metadata": {
            "tags": null
          },
          "name": "stderr",
          "output_type": "stream",
          "text": [
            "Epoch 1/3:  69%|██████▉   | 316/459 [15:16<05:40,  2.38s/it]"
          ]
        },
        {
          "metadata": {
            "tags": null
          },
          "name": "stdout",
          "output_type": "stream",
          "text": [
            "Model saved at /content/gdrive/MyDrive/colab/crisisfacts/model/epoch1_batch316\n"
          ]
        },
        {
          "metadata": {
            "tags": null
          },
          "name": "stderr",
          "output_type": "stream",
          "text": [
            "Epoch 1/3:  70%|██████▉   | 320/459 [15:23<04:35,  1.98s/it]"
          ]
        },
        {
          "metadata": {
            "tags": null
          },
          "name": "stdout",
          "output_type": "stream",
          "text": [
            "Model saved at /content/gdrive/MyDrive/colab/crisisfacts/model/epoch1_batch320\n"
          ]
        },
        {
          "metadata": {
            "tags": null
          },
          "name": "stderr",
          "output_type": "stream",
          "text": [
            "Epoch 1/3:  71%|███████   | 324/459 [15:32<04:57,  2.20s/it]"
          ]
        },
        {
          "metadata": {
            "tags": null
          },
          "name": "stdout",
          "output_type": "stream",
          "text": [
            "Model saved at /content/gdrive/MyDrive/colab/crisisfacts/model/epoch1_batch324\n"
          ]
        },
        {
          "metadata": {
            "tags": null
          },
          "name": "stderr",
          "output_type": "stream",
          "text": [
            "Epoch 1/3:  71%|███████▏  | 328/459 [15:39<04:30,  2.07s/it]"
          ]
        },
        {
          "metadata": {
            "tags": null
          },
          "name": "stdout",
          "output_type": "stream",
          "text": [
            "Model saved at /content/gdrive/MyDrive/colab/crisisfacts/model/epoch1_batch328\n"
          ]
        },
        {
          "metadata": {
            "tags": null
          },
          "name": "stderr",
          "output_type": "stream",
          "text": [
            "Epoch 1/3:  72%|███████▏  | 332/459 [15:48<04:49,  2.28s/it]"
          ]
        },
        {
          "metadata": {
            "tags": null
          },
          "name": "stdout",
          "output_type": "stream",
          "text": [
            "Model saved at /content/gdrive/MyDrive/colab/crisisfacts/model/epoch1_batch332\n"
          ]
        },
        {
          "metadata": {
            "tags": null
          },
          "name": "stderr",
          "output_type": "stream",
          "text": [
            "Epoch 1/3:  73%|███████▎  | 336/459 [15:55<04:10,  2.04s/it]"
          ]
        },
        {
          "metadata": {
            "tags": null
          },
          "name": "stdout",
          "output_type": "stream",
          "text": [
            "Model saved at /content/gdrive/MyDrive/colab/crisisfacts/model/epoch1_batch336\n"
          ]
        },
        {
          "metadata": {
            "tags": null
          },
          "name": "stderr",
          "output_type": "stream",
          "text": [
            "Epoch 1/3:  74%|███████▍  | 340/459 [16:04<04:29,  2.26s/it]"
          ]
        },
        {
          "metadata": {
            "tags": null
          },
          "name": "stdout",
          "output_type": "stream",
          "text": [
            "Model saved at /content/gdrive/MyDrive/colab/crisisfacts/model/epoch1_batch340\n"
          ]
        },
        {
          "metadata": {
            "tags": null
          },
          "name": "stderr",
          "output_type": "stream",
          "text": [
            "Epoch 1/3:  75%|███████▍  | 344/459 [16:11<03:53,  2.03s/it]"
          ]
        },
        {
          "metadata": {
            "tags": null
          },
          "name": "stdout",
          "output_type": "stream",
          "text": [
            "Model saved at /content/gdrive/MyDrive/colab/crisisfacts/model/epoch1_batch344\n"
          ]
        },
        {
          "metadata": {
            "tags": null
          },
          "name": "stderr",
          "output_type": "stream",
          "text": [
            "Epoch 1/3:  76%|███████▌  | 348/459 [16:20<04:14,  2.29s/it]"
          ]
        },
        {
          "metadata": {
            "tags": null
          },
          "name": "stdout",
          "output_type": "stream",
          "text": [
            "Model saved at /content/gdrive/MyDrive/colab/crisisfacts/model/epoch1_batch348\n"
          ]
        },
        {
          "metadata": {
            "tags": null
          },
          "name": "stderr",
          "output_type": "stream",
          "text": [
            "Epoch 1/3:  77%|███████▋  | 352/459 [16:27<03:34,  2.00s/it]"
          ]
        },
        {
          "metadata": {
            "tags": null
          },
          "name": "stdout",
          "output_type": "stream",
          "text": [
            "Model saved at /content/gdrive/MyDrive/colab/crisisfacts/model/epoch1_batch352\n"
          ]
        },
        {
          "metadata": {
            "tags": null
          },
          "name": "stderr",
          "output_type": "stream",
          "text": [
            "Epoch 1/3:  78%|███████▊  | 356/459 [16:36<03:52,  2.26s/it]"
          ]
        },
        {
          "metadata": {
            "tags": null
          },
          "name": "stdout",
          "output_type": "stream",
          "text": [
            "Model saved at /content/gdrive/MyDrive/colab/crisisfacts/model/epoch1_batch356\n"
          ]
        },
        {
          "metadata": {
            "tags": null
          },
          "name": "stderr",
          "output_type": "stream",
          "text": [
            "Epoch 1/3:  78%|███████▊  | 360/459 [16:43<03:18,  2.01s/it]"
          ]
        },
        {
          "metadata": {
            "tags": null
          },
          "name": "stdout",
          "output_type": "stream",
          "text": [
            "Model saved at /content/gdrive/MyDrive/colab/crisisfacts/model/epoch1_batch360\n"
          ]
        },
        {
          "metadata": {
            "tags": null
          },
          "name": "stderr",
          "output_type": "stream",
          "text": [
            "Epoch 1/3:  79%|███████▉  | 364/459 [16:52<03:32,  2.23s/it]"
          ]
        },
        {
          "metadata": {
            "tags": null
          },
          "name": "stdout",
          "output_type": "stream",
          "text": [
            "Model saved at /content/gdrive/MyDrive/colab/crisisfacts/model/epoch1_batch364\n"
          ]
        },
        {
          "metadata": {
            "tags": null
          },
          "name": "stderr",
          "output_type": "stream",
          "text": [
            "Epoch 1/3:  80%|████████  | 368/459 [17:00<03:06,  2.05s/it]"
          ]
        },
        {
          "metadata": {
            "tags": null
          },
          "name": "stdout",
          "output_type": "stream",
          "text": [
            "Model saved at /content/gdrive/MyDrive/colab/crisisfacts/model/epoch1_batch368\n"
          ]
        },
        {
          "metadata": {
            "tags": null
          },
          "name": "stderr",
          "output_type": "stream",
          "text": [
            "Epoch 1/3:  81%|████████  | 372/459 [17:08<03:10,  2.19s/it]"
          ]
        },
        {
          "metadata": {
            "tags": null
          },
          "name": "stdout",
          "output_type": "stream",
          "text": [
            "Model saved at /content/gdrive/MyDrive/colab/crisisfacts/model/epoch1_batch372\n"
          ]
        },
        {
          "metadata": {
            "tags": null
          },
          "name": "stderr",
          "output_type": "stream",
          "text": [
            "Epoch 1/3:  82%|████████▏ | 376/459 [17:15<02:49,  2.04s/it]"
          ]
        },
        {
          "metadata": {
            "tags": null
          },
          "name": "stdout",
          "output_type": "stream",
          "text": [
            "Model saved at /content/gdrive/MyDrive/colab/crisisfacts/model/epoch1_batch376\n"
          ]
        },
        {
          "metadata": {
            "tags": null
          },
          "name": "stderr",
          "output_type": "stream",
          "text": [
            "Epoch 1/3:  83%|████████▎ | 380/459 [17:23<02:42,  2.05s/it]"
          ]
        },
        {
          "metadata": {
            "tags": null
          },
          "name": "stdout",
          "output_type": "stream",
          "text": [
            "Model saved at /content/gdrive/MyDrive/colab/crisisfacts/model/epoch1_batch380\n"
          ]
        },
        {
          "metadata": {
            "tags": null
          },
          "name": "stderr",
          "output_type": "stream",
          "text": [
            "Epoch 1/3:  84%|████████▎ | 384/459 [17:31<02:36,  2.09s/it]"
          ]
        },
        {
          "metadata": {
            "tags": null
          },
          "name": "stdout",
          "output_type": "stream",
          "text": [
            "Model saved at /content/gdrive/MyDrive/colab/crisisfacts/model/epoch1_batch384\n"
          ]
        },
        {
          "metadata": {
            "tags": null
          },
          "name": "stderr",
          "output_type": "stream",
          "text": [
            "Epoch 1/3:  85%|████████▍ | 388/459 [17:39<02:28,  2.10s/it]"
          ]
        },
        {
          "metadata": {
            "tags": null
          },
          "name": "stdout",
          "output_type": "stream",
          "text": [
            "Model saved at /content/gdrive/MyDrive/colab/crisisfacts/model/epoch1_batch388\n"
          ]
        },
        {
          "metadata": {
            "tags": null
          },
          "name": "stderr",
          "output_type": "stream",
          "text": [
            "Epoch 1/3:  85%|████████▌ | 392/459 [17:48<02:22,  2.13s/it]"
          ]
        },
        {
          "metadata": {
            "tags": null
          },
          "name": "stdout",
          "output_type": "stream",
          "text": [
            "Model saved at /content/gdrive/MyDrive/colab/crisisfacts/model/epoch1_batch392\n"
          ]
        },
        {
          "metadata": {
            "tags": null
          },
          "name": "stderr",
          "output_type": "stream",
          "text": [
            "Epoch 1/3:  86%|████████▋ | 396/459 [17:55<02:04,  1.98s/it]"
          ]
        },
        {
          "metadata": {
            "tags": null
          },
          "name": "stdout",
          "output_type": "stream",
          "text": [
            "Model saved at /content/gdrive/MyDrive/colab/crisisfacts/model/epoch1_batch396\n"
          ]
        },
        {
          "metadata": {
            "tags": null
          },
          "name": "stderr",
          "output_type": "stream",
          "text": [
            "Epoch 1/3:  87%|████████▋ | 400/459 [18:04<02:10,  2.21s/it]"
          ]
        },
        {
          "metadata": {
            "tags": null
          },
          "name": "stdout",
          "output_type": "stream",
          "text": [
            "Model saved at /content/gdrive/MyDrive/colab/crisisfacts/model/epoch1_batch400\n"
          ]
        },
        {
          "metadata": {
            "tags": null
          },
          "name": "stderr",
          "output_type": "stream",
          "text": [
            "Epoch 1/3:  88%|████████▊ | 404/459 [18:11<01:48,  1.97s/it]"
          ]
        },
        {
          "metadata": {
            "tags": null
          },
          "name": "stdout",
          "output_type": "stream",
          "text": [
            "Model saved at /content/gdrive/MyDrive/colab/crisisfacts/model/epoch1_batch404\n"
          ]
        },
        {
          "metadata": {
            "tags": null
          },
          "name": "stderr",
          "output_type": "stream",
          "text": [
            "Epoch 1/3:  89%|████████▉ | 408/459 [18:20<01:52,  2.20s/it]"
          ]
        },
        {
          "metadata": {
            "tags": null
          },
          "name": "stdout",
          "output_type": "stream",
          "text": [
            "Model saved at /content/gdrive/MyDrive/colab/crisisfacts/model/epoch1_batch408\n"
          ]
        },
        {
          "metadata": {
            "tags": null
          },
          "name": "stderr",
          "output_type": "stream",
          "text": [
            "Epoch 1/3:  90%|████████▉ | 412/459 [18:27<01:31,  1.96s/it]"
          ]
        },
        {
          "metadata": {
            "tags": null
          },
          "name": "stdout",
          "output_type": "stream",
          "text": [
            "Model saved at /content/gdrive/MyDrive/colab/crisisfacts/model/epoch1_batch412\n"
          ]
        },
        {
          "metadata": {
            "tags": null
          },
          "name": "stderr",
          "output_type": "stream",
          "text": [
            "Epoch 1/3:  91%|█████████ | 416/459 [18:36<01:35,  2.22s/it]"
          ]
        },
        {
          "metadata": {
            "tags": null
          },
          "name": "stdout",
          "output_type": "stream",
          "text": [
            "Model saved at /content/gdrive/MyDrive/colab/crisisfacts/model/epoch1_batch416\n"
          ]
        },
        {
          "metadata": {
            "tags": null
          },
          "name": "stderr",
          "output_type": "stream",
          "text": [
            "Epoch 1/3:  92%|█████████▏| 420/459 [18:43<01:17,  1.99s/it]"
          ]
        },
        {
          "metadata": {
            "tags": null
          },
          "name": "stdout",
          "output_type": "stream",
          "text": [
            "Model saved at /content/gdrive/MyDrive/colab/crisisfacts/model/epoch1_batch420\n"
          ]
        },
        {
          "metadata": {
            "tags": null
          },
          "name": "stderr",
          "output_type": "stream",
          "text": [
            "Epoch 1/3:  92%|█████████▏| 424/459 [18:52<01:18,  2.23s/it]"
          ]
        },
        {
          "metadata": {
            "tags": null
          },
          "name": "stdout",
          "output_type": "stream",
          "text": [
            "Model saved at /content/gdrive/MyDrive/colab/crisisfacts/model/epoch1_batch424\n"
          ]
        },
        {
          "metadata": {
            "tags": null
          },
          "name": "stderr",
          "output_type": "stream",
          "text": [
            "Epoch 1/3:  93%|█████████▎| 428/459 [18:59<01:02,  2.02s/it]"
          ]
        },
        {
          "metadata": {
            "tags": null
          },
          "name": "stdout",
          "output_type": "stream",
          "text": [
            "Model saved at /content/gdrive/MyDrive/colab/crisisfacts/model/epoch1_batch428\n"
          ]
        },
        {
          "metadata": {
            "tags": null
          },
          "name": "stderr",
          "output_type": "stream",
          "text": [
            "Epoch 1/3:  94%|█████████▍| 432/459 [19:09<01:00,  2.25s/it]"
          ]
        },
        {
          "metadata": {
            "tags": null
          },
          "name": "stdout",
          "output_type": "stream",
          "text": [
            "Model saved at /content/gdrive/MyDrive/colab/crisisfacts/model/epoch1_batch432\n"
          ]
        },
        {
          "metadata": {
            "tags": null
          },
          "name": "stderr",
          "output_type": "stream",
          "text": [
            "Epoch 1/3:  95%|█████████▍| 436/459 [19:16<00:46,  2.02s/it]"
          ]
        },
        {
          "metadata": {
            "tags": null
          },
          "name": "stdout",
          "output_type": "stream",
          "text": [
            "Model saved at /content/gdrive/MyDrive/colab/crisisfacts/model/epoch1_batch436\n"
          ]
        },
        {
          "metadata": {
            "tags": null
          },
          "name": "stderr",
          "output_type": "stream",
          "text": [
            "Epoch 1/3:  96%|█████████▌| 440/459 [19:25<00:43,  2.28s/it]"
          ]
        },
        {
          "metadata": {
            "tags": null
          },
          "name": "stdout",
          "output_type": "stream",
          "text": [
            "Model saved at /content/gdrive/MyDrive/colab/crisisfacts/model/epoch1_batch440\n"
          ]
        },
        {
          "metadata": {
            "tags": null
          },
          "name": "stderr",
          "output_type": "stream",
          "text": [
            "Epoch 1/3:  97%|█████████▋| 444/459 [19:32<00:29,  1.99s/it]"
          ]
        },
        {
          "metadata": {
            "tags": null
          },
          "name": "stdout",
          "output_type": "stream",
          "text": [
            "Model saved at /content/gdrive/MyDrive/colab/crisisfacts/model/epoch1_batch444\n"
          ]
        },
        {
          "metadata": {
            "tags": null
          },
          "name": "stderr",
          "output_type": "stream",
          "text": [
            "Epoch 1/3:  98%|█████████▊| 448/459 [19:41<00:25,  2.35s/it]"
          ]
        },
        {
          "metadata": {
            "tags": null
          },
          "name": "stdout",
          "output_type": "stream",
          "text": [
            "Model saved at /content/gdrive/MyDrive/colab/crisisfacts/model/epoch1_batch448\n"
          ]
        },
        {
          "metadata": {
            "tags": null
          },
          "name": "stderr",
          "output_type": "stream",
          "text": [
            "Epoch 1/3:  98%|█████████▊| 452/459 [19:48<00:13,  2.00s/it]"
          ]
        },
        {
          "metadata": {
            "tags": null
          },
          "name": "stdout",
          "output_type": "stream",
          "text": [
            "Model saved at /content/gdrive/MyDrive/colab/crisisfacts/model/epoch1_batch452\n"
          ]
        },
        {
          "metadata": {
            "tags": null
          },
          "name": "stderr",
          "output_type": "stream",
          "text": [
            "Epoch 1/3:  99%|█████████▉| 456/459 [19:57<00:06,  2.30s/it]"
          ]
        },
        {
          "metadata": {
            "tags": null
          },
          "name": "stdout",
          "output_type": "stream",
          "text": [
            "Model saved at /content/gdrive/MyDrive/colab/crisisfacts/model/epoch1_batch456\n"
          ]
        },
        {
          "metadata": {
            "tags": null
          },
          "name": "stderr",
          "output_type": "stream",
          "text": [
            "Epoch 1/3: 100%|██████████| 459/459 [20:02<00:00,  2.62s/it]\n"
          ]
        },
        {
          "metadata": {
            "tags": null
          },
          "name": "stdout",
          "output_type": "stream",
          "text": [
            "Epoch 1 completed.\n"
          ]
        },
        {
          "metadata": {
            "tags": null
          },
          "name": "stderr",
          "output_type": "stream",
          "text": [
            "Epoch 2/3:   1%|          | 4/459 [00:08<17:17,  2.28s/it]"
          ]
        },
        {
          "metadata": {
            "tags": null
          },
          "name": "stdout",
          "output_type": "stream",
          "text": [
            "Model saved at /content/gdrive/MyDrive/colab/crisisfacts/model/epoch2_batch4\n"
          ]
        },
        {
          "metadata": {
            "tags": null
          },
          "name": "stderr",
          "output_type": "stream",
          "text": [
            "Epoch 2/3:   2%|▏         | 8/459 [00:16<15:33,  2.07s/it]"
          ]
        },
        {
          "metadata": {
            "tags": null
          },
          "name": "stdout",
          "output_type": "stream",
          "text": [
            "Model saved at /content/gdrive/MyDrive/colab/crisisfacts/model/epoch2_batch8\n"
          ]
        },
        {
          "metadata": {
            "tags": null
          },
          "name": "stderr",
          "output_type": "stream",
          "text": [
            "Epoch 2/3:   3%|▎         | 12/459 [00:24<15:50,  2.13s/it]"
          ]
        },
        {
          "metadata": {
            "tags": null
          },
          "name": "stdout",
          "output_type": "stream",
          "text": [
            "Model saved at /content/gdrive/MyDrive/colab/crisisfacts/model/epoch2_batch12\n"
          ]
        },
        {
          "metadata": {
            "tags": null
          },
          "name": "stderr",
          "output_type": "stream",
          "text": [
            "Epoch 2/3:   3%|▎         | 16/459 [00:32<15:34,  2.11s/it]"
          ]
        },
        {
          "metadata": {
            "tags": null
          },
          "name": "stdout",
          "output_type": "stream",
          "text": [
            "Model saved at /content/gdrive/MyDrive/colab/crisisfacts/model/epoch2_batch16\n"
          ]
        },
        {
          "metadata": {
            "tags": null
          },
          "name": "stderr",
          "output_type": "stream",
          "text": [
            "Epoch 2/3:   4%|▍         | 20/459 [00:40<15:47,  2.16s/it]"
          ]
        },
        {
          "metadata": {
            "tags": null
          },
          "name": "stdout",
          "output_type": "stream",
          "text": [
            "Model saved at /content/gdrive/MyDrive/colab/crisisfacts/model/epoch2_batch20\n"
          ]
        },
        {
          "metadata": {
            "tags": null
          },
          "name": "stderr",
          "output_type": "stream",
          "text": [
            "Epoch 2/3:   5%|▌         | 24/459 [00:48<15:20,  2.12s/it]"
          ]
        },
        {
          "metadata": {
            "tags": null
          },
          "name": "stdout",
          "output_type": "stream",
          "text": [
            "Model saved at /content/gdrive/MyDrive/colab/crisisfacts/model/epoch2_batch24\n"
          ]
        },
        {
          "metadata": {
            "tags": null
          },
          "name": "stderr",
          "output_type": "stream",
          "text": [
            "Epoch 2/3:   6%|▌         | 28/459 [00:56<15:09,  2.11s/it]"
          ]
        },
        {
          "metadata": {
            "tags": null
          },
          "name": "stdout",
          "output_type": "stream",
          "text": [
            "Model saved at /content/gdrive/MyDrive/colab/crisisfacts/model/epoch2_batch28\n"
          ]
        },
        {
          "metadata": {
            "tags": null
          },
          "name": "stderr",
          "output_type": "stream",
          "text": [
            "Epoch 2/3:   7%|▋         | 32/459 [01:04<14:55,  2.10s/it]"
          ]
        },
        {
          "metadata": {
            "tags": null
          },
          "name": "stdout",
          "output_type": "stream",
          "text": [
            "Model saved at /content/gdrive/MyDrive/colab/crisisfacts/model/epoch2_batch32\n"
          ]
        },
        {
          "metadata": {
            "tags": null
          },
          "name": "stderr",
          "output_type": "stream",
          "text": [
            "Epoch 2/3:   8%|▊         | 36/459 [01:11<13:42,  1.94s/it]"
          ]
        },
        {
          "metadata": {
            "tags": null
          },
          "name": "stdout",
          "output_type": "stream",
          "text": [
            "Model saved at /content/gdrive/MyDrive/colab/crisisfacts/model/epoch2_batch36\n"
          ]
        },
        {
          "metadata": {
            "tags": null
          },
          "name": "stderr",
          "output_type": "stream",
          "text": [
            "Epoch 2/3:   9%|▊         | 40/459 [01:20<15:10,  2.17s/it]"
          ]
        },
        {
          "metadata": {
            "tags": null
          },
          "name": "stdout",
          "output_type": "stream",
          "text": [
            "Model saved at /content/gdrive/MyDrive/colab/crisisfacts/model/epoch2_batch40\n"
          ]
        },
        {
          "metadata": {
            "tags": null
          },
          "name": "stderr",
          "output_type": "stream",
          "text": [
            "Epoch 2/3:  10%|▉         | 44/459 [01:27<13:32,  1.96s/it]"
          ]
        },
        {
          "metadata": {
            "tags": null
          },
          "name": "stdout",
          "output_type": "stream",
          "text": [
            "Model saved at /content/gdrive/MyDrive/colab/crisisfacts/model/epoch2_batch44\n"
          ]
        },
        {
          "metadata": {
            "tags": null
          },
          "name": "stderr",
          "output_type": "stream",
          "text": [
            "Epoch 2/3:  10%|█         | 48/459 [01:36<14:50,  2.17s/it]"
          ]
        },
        {
          "metadata": {
            "tags": null
          },
          "name": "stdout",
          "output_type": "stream",
          "text": [
            "Model saved at /content/gdrive/MyDrive/colab/crisisfacts/model/epoch2_batch48\n"
          ]
        },
        {
          "metadata": {
            "tags": null
          },
          "name": "stderr",
          "output_type": "stream",
          "text": [
            "Epoch 2/3:  11%|█▏        | 52/459 [01:43<13:29,  1.99s/it]"
          ]
        },
        {
          "metadata": {
            "tags": null
          },
          "name": "stdout",
          "output_type": "stream",
          "text": [
            "Model saved at /content/gdrive/MyDrive/colab/crisisfacts/model/epoch2_batch52\n"
          ]
        },
        {
          "metadata": {
            "tags": null
          },
          "name": "stderr",
          "output_type": "stream",
          "text": [
            "Epoch 2/3:  12%|█▏        | 56/459 [01:52<14:42,  2.19s/it]"
          ]
        },
        {
          "metadata": {
            "tags": null
          },
          "name": "stdout",
          "output_type": "stream",
          "text": [
            "Model saved at /content/gdrive/MyDrive/colab/crisisfacts/model/epoch2_batch56\n"
          ]
        },
        {
          "metadata": {
            "tags": null
          },
          "name": "stderr",
          "output_type": "stream",
          "text": [
            "Epoch 2/3:  13%|█▎        | 60/459 [01:59<13:09,  1.98s/it]"
          ]
        },
        {
          "metadata": {
            "tags": null
          },
          "name": "stdout",
          "output_type": "stream",
          "text": [
            "Model saved at /content/gdrive/MyDrive/colab/crisisfacts/model/epoch2_batch60\n"
          ]
        },
        {
          "metadata": {
            "tags": null
          },
          "name": "stderr",
          "output_type": "stream",
          "text": [
            "Epoch 2/3:  14%|█▍        | 64/459 [02:08<14:23,  2.19s/it]"
          ]
        },
        {
          "metadata": {
            "tags": null
          },
          "name": "stdout",
          "output_type": "stream",
          "text": [
            "Model saved at /content/gdrive/MyDrive/colab/crisisfacts/model/epoch2_batch64\n"
          ]
        },
        {
          "metadata": {
            "tags": null
          },
          "name": "stderr",
          "output_type": "stream",
          "text": [
            "Epoch 2/3:  15%|█▍        | 68/459 [02:15<12:44,  1.95s/it]"
          ]
        },
        {
          "metadata": {
            "tags": null
          },
          "name": "stdout",
          "output_type": "stream",
          "text": [
            "Model saved at /content/gdrive/MyDrive/colab/crisisfacts/model/epoch2_batch68\n"
          ]
        },
        {
          "metadata": {
            "tags": null
          },
          "name": "stderr",
          "output_type": "stream",
          "text": [
            "Epoch 2/3:  16%|█▌        | 72/459 [02:24<14:23,  2.23s/it]"
          ]
        },
        {
          "metadata": {
            "tags": null
          },
          "name": "stdout",
          "output_type": "stream",
          "text": [
            "Model saved at /content/gdrive/MyDrive/colab/crisisfacts/model/epoch2_batch72\n"
          ]
        },
        {
          "metadata": {
            "tags": null
          },
          "name": "stderr",
          "output_type": "stream",
          "text": [
            "Epoch 2/3:  17%|█▋        | 76/459 [02:31<12:26,  1.95s/it]"
          ]
        },
        {
          "metadata": {
            "tags": null
          },
          "name": "stdout",
          "output_type": "stream",
          "text": [
            "Model saved at /content/gdrive/MyDrive/colab/crisisfacts/model/epoch2_batch76\n"
          ]
        },
        {
          "metadata": {
            "tags": null
          },
          "name": "stderr",
          "output_type": "stream",
          "text": [
            "Epoch 2/3:  17%|█▋        | 80/459 [02:40<14:07,  2.24s/it]"
          ]
        },
        {
          "metadata": {
            "tags": null
          },
          "name": "stdout",
          "output_type": "stream",
          "text": [
            "Model saved at /content/gdrive/MyDrive/colab/crisisfacts/model/epoch2_batch80\n"
          ]
        },
        {
          "metadata": {
            "tags": null
          },
          "name": "stderr",
          "output_type": "stream",
          "text": [
            "Epoch 2/3:  18%|█▊        | 84/459 [02:47<12:15,  1.96s/it]"
          ]
        },
        {
          "metadata": {
            "tags": null
          },
          "name": "stdout",
          "output_type": "stream",
          "text": [
            "Model saved at /content/gdrive/MyDrive/colab/crisisfacts/model/epoch2_batch84\n"
          ]
        },
        {
          "metadata": {
            "tags": null
          },
          "name": "stderr",
          "output_type": "stream",
          "text": [
            "Epoch 2/3:  19%|█▉        | 88/459 [02:56<14:19,  2.32s/it]"
          ]
        },
        {
          "metadata": {
            "tags": null
          },
          "name": "stdout",
          "output_type": "stream",
          "text": [
            "Model saved at /content/gdrive/MyDrive/colab/crisisfacts/model/epoch2_batch88\n"
          ]
        },
        {
          "metadata": {
            "tags": null
          },
          "name": "stderr",
          "output_type": "stream",
          "text": [
            "Epoch 2/3:  20%|██        | 92/459 [03:03<12:24,  2.03s/it]"
          ]
        },
        {
          "metadata": {
            "tags": null
          },
          "name": "stdout",
          "output_type": "stream",
          "text": [
            "Model saved at /content/gdrive/MyDrive/colab/crisisfacts/model/epoch2_batch92\n"
          ]
        },
        {
          "metadata": {
            "tags": null
          },
          "name": "stderr",
          "output_type": "stream",
          "text": [
            "Epoch 2/3:  21%|██        | 96/459 [03:12<13:52,  2.29s/it]"
          ]
        },
        {
          "metadata": {
            "tags": null
          },
          "name": "stdout",
          "output_type": "stream",
          "text": [
            "Model saved at /content/gdrive/MyDrive/colab/crisisfacts/model/epoch2_batch96\n"
          ]
        },
        {
          "metadata": {
            "tags": null
          },
          "name": "stderr",
          "output_type": "stream",
          "text": [
            "Epoch 2/3:  22%|██▏       | 100/459 [03:20<12:11,  2.04s/it]"
          ]
        },
        {
          "metadata": {
            "tags": null
          },
          "name": "stdout",
          "output_type": "stream",
          "text": [
            "Model saved at /content/gdrive/MyDrive/colab/crisisfacts/model/epoch2_batch100\n"
          ]
        },
        {
          "metadata": {
            "tags": null
          },
          "name": "stderr",
          "output_type": "stream",
          "text": [
            "Epoch 2/3:  23%|██▎       | 104/459 [03:28<12:51,  2.17s/it]"
          ]
        },
        {
          "metadata": {
            "tags": null
          },
          "name": "stdout",
          "output_type": "stream",
          "text": [
            "Model saved at /content/gdrive/MyDrive/colab/crisisfacts/model/epoch2_batch104\n"
          ]
        },
        {
          "metadata": {
            "tags": null
          },
          "name": "stderr",
          "output_type": "stream",
          "text": [
            "Epoch 2/3:  24%|██▎       | 108/459 [03:36<11:40,  2.00s/it]"
          ]
        },
        {
          "metadata": {
            "tags": null
          },
          "name": "stdout",
          "output_type": "stream",
          "text": [
            "Model saved at /content/gdrive/MyDrive/colab/crisisfacts/model/epoch2_batch108\n"
          ]
        },
        {
          "metadata": {
            "tags": null
          },
          "name": "stderr",
          "output_type": "stream",
          "text": [
            "Epoch 2/3:  24%|██▍       | 112/459 [03:44<13:07,  2.27s/it]"
          ]
        },
        {
          "metadata": {
            "tags": null
          },
          "name": "stdout",
          "output_type": "stream",
          "text": [
            "Model saved at /content/gdrive/MyDrive/colab/crisisfacts/model/epoch2_batch112\n"
          ]
        },
        {
          "metadata": {
            "tags": null
          },
          "name": "stderr",
          "output_type": "stream",
          "text": [
            "Epoch 2/3:  25%|██▌       | 116/459 [03:52<11:40,  2.04s/it]"
          ]
        },
        {
          "metadata": {
            "tags": null
          },
          "name": "stdout",
          "output_type": "stream",
          "text": [
            "Model saved at /content/gdrive/MyDrive/colab/crisisfacts/model/epoch2_batch116\n"
          ]
        },
        {
          "metadata": {
            "tags": null
          },
          "name": "stderr",
          "output_type": "stream",
          "text": [
            "Epoch 2/3:  26%|██▌       | 120/459 [04:00<12:41,  2.25s/it]"
          ]
        },
        {
          "metadata": {
            "tags": null
          },
          "name": "stdout",
          "output_type": "stream",
          "text": [
            "Model saved at /content/gdrive/MyDrive/colab/crisisfacts/model/epoch2_batch120\n"
          ]
        },
        {
          "metadata": {
            "tags": null
          },
          "name": "stderr",
          "output_type": "stream",
          "text": [
            "Epoch 2/3:  27%|██▋       | 124/459 [04:07<11:15,  2.02s/it]"
          ]
        },
        {
          "metadata": {
            "tags": null
          },
          "name": "stdout",
          "output_type": "stream",
          "text": [
            "Model saved at /content/gdrive/MyDrive/colab/crisisfacts/model/epoch2_batch124\n"
          ]
        },
        {
          "metadata": {
            "tags": null
          },
          "name": "stderr",
          "output_type": "stream",
          "text": [
            "Epoch 2/3:  28%|██▊       | 128/459 [04:16<12:51,  2.33s/it]"
          ]
        },
        {
          "metadata": {
            "tags": null
          },
          "name": "stdout",
          "output_type": "stream",
          "text": [
            "Model saved at /content/gdrive/MyDrive/colab/crisisfacts/model/epoch2_batch128\n"
          ]
        },
        {
          "metadata": {
            "tags": null
          },
          "name": "stderr",
          "output_type": "stream",
          "text": [
            "Epoch 2/3:  29%|██▉       | 132/459 [04:25<11:53,  2.18s/it]"
          ]
        },
        {
          "metadata": {
            "tags": null
          },
          "name": "stdout",
          "output_type": "stream",
          "text": [
            "Model saved at /content/gdrive/MyDrive/colab/crisisfacts/model/epoch2_batch132\n"
          ]
        },
        {
          "metadata": {
            "tags": null
          },
          "name": "stderr",
          "output_type": "stream",
          "text": [
            "Epoch 2/3:  30%|██▉       | 136/459 [04:33<12:17,  2.28s/it]"
          ]
        },
        {
          "metadata": {
            "tags": null
          },
          "name": "stdout",
          "output_type": "stream",
          "text": [
            "Model saved at /content/gdrive/MyDrive/colab/crisisfacts/model/epoch2_batch136\n"
          ]
        },
        {
          "metadata": {
            "tags": null
          },
          "name": "stderr",
          "output_type": "stream",
          "text": [
            "Epoch 2/3:  31%|███       | 140/459 [04:41<11:20,  2.13s/it]"
          ]
        },
        {
          "metadata": {
            "tags": null
          },
          "name": "stdout",
          "output_type": "stream",
          "text": [
            "Model saved at /content/gdrive/MyDrive/colab/crisisfacts/model/epoch2_batch140\n"
          ]
        },
        {
          "metadata": {
            "tags": null
          },
          "name": "stderr",
          "output_type": "stream",
          "text": [
            "Epoch 2/3:  31%|███▏      | 144/459 [04:50<11:49,  2.25s/it]"
          ]
        },
        {
          "metadata": {
            "tags": null
          },
          "name": "stdout",
          "output_type": "stream",
          "text": [
            "Model saved at /content/gdrive/MyDrive/colab/crisisfacts/model/epoch2_batch144\n"
          ]
        },
        {
          "metadata": {
            "tags": null
          },
          "name": "stderr",
          "output_type": "stream",
          "text": [
            "Epoch 2/3:  32%|███▏      | 148/459 [04:58<11:01,  2.13s/it]"
          ]
        },
        {
          "metadata": {
            "tags": null
          },
          "name": "stdout",
          "output_type": "stream",
          "text": [
            "Model saved at /content/gdrive/MyDrive/colab/crisisfacts/model/epoch2_batch148\n"
          ]
        },
        {
          "metadata": {
            "tags": null
          },
          "name": "stderr",
          "output_type": "stream",
          "text": [
            "Epoch 2/3:  33%|███▎      | 152/459 [05:06<11:36,  2.27s/it]"
          ]
        },
        {
          "metadata": {
            "tags": null
          },
          "name": "stdout",
          "output_type": "stream",
          "text": [
            "Model saved at /content/gdrive/MyDrive/colab/crisisfacts/model/epoch2_batch152\n"
          ]
        },
        {
          "metadata": {
            "tags": null
          },
          "name": "stderr",
          "output_type": "stream",
          "text": [
            "Epoch 2/3:  34%|███▍      | 156/459 [05:14<10:46,  2.13s/it]"
          ]
        },
        {
          "metadata": {
            "tags": null
          },
          "name": "stdout",
          "output_type": "stream",
          "text": [
            "Model saved at /content/gdrive/MyDrive/colab/crisisfacts/model/epoch2_batch156\n"
          ]
        },
        {
          "metadata": {
            "tags": null
          },
          "name": "stderr",
          "output_type": "stream",
          "text": [
            "Epoch 2/3:  35%|███▍      | 160/459 [05:23<11:23,  2.29s/it]"
          ]
        },
        {
          "metadata": {
            "tags": null
          },
          "name": "stdout",
          "output_type": "stream",
          "text": [
            "Model saved at /content/gdrive/MyDrive/colab/crisisfacts/model/epoch2_batch160\n"
          ]
        },
        {
          "metadata": {
            "tags": null
          },
          "name": "stderr",
          "output_type": "stream",
          "text": [
            "Epoch 2/3:  36%|███▌      | 164/459 [05:31<10:30,  2.14s/it]"
          ]
        },
        {
          "metadata": {
            "tags": null
          },
          "name": "stdout",
          "output_type": "stream",
          "text": [
            "Model saved at /content/gdrive/MyDrive/colab/crisisfacts/model/epoch2_batch164\n"
          ]
        },
        {
          "metadata": {
            "tags": null
          },
          "name": "stderr",
          "output_type": "stream",
          "text": [
            "Epoch 2/3:  37%|███▋      | 168/459 [05:39<10:58,  2.26s/it]"
          ]
        },
        {
          "metadata": {
            "tags": null
          },
          "name": "stdout",
          "output_type": "stream",
          "text": [
            "Model saved at /content/gdrive/MyDrive/colab/crisisfacts/model/epoch2_batch168\n"
          ]
        },
        {
          "metadata": {
            "tags": null
          },
          "name": "stderr",
          "output_type": "stream",
          "text": [
            "Epoch 2/3:  37%|███▋      | 172/459 [05:48<10:25,  2.18s/it]"
          ]
        },
        {
          "metadata": {
            "tags": null
          },
          "name": "stdout",
          "output_type": "stream",
          "text": [
            "Model saved at /content/gdrive/MyDrive/colab/crisisfacts/model/epoch2_batch172\n"
          ]
        },
        {
          "metadata": {
            "tags": null
          },
          "name": "stderr",
          "output_type": "stream",
          "text": [
            "Epoch 2/3:  38%|███▊      | 176/459 [05:56<10:37,  2.25s/it]"
          ]
        },
        {
          "metadata": {
            "tags": null
          },
          "name": "stdout",
          "output_type": "stream",
          "text": [
            "Model saved at /content/gdrive/MyDrive/colab/crisisfacts/model/epoch2_batch176\n"
          ]
        },
        {
          "metadata": {
            "tags": null
          },
          "name": "stderr",
          "output_type": "stream",
          "text": [
            "Epoch 2/3:  39%|███▉      | 180/459 [06:05<10:04,  2.17s/it]"
          ]
        },
        {
          "metadata": {
            "tags": null
          },
          "name": "stdout",
          "output_type": "stream",
          "text": [
            "Model saved at /content/gdrive/MyDrive/colab/crisisfacts/model/epoch2_batch180\n"
          ]
        },
        {
          "metadata": {
            "tags": null
          },
          "name": "stderr",
          "output_type": "stream",
          "text": [
            "Epoch 2/3:  40%|████      | 184/459 [06:13<10:32,  2.30s/it]"
          ]
        },
        {
          "metadata": {
            "tags": null
          },
          "name": "stdout",
          "output_type": "stream",
          "text": [
            "Model saved at /content/gdrive/MyDrive/colab/crisisfacts/model/epoch2_batch184\n"
          ]
        },
        {
          "metadata": {
            "tags": null
          },
          "name": "stderr",
          "output_type": "stream",
          "text": [
            "Epoch 2/3:  41%|████      | 188/459 [06:21<09:32,  2.11s/it]"
          ]
        },
        {
          "metadata": {
            "tags": null
          },
          "name": "stdout",
          "output_type": "stream",
          "text": [
            "Model saved at /content/gdrive/MyDrive/colab/crisisfacts/model/epoch2_batch188\n"
          ]
        },
        {
          "metadata": {
            "tags": null
          },
          "name": "stderr",
          "output_type": "stream",
          "text": [
            "Epoch 2/3:  42%|████▏     | 192/459 [06:29<09:52,  2.22s/it]"
          ]
        },
        {
          "metadata": {
            "tags": null
          },
          "name": "stdout",
          "output_type": "stream",
          "text": [
            "Model saved at /content/gdrive/MyDrive/colab/crisisfacts/model/epoch2_batch192\n"
          ]
        },
        {
          "metadata": {
            "tags": null
          },
          "name": "stderr",
          "output_type": "stream",
          "text": [
            "Epoch 2/3:  43%|████▎     | 196/459 [06:37<09:19,  2.13s/it]"
          ]
        },
        {
          "metadata": {
            "tags": null
          },
          "name": "stdout",
          "output_type": "stream",
          "text": [
            "Model saved at /content/gdrive/MyDrive/colab/crisisfacts/model/epoch2_batch196\n"
          ]
        },
        {
          "metadata": {
            "tags": null
          },
          "name": "stderr",
          "output_type": "stream",
          "text": [
            "Epoch 2/3:  44%|████▎     | 200/459 [06:46<09:44,  2.26s/it]"
          ]
        },
        {
          "metadata": {
            "tags": null
          },
          "name": "stdout",
          "output_type": "stream",
          "text": [
            "Model saved at /content/gdrive/MyDrive/colab/crisisfacts/model/epoch2_batch200\n"
          ]
        },
        {
          "metadata": {
            "tags": null
          },
          "name": "stderr",
          "output_type": "stream",
          "text": [
            "Epoch 2/3:  44%|████▍     | 204/459 [06:54<09:05,  2.14s/it]"
          ]
        },
        {
          "metadata": {
            "tags": null
          },
          "name": "stdout",
          "output_type": "stream",
          "text": [
            "Model saved at /content/gdrive/MyDrive/colab/crisisfacts/model/epoch2_batch204\n"
          ]
        },
        {
          "metadata": {
            "tags": null
          },
          "name": "stderr",
          "output_type": "stream",
          "text": [
            "Epoch 2/3:  45%|████▌     | 208/459 [07:02<09:21,  2.24s/it]"
          ]
        },
        {
          "metadata": {
            "tags": null
          },
          "name": "stdout",
          "output_type": "stream",
          "text": [
            "Model saved at /content/gdrive/MyDrive/colab/crisisfacts/model/epoch2_batch208\n"
          ]
        },
        {
          "metadata": {
            "tags": null
          },
          "name": "stderr",
          "output_type": "stream",
          "text": [
            "Epoch 2/3:  46%|████▌     | 212/459 [07:11<08:48,  2.14s/it]"
          ]
        },
        {
          "metadata": {
            "tags": null
          },
          "name": "stdout",
          "output_type": "stream",
          "text": [
            "Model saved at /content/gdrive/MyDrive/colab/crisisfacts/model/epoch2_batch212\n"
          ]
        },
        {
          "metadata": {
            "tags": null
          },
          "name": "stderr",
          "output_type": "stream",
          "text": [
            "Epoch 2/3:  47%|████▋     | 216/459 [07:19<08:52,  2.19s/it]"
          ]
        },
        {
          "metadata": {
            "tags": null
          },
          "name": "stdout",
          "output_type": "stream",
          "text": [
            "Model saved at /content/gdrive/MyDrive/colab/crisisfacts/model/epoch2_batch216\n"
          ]
        },
        {
          "metadata": {
            "tags": null
          },
          "name": "stderr",
          "output_type": "stream",
          "text": [
            "Epoch 2/3:  48%|████▊     | 220/459 [07:27<08:22,  2.10s/it]"
          ]
        },
        {
          "metadata": {
            "tags": null
          },
          "name": "stdout",
          "output_type": "stream",
          "text": [
            "Model saved at /content/gdrive/MyDrive/colab/crisisfacts/model/epoch2_batch220\n"
          ]
        },
        {
          "metadata": {
            "tags": null
          },
          "name": "stderr",
          "output_type": "stream",
          "text": [
            "Epoch 2/3:  49%|████▉     | 224/459 [07:35<08:22,  2.14s/it]"
          ]
        },
        {
          "metadata": {
            "tags": null
          },
          "name": "stdout",
          "output_type": "stream",
          "text": [
            "Model saved at /content/gdrive/MyDrive/colab/crisisfacts/model/epoch2_batch224\n"
          ]
        },
        {
          "metadata": {
            "tags": null
          },
          "name": "stderr",
          "output_type": "stream",
          "text": [
            "Epoch 2/3:  50%|████▉     | 228/459 [07:43<07:57,  2.07s/it]"
          ]
        },
        {
          "metadata": {
            "tags": null
          },
          "name": "stdout",
          "output_type": "stream",
          "text": [
            "Model saved at /content/gdrive/MyDrive/colab/crisisfacts/model/epoch2_batch228\n"
          ]
        },
        {
          "metadata": {
            "tags": null
          },
          "name": "stderr",
          "output_type": "stream",
          "text": [
            "Epoch 2/3:  51%|█████     | 232/459 [07:50<07:21,  1.94s/it]"
          ]
        },
        {
          "metadata": {
            "tags": null
          },
          "name": "stdout",
          "output_type": "stream",
          "text": [
            "Model saved at /content/gdrive/MyDrive/colab/crisisfacts/model/epoch2_batch232\n"
          ]
        },
        {
          "metadata": {
            "tags": null
          },
          "name": "stderr",
          "output_type": "stream",
          "text": [
            "Epoch 2/3:  51%|█████▏    | 236/459 [07:58<07:50,  2.11s/it]"
          ]
        },
        {
          "metadata": {
            "tags": null
          },
          "name": "stdout",
          "output_type": "stream",
          "text": [
            "Model saved at /content/gdrive/MyDrive/colab/crisisfacts/model/epoch2_batch236\n"
          ]
        },
        {
          "metadata": {
            "tags": null
          },
          "name": "stderr",
          "output_type": "stream",
          "text": [
            "Epoch 2/3:  52%|█████▏    | 240/459 [08:06<07:24,  2.03s/it]"
          ]
        },
        {
          "metadata": {
            "tags": null
          },
          "name": "stdout",
          "output_type": "stream",
          "text": [
            "Model saved at /content/gdrive/MyDrive/colab/crisisfacts/model/epoch2_batch240\n"
          ]
        },
        {
          "metadata": {
            "tags": null
          },
          "name": "stderr",
          "output_type": "stream",
          "text": [
            "Epoch 2/3:  53%|█████▎    | 244/459 [08:15<07:45,  2.17s/it]"
          ]
        },
        {
          "metadata": {
            "tags": null
          },
          "name": "stdout",
          "output_type": "stream",
          "text": [
            "Model saved at /content/gdrive/MyDrive/colab/crisisfacts/model/epoch2_batch244\n"
          ]
        },
        {
          "metadata": {
            "tags": null
          },
          "name": "stderr",
          "output_type": "stream",
          "text": [
            "Epoch 2/3:  54%|█████▍    | 248/459 [08:22<06:53,  1.96s/it]"
          ]
        },
        {
          "metadata": {
            "tags": null
          },
          "name": "stdout",
          "output_type": "stream",
          "text": [
            "Model saved at /content/gdrive/MyDrive/colab/crisisfacts/model/epoch2_batch248\n"
          ]
        },
        {
          "metadata": {
            "tags": null
          },
          "name": "stderr",
          "output_type": "stream",
          "text": [
            "Epoch 2/3:  55%|█████▍    | 252/459 [08:31<07:45,  2.25s/it]"
          ]
        },
        {
          "metadata": {
            "tags": null
          },
          "name": "stdout",
          "output_type": "stream",
          "text": [
            "Model saved at /content/gdrive/MyDrive/colab/crisisfacts/model/epoch2_batch252\n"
          ]
        },
        {
          "metadata": {
            "tags": null
          },
          "name": "stderr",
          "output_type": "stream",
          "text": [
            "Epoch 2/3:  56%|█████▌    | 256/459 [08:38<06:46,  2.00s/it]"
          ]
        },
        {
          "metadata": {
            "tags": null
          },
          "name": "stdout",
          "output_type": "stream",
          "text": [
            "Model saved at /content/gdrive/MyDrive/colab/crisisfacts/model/epoch2_batch256\n"
          ]
        },
        {
          "metadata": {
            "tags": null
          },
          "name": "stderr",
          "output_type": "stream",
          "text": [
            "Epoch 2/3:  57%|█████▋    | 260/459 [08:48<07:36,  2.29s/it]"
          ]
        },
        {
          "metadata": {
            "tags": null
          },
          "name": "stdout",
          "output_type": "stream",
          "text": [
            "Model saved at /content/gdrive/MyDrive/colab/crisisfacts/model/epoch2_batch260\n"
          ]
        },
        {
          "metadata": {
            "tags": null
          },
          "name": "stderr",
          "output_type": "stream",
          "text": [
            "Epoch 2/3:  58%|█████▊    | 264/459 [08:55<06:32,  2.01s/it]"
          ]
        },
        {
          "metadata": {
            "tags": null
          },
          "name": "stdout",
          "output_type": "stream",
          "text": [
            "Model saved at /content/gdrive/MyDrive/colab/crisisfacts/model/epoch2_batch264\n"
          ]
        },
        {
          "metadata": {
            "tags": null
          },
          "name": "stderr",
          "output_type": "stream",
          "text": [
            "Epoch 2/3:  58%|█████▊    | 268/459 [09:04<07:01,  2.21s/it]"
          ]
        },
        {
          "metadata": {
            "tags": null
          },
          "name": "stdout",
          "output_type": "stream",
          "text": [
            "Model saved at /content/gdrive/MyDrive/colab/crisisfacts/model/epoch2_batch268\n"
          ]
        },
        {
          "metadata": {
            "tags": null
          },
          "name": "stderr",
          "output_type": "stream",
          "text": [
            "Epoch 2/3:  59%|█████▉    | 272/459 [09:11<06:24,  2.06s/it]"
          ]
        },
        {
          "metadata": {
            "tags": null
          },
          "name": "stdout",
          "output_type": "stream",
          "text": [
            "Model saved at /content/gdrive/MyDrive/colab/crisisfacts/model/epoch2_batch272\n"
          ]
        },
        {
          "metadata": {
            "tags": null
          },
          "name": "stderr",
          "output_type": "stream",
          "text": [
            "Epoch 2/3:  60%|██████    | 276/459 [09:20<06:56,  2.28s/it]"
          ]
        },
        {
          "metadata": {
            "tags": null
          },
          "name": "stdout",
          "output_type": "stream",
          "text": [
            "Model saved at /content/gdrive/MyDrive/colab/crisisfacts/model/epoch2_batch276\n"
          ]
        },
        {
          "metadata": {
            "tags": null
          },
          "name": "stderr",
          "output_type": "stream",
          "text": [
            "Epoch 2/3:  61%|██████    | 280/459 [09:28<06:08,  2.06s/it]"
          ]
        },
        {
          "metadata": {
            "tags": null
          },
          "name": "stdout",
          "output_type": "stream",
          "text": [
            "Model saved at /content/gdrive/MyDrive/colab/crisisfacts/model/epoch2_batch280\n"
          ]
        },
        {
          "metadata": {
            "tags": null
          },
          "name": "stderr",
          "output_type": "stream",
          "text": [
            "Epoch 2/3:  62%|██████▏   | 284/459 [09:37<06:30,  2.23s/it]"
          ]
        },
        {
          "metadata": {
            "tags": null
          },
          "name": "stdout",
          "output_type": "stream",
          "text": [
            "Model saved at /content/gdrive/MyDrive/colab/crisisfacts/model/epoch2_batch284\n"
          ]
        },
        {
          "metadata": {
            "tags": null
          },
          "name": "stderr",
          "output_type": "stream",
          "text": [
            "Epoch 2/3:  63%|██████▎   | 288/459 [09:44<05:41,  2.00s/it]"
          ]
        },
        {
          "metadata": {
            "tags": null
          },
          "name": "stdout",
          "output_type": "stream",
          "text": [
            "Model saved at /content/gdrive/MyDrive/colab/crisisfacts/model/epoch2_batch288\n"
          ]
        },
        {
          "metadata": {
            "tags": null
          },
          "name": "stderr",
          "output_type": "stream",
          "text": [
            "Epoch 2/3:  64%|██████▎   | 292/459 [09:53<06:10,  2.22s/it]"
          ]
        },
        {
          "metadata": {
            "tags": null
          },
          "name": "stdout",
          "output_type": "stream",
          "text": [
            "Model saved at /content/gdrive/MyDrive/colab/crisisfacts/model/epoch2_batch292\n"
          ]
        },
        {
          "metadata": {
            "tags": null
          },
          "name": "stderr",
          "output_type": "stream",
          "text": [
            "Epoch 2/3:  64%|██████▍   | 296/459 [10:00<05:27,  2.01s/it]"
          ]
        },
        {
          "metadata": {
            "tags": null
          },
          "name": "stdout",
          "output_type": "stream",
          "text": [
            "Model saved at /content/gdrive/MyDrive/colab/crisisfacts/model/epoch2_batch296\n"
          ]
        },
        {
          "metadata": {
            "tags": null
          },
          "name": "stderr",
          "output_type": "stream",
          "text": [
            "Epoch 2/3:  65%|██████▌   | 300/459 [10:09<06:00,  2.27s/it]"
          ]
        },
        {
          "metadata": {
            "tags": null
          },
          "name": "stdout",
          "output_type": "stream",
          "text": [
            "Model saved at /content/gdrive/MyDrive/colab/crisisfacts/model/epoch2_batch300\n"
          ]
        },
        {
          "metadata": {
            "tags": null
          },
          "name": "stderr",
          "output_type": "stream",
          "text": [
            "Epoch 2/3:  66%|██████▌   | 304/459 [10:17<05:05,  1.97s/it]"
          ]
        },
        {
          "metadata": {
            "tags": null
          },
          "name": "stdout",
          "output_type": "stream",
          "text": [
            "Model saved at /content/gdrive/MyDrive/colab/crisisfacts/model/epoch2_batch304\n"
          ]
        },
        {
          "metadata": {
            "tags": null
          },
          "name": "stderr",
          "output_type": "stream",
          "text": [
            "Epoch 2/3:  67%|██████▋   | 308/459 [10:26<05:42,  2.27s/it]"
          ]
        },
        {
          "metadata": {
            "tags": null
          },
          "name": "stdout",
          "output_type": "stream",
          "text": [
            "Model saved at /content/gdrive/MyDrive/colab/crisisfacts/model/epoch2_batch308\n"
          ]
        },
        {
          "metadata": {
            "tags": null
          },
          "name": "stderr",
          "output_type": "stream",
          "text": [
            "Epoch 2/3:  68%|██████▊   | 312/459 [10:33<04:55,  2.01s/it]"
          ]
        },
        {
          "metadata": {
            "tags": null
          },
          "name": "stdout",
          "output_type": "stream",
          "text": [
            "Model saved at /content/gdrive/MyDrive/colab/crisisfacts/model/epoch2_batch312\n"
          ]
        },
        {
          "metadata": {
            "tags": null
          },
          "name": "stderr",
          "output_type": "stream",
          "text": [
            "Epoch 2/3:  69%|██████▉   | 316/459 [10:42<05:22,  2.25s/it]"
          ]
        },
        {
          "metadata": {
            "tags": null
          },
          "name": "stdout",
          "output_type": "stream",
          "text": [
            "Model saved at /content/gdrive/MyDrive/colab/crisisfacts/model/epoch2_batch316\n"
          ]
        },
        {
          "metadata": {
            "tags": null
          },
          "name": "stderr",
          "output_type": "stream",
          "text": [
            "Epoch 2/3:  70%|██████▉   | 320/459 [10:50<04:48,  2.08s/it]"
          ]
        },
        {
          "metadata": {
            "tags": null
          },
          "name": "stdout",
          "output_type": "stream",
          "text": [
            "Model saved at /content/gdrive/MyDrive/colab/crisisfacts/model/epoch2_batch320\n"
          ]
        },
        {
          "metadata": {
            "tags": null
          },
          "name": "stderr",
          "output_type": "stream",
          "text": [
            "Epoch 2/3:  71%|███████   | 324/459 [10:59<05:05,  2.27s/it]"
          ]
        },
        {
          "metadata": {
            "tags": null
          },
          "name": "stdout",
          "output_type": "stream",
          "text": [
            "Model saved at /content/gdrive/MyDrive/colab/crisisfacts/model/epoch2_batch324\n"
          ]
        },
        {
          "metadata": {
            "tags": null
          },
          "name": "stderr",
          "output_type": "stream",
          "text": [
            "Epoch 2/3:  71%|███████▏  | 328/459 [11:06<04:20,  1.99s/it]"
          ]
        },
        {
          "metadata": {
            "tags": null
          },
          "name": "stdout",
          "output_type": "stream",
          "text": [
            "Model saved at /content/gdrive/MyDrive/colab/crisisfacts/model/epoch2_batch328\n"
          ]
        },
        {
          "metadata": {
            "tags": null
          },
          "name": "stderr",
          "output_type": "stream",
          "text": [
            "Epoch 2/3:  72%|███████▏  | 332/459 [11:15<04:39,  2.20s/it]"
          ]
        },
        {
          "metadata": {
            "tags": null
          },
          "name": "stdout",
          "output_type": "stream",
          "text": [
            "Model saved at /content/gdrive/MyDrive/colab/crisisfacts/model/epoch2_batch332\n"
          ]
        },
        {
          "metadata": {
            "tags": null
          },
          "name": "stderr",
          "output_type": "stream",
          "text": [
            "Epoch 2/3:  73%|███████▎  | 336/459 [11:22<04:03,  1.98s/it]"
          ]
        },
        {
          "metadata": {
            "tags": null
          },
          "name": "stdout",
          "output_type": "stream",
          "text": [
            "Model saved at /content/gdrive/MyDrive/colab/crisisfacts/model/epoch2_batch336\n"
          ]
        },
        {
          "metadata": {
            "tags": null
          },
          "name": "stderr",
          "output_type": "stream",
          "text": [
            "Epoch 2/3:  74%|███████▍  | 340/459 [11:31<04:29,  2.26s/it]"
          ]
        },
        {
          "metadata": {
            "tags": null
          },
          "name": "stdout",
          "output_type": "stream",
          "text": [
            "Model saved at /content/gdrive/MyDrive/colab/crisisfacts/model/epoch2_batch340\n"
          ]
        },
        {
          "metadata": {
            "tags": null
          },
          "name": "stderr",
          "output_type": "stream",
          "text": [
            "Epoch 2/3:  75%|███████▍  | 344/459 [11:38<03:44,  1.95s/it]"
          ]
        },
        {
          "metadata": {
            "tags": null
          },
          "name": "stdout",
          "output_type": "stream",
          "text": [
            "Model saved at /content/gdrive/MyDrive/colab/crisisfacts/model/epoch2_batch344\n"
          ]
        },
        {
          "metadata": {
            "tags": null
          },
          "name": "stderr",
          "output_type": "stream",
          "text": [
            "Epoch 2/3:  76%|███████▌  | 348/459 [11:47<04:15,  2.30s/it]"
          ]
        },
        {
          "metadata": {
            "tags": null
          },
          "name": "stdout",
          "output_type": "stream",
          "text": [
            "Model saved at /content/gdrive/MyDrive/colab/crisisfacts/model/epoch2_batch348\n"
          ]
        },
        {
          "metadata": {
            "tags": null
          },
          "name": "stderr",
          "output_type": "stream",
          "text": [
            "Epoch 2/3:  77%|███████▋  | 352/459 [11:55<03:41,  2.07s/it]"
          ]
        },
        {
          "metadata": {
            "tags": null
          },
          "name": "stdout",
          "output_type": "stream",
          "text": [
            "Model saved at /content/gdrive/MyDrive/colab/crisisfacts/model/epoch2_batch352\n"
          ]
        },
        {
          "metadata": {
            "tags": null
          },
          "name": "stderr",
          "output_type": "stream",
          "text": [
            "Epoch 2/3:  78%|███████▊  | 356/459 [12:04<03:50,  2.23s/it]"
          ]
        },
        {
          "metadata": {
            "tags": null
          },
          "name": "stdout",
          "output_type": "stream",
          "text": [
            "Model saved at /content/gdrive/MyDrive/colab/crisisfacts/model/epoch2_batch356\n"
          ]
        },
        {
          "metadata": {
            "tags": null
          },
          "name": "stderr",
          "output_type": "stream",
          "text": [
            "Epoch 2/3:  78%|███████▊  | 360/459 [12:11<03:19,  2.02s/it]"
          ]
        },
        {
          "metadata": {
            "tags": null
          },
          "name": "stdout",
          "output_type": "stream",
          "text": [
            "Model saved at /content/gdrive/MyDrive/colab/crisisfacts/model/epoch2_batch360\n"
          ]
        },
        {
          "metadata": {
            "tags": null
          },
          "name": "stderr",
          "output_type": "stream",
          "text": [
            "Epoch 2/3:  79%|███████▉  | 364/459 [12:20<03:31,  2.23s/it]"
          ]
        },
        {
          "metadata": {
            "tags": null
          },
          "name": "stdout",
          "output_type": "stream",
          "text": [
            "Model saved at /content/gdrive/MyDrive/colab/crisisfacts/model/epoch2_batch364\n"
          ]
        },
        {
          "metadata": {
            "tags": null
          },
          "name": "stderr",
          "output_type": "stream",
          "text": [
            "Epoch 2/3:  80%|████████  | 368/459 [12:27<02:58,  1.96s/it]"
          ]
        },
        {
          "metadata": {
            "tags": null
          },
          "name": "stdout",
          "output_type": "stream",
          "text": [
            "Model saved at /content/gdrive/MyDrive/colab/crisisfacts/model/epoch2_batch368\n"
          ]
        },
        {
          "metadata": {
            "tags": null
          },
          "name": "stderr",
          "output_type": "stream",
          "text": [
            "Epoch 2/3:  81%|████████  | 372/459 [12:36<03:13,  2.22s/it]"
          ]
        },
        {
          "metadata": {
            "tags": null
          },
          "name": "stdout",
          "output_type": "stream",
          "text": [
            "Model saved at /content/gdrive/MyDrive/colab/crisisfacts/model/epoch2_batch372\n"
          ]
        },
        {
          "metadata": {
            "tags": null
          },
          "name": "stderr",
          "output_type": "stream",
          "text": [
            "Epoch 2/3:  82%|████████▏ | 376/459 [12:44<02:47,  2.01s/it]"
          ]
        },
        {
          "metadata": {
            "tags": null
          },
          "name": "stdout",
          "output_type": "stream",
          "text": [
            "Model saved at /content/gdrive/MyDrive/colab/crisisfacts/model/epoch2_batch376\n"
          ]
        },
        {
          "metadata": {
            "tags": null
          },
          "name": "stderr",
          "output_type": "stream",
          "text": [
            "Epoch 2/3:  83%|████████▎ | 380/459 [12:53<02:59,  2.27s/it]"
          ]
        },
        {
          "metadata": {
            "tags": null
          },
          "name": "stdout",
          "output_type": "stream",
          "text": [
            "Model saved at /content/gdrive/MyDrive/colab/crisisfacts/model/epoch2_batch380\n"
          ]
        },
        {
          "metadata": {
            "tags": null
          },
          "name": "stderr",
          "output_type": "stream",
          "text": [
            "Epoch 2/3:  84%|████████▎ | 384/459 [13:00<02:30,  2.01s/it]"
          ]
        },
        {
          "metadata": {
            "tags": null
          },
          "name": "stdout",
          "output_type": "stream",
          "text": [
            "Model saved at /content/gdrive/MyDrive/colab/crisisfacts/model/epoch2_batch384\n"
          ]
        },
        {
          "metadata": {
            "tags": null
          },
          "name": "stderr",
          "output_type": "stream",
          "text": [
            "Epoch 2/3:  85%|████████▍ | 388/459 [13:09<02:42,  2.29s/it]"
          ]
        },
        {
          "metadata": {
            "tags": null
          },
          "name": "stdout",
          "output_type": "stream",
          "text": [
            "Model saved at /content/gdrive/MyDrive/colab/crisisfacts/model/epoch2_batch388\n"
          ]
        },
        {
          "metadata": {
            "tags": null
          },
          "name": "stderr",
          "output_type": "stream",
          "text": [
            "Epoch 2/3:  85%|████████▌ | 392/459 [13:16<02:15,  2.03s/it]"
          ]
        },
        {
          "metadata": {
            "tags": null
          },
          "name": "stdout",
          "output_type": "stream",
          "text": [
            "Model saved at /content/gdrive/MyDrive/colab/crisisfacts/model/epoch2_batch392\n"
          ]
        },
        {
          "metadata": {
            "tags": null
          },
          "name": "stderr",
          "output_type": "stream",
          "text": [
            "Epoch 2/3:  86%|████████▋ | 396/459 [13:26<02:26,  2.33s/it]"
          ]
        },
        {
          "metadata": {
            "tags": null
          },
          "name": "stdout",
          "output_type": "stream",
          "text": [
            "Model saved at /content/gdrive/MyDrive/colab/crisisfacts/model/epoch2_batch396\n"
          ]
        },
        {
          "metadata": {
            "tags": null
          },
          "name": "stderr",
          "output_type": "stream",
          "text": [
            "Epoch 2/3:  87%|████████▋ | 400/459 [13:33<02:02,  2.07s/it]"
          ]
        },
        {
          "metadata": {
            "tags": null
          },
          "name": "stdout",
          "output_type": "stream",
          "text": [
            "Model saved at /content/gdrive/MyDrive/colab/crisisfacts/model/epoch2_batch400\n"
          ]
        },
        {
          "metadata": {
            "tags": null
          },
          "name": "stderr",
          "output_type": "stream",
          "text": [
            "Epoch 2/3:  88%|████████▊ | 404/459 [13:42<01:58,  2.15s/it]"
          ]
        },
        {
          "metadata": {
            "tags": null
          },
          "name": "stdout",
          "output_type": "stream",
          "text": [
            "Model saved at /content/gdrive/MyDrive/colab/crisisfacts/model/epoch2_batch404\n"
          ]
        },
        {
          "metadata": {
            "tags": null
          },
          "name": "stderr",
          "output_type": "stream",
          "text": [
            "Epoch 2/3:  89%|████████▉ | 408/459 [13:49<01:40,  1.98s/it]"
          ]
        },
        {
          "metadata": {
            "tags": null
          },
          "name": "stdout",
          "output_type": "stream",
          "text": [
            "Model saved at /content/gdrive/MyDrive/colab/crisisfacts/model/epoch2_batch408\n"
          ]
        },
        {
          "metadata": {
            "tags": null
          },
          "name": "stderr",
          "output_type": "stream",
          "text": [
            "Epoch 2/3:  90%|████████▉ | 412/459 [13:58<01:50,  2.36s/it]"
          ]
        },
        {
          "metadata": {
            "tags": null
          },
          "name": "stdout",
          "output_type": "stream",
          "text": [
            "Model saved at /content/gdrive/MyDrive/colab/crisisfacts/model/epoch2_batch412\n"
          ]
        },
        {
          "metadata": {
            "tags": null
          },
          "name": "stderr",
          "output_type": "stream",
          "text": [
            "Epoch 2/3:  91%|█████████ | 416/459 [14:05<01:25,  2.00s/it]"
          ]
        },
        {
          "metadata": {
            "tags": null
          },
          "name": "stdout",
          "output_type": "stream",
          "text": [
            "Model saved at /content/gdrive/MyDrive/colab/crisisfacts/model/epoch2_batch416\n"
          ]
        },
        {
          "metadata": {
            "tags": null
          },
          "name": "stderr",
          "output_type": "stream",
          "text": [
            "Epoch 2/3:  92%|█████████▏| 420/459 [14:14<01:32,  2.38s/it]"
          ]
        },
        {
          "metadata": {
            "tags": null
          },
          "name": "stdout",
          "output_type": "stream",
          "text": [
            "Model saved at /content/gdrive/MyDrive/colab/crisisfacts/model/epoch2_batch420\n"
          ]
        },
        {
          "metadata": {
            "tags": null
          },
          "name": "stderr",
          "output_type": "stream",
          "text": [
            "Epoch 2/3:  92%|█████████▏| 424/459 [14:21<01:10,  2.02s/it]"
          ]
        },
        {
          "metadata": {
            "tags": null
          },
          "name": "stdout",
          "output_type": "stream",
          "text": [
            "Model saved at /content/gdrive/MyDrive/colab/crisisfacts/model/epoch2_batch424\n"
          ]
        },
        {
          "metadata": {
            "tags": null
          },
          "name": "stderr",
          "output_type": "stream",
          "text": [
            "Epoch 2/3:  93%|█████████▎| 428/459 [14:30<01:09,  2.23s/it]"
          ]
        },
        {
          "metadata": {
            "tags": null
          },
          "name": "stdout",
          "output_type": "stream",
          "text": [
            "Model saved at /content/gdrive/MyDrive/colab/crisisfacts/model/epoch2_batch428\n"
          ]
        },
        {
          "metadata": {
            "tags": null
          },
          "name": "stderr",
          "output_type": "stream",
          "text": [
            "Epoch 2/3:  94%|█████████▍| 432/459 [14:38<00:56,  2.08s/it]"
          ]
        },
        {
          "metadata": {
            "tags": null
          },
          "name": "stdout",
          "output_type": "stream",
          "text": [
            "Model saved at /content/gdrive/MyDrive/colab/crisisfacts/model/epoch2_batch432\n"
          ]
        },
        {
          "metadata": {
            "tags": null
          },
          "name": "stderr",
          "output_type": "stream",
          "text": [
            "Epoch 2/3:  95%|█████████▍| 436/459 [14:46<00:54,  2.35s/it]"
          ]
        },
        {
          "metadata": {
            "tags": null
          },
          "name": "stdout",
          "output_type": "stream",
          "text": [
            "Model saved at /content/gdrive/MyDrive/colab/crisisfacts/model/epoch2_batch436\n"
          ]
        },
        {
          "metadata": {
            "tags": null
          },
          "name": "stderr",
          "output_type": "stream",
          "text": [
            "Epoch 2/3:  96%|█████████▌| 440/459 [14:54<00:40,  2.12s/it]"
          ]
        },
        {
          "metadata": {
            "tags": null
          },
          "name": "stdout",
          "output_type": "stream",
          "text": [
            "Model saved at /content/gdrive/MyDrive/colab/crisisfacts/model/epoch2_batch440\n"
          ]
        },
        {
          "metadata": {
            "tags": null
          },
          "name": "stderr",
          "output_type": "stream",
          "text": [
            "Epoch 2/3:  97%|█████████▋| 444/459 [15:02<00:32,  2.19s/it]"
          ]
        },
        {
          "metadata": {
            "tags": null
          },
          "name": "stdout",
          "output_type": "stream",
          "text": [
            "Model saved at /content/gdrive/MyDrive/colab/crisisfacts/model/epoch2_batch444\n"
          ]
        },
        {
          "metadata": {
            "tags": null
          },
          "name": "stderr",
          "output_type": "stream",
          "text": [
            "Epoch 2/3:  98%|█████████▊| 448/459 [15:10<00:23,  2.13s/it]"
          ]
        },
        {
          "metadata": {
            "tags": null
          },
          "name": "stdout",
          "output_type": "stream",
          "text": [
            "Model saved at /content/gdrive/MyDrive/colab/crisisfacts/model/epoch2_batch448\n"
          ]
        },
        {
          "metadata": {
            "tags": null
          },
          "name": "stderr",
          "output_type": "stream",
          "text": [
            "Epoch 2/3:  98%|█████████▊| 452/459 [15:20<00:18,  2.64s/it]"
          ]
        },
        {
          "metadata": {
            "tags": null
          },
          "name": "stdout",
          "output_type": "stream",
          "text": [
            "Model saved at /content/gdrive/MyDrive/colab/crisisfacts/model/epoch2_batch452\n"
          ]
        },
        {
          "metadata": {
            "tags": null
          },
          "name": "stderr",
          "output_type": "stream",
          "text": [
            "Epoch 2/3:  99%|█████████▉| 456/459 [15:27<00:06,  2.09s/it]"
          ]
        },
        {
          "metadata": {
            "tags": null
          },
          "name": "stdout",
          "output_type": "stream",
          "text": [
            "Model saved at /content/gdrive/MyDrive/colab/crisisfacts/model/epoch2_batch456\n"
          ]
        },
        {
          "metadata": {
            "tags": null
          },
          "name": "stderr",
          "output_type": "stream",
          "text": [
            "Epoch 2/3: 100%|██████████| 459/459 [15:33<00:00,  2.03s/it]\n"
          ]
        },
        {
          "metadata": {
            "tags": null
          },
          "name": "stdout",
          "output_type": "stream",
          "text": [
            "Epoch 2 completed.\n"
          ]
        },
        {
          "metadata": {
            "tags": null
          },
          "name": "stderr",
          "output_type": "stream",
          "text": [
            "Epoch 3/3:   1%|          | 4/459 [00:07<15:20,  2.02s/it]"
          ]
        },
        {
          "metadata": {
            "tags": null
          },
          "name": "stdout",
          "output_type": "stream",
          "text": [
            "Model saved at /content/gdrive/MyDrive/colab/crisisfacts/model/epoch3_batch4\n"
          ]
        },
        {
          "metadata": {
            "tags": null
          },
          "name": "stderr",
          "output_type": "stream",
          "text": [
            "Epoch 3/3:   2%|▏         | 8/459 [00:15<15:18,  2.04s/it]"
          ]
        },
        {
          "metadata": {
            "tags": null
          },
          "name": "stdout",
          "output_type": "stream",
          "text": [
            "Model saved at /content/gdrive/MyDrive/colab/crisisfacts/model/epoch3_batch8\n"
          ]
        },
        {
          "metadata": {
            "tags": null
          },
          "name": "stderr",
          "output_type": "stream",
          "text": [
            "Epoch 3/3:   3%|▎         | 12/459 [00:23<15:26,  2.07s/it]"
          ]
        },
        {
          "metadata": {
            "tags": null
          },
          "name": "stdout",
          "output_type": "stream",
          "text": [
            "Model saved at /content/gdrive/MyDrive/colab/crisisfacts/model/epoch3_batch12\n"
          ]
        },
        {
          "metadata": {
            "tags": null
          },
          "name": "stderr",
          "output_type": "stream",
          "text": [
            "Epoch 3/3:   3%|▎         | 16/459 [00:30<14:20,  1.94s/it]"
          ]
        },
        {
          "metadata": {
            "tags": null
          },
          "name": "stdout",
          "output_type": "stream",
          "text": [
            "Model saved at /content/gdrive/MyDrive/colab/crisisfacts/model/epoch3_batch16\n"
          ]
        },
        {
          "metadata": {
            "tags": null
          },
          "name": "stderr",
          "output_type": "stream",
          "text": [
            "Epoch 3/3:   4%|▍         | 20/459 [00:39<15:55,  2.18s/it]"
          ]
        },
        {
          "metadata": {
            "tags": null
          },
          "name": "stdout",
          "output_type": "stream",
          "text": [
            "Model saved at /content/gdrive/MyDrive/colab/crisisfacts/model/epoch3_batch20\n"
          ]
        },
        {
          "metadata": {
            "tags": null
          },
          "name": "stderr",
          "output_type": "stream",
          "text": [
            "Epoch 3/3:   5%|▌         | 24/459 [00:46<14:14,  1.97s/it]"
          ]
        },
        {
          "metadata": {
            "tags": null
          },
          "name": "stdout",
          "output_type": "stream",
          "text": [
            "Model saved at /content/gdrive/MyDrive/colab/crisisfacts/model/epoch3_batch24\n"
          ]
        },
        {
          "metadata": {
            "tags": null
          },
          "name": "stderr",
          "output_type": "stream",
          "text": [
            "Epoch 3/3:   6%|▌         | 28/459 [00:55<16:10,  2.25s/it]"
          ]
        },
        {
          "metadata": {
            "tags": null
          },
          "name": "stdout",
          "output_type": "stream",
          "text": [
            "Model saved at /content/gdrive/MyDrive/colab/crisisfacts/model/epoch3_batch28\n"
          ]
        },
        {
          "metadata": {
            "tags": null
          },
          "name": "stderr",
          "output_type": "stream",
          "text": [
            "Epoch 3/3:   7%|▋         | 32/459 [01:02<13:59,  1.97s/it]"
          ]
        },
        {
          "metadata": {
            "tags": null
          },
          "name": "stdout",
          "output_type": "stream",
          "text": [
            "Model saved at /content/gdrive/MyDrive/colab/crisisfacts/model/epoch3_batch32\n"
          ]
        },
        {
          "metadata": {
            "tags": null
          },
          "name": "stderr",
          "output_type": "stream",
          "text": [
            "Epoch 3/3:   8%|▊         | 36/459 [01:11<15:51,  2.25s/it]"
          ]
        },
        {
          "metadata": {
            "tags": null
          },
          "name": "stdout",
          "output_type": "stream",
          "text": [
            "Model saved at /content/gdrive/MyDrive/colab/crisisfacts/model/epoch3_batch36\n"
          ]
        },
        {
          "metadata": {
            "tags": null
          },
          "name": "stderr",
          "output_type": "stream",
          "text": [
            "Epoch 3/3:   9%|▊         | 40/459 [01:19<14:24,  2.06s/it]"
          ]
        },
        {
          "metadata": {
            "tags": null
          },
          "name": "stdout",
          "output_type": "stream",
          "text": [
            "Model saved at /content/gdrive/MyDrive/colab/crisisfacts/model/epoch3_batch40\n"
          ]
        },
        {
          "metadata": {
            "tags": null
          },
          "name": "stderr",
          "output_type": "stream",
          "text": [
            "Epoch 3/3:  10%|▉         | 44/459 [01:27<15:33,  2.25s/it]"
          ]
        },
        {
          "metadata": {
            "tags": null
          },
          "name": "stdout",
          "output_type": "stream",
          "text": [
            "Model saved at /content/gdrive/MyDrive/colab/crisisfacts/model/epoch3_batch44\n"
          ]
        },
        {
          "metadata": {
            "tags": null
          },
          "name": "stderr",
          "output_type": "stream",
          "text": [
            "Epoch 3/3:  10%|█         | 48/459 [01:35<13:57,  2.04s/it]"
          ]
        },
        {
          "metadata": {
            "tags": null
          },
          "name": "stdout",
          "output_type": "stream",
          "text": [
            "Model saved at /content/gdrive/MyDrive/colab/crisisfacts/model/epoch3_batch48\n"
          ]
        },
        {
          "metadata": {
            "tags": null
          },
          "name": "stderr",
          "output_type": "stream",
          "text": [
            "Epoch 3/3:  11%|█▏        | 52/459 [01:44<15:47,  2.33s/it]"
          ]
        },
        {
          "metadata": {
            "tags": null
          },
          "name": "stdout",
          "output_type": "stream",
          "text": [
            "Model saved at /content/gdrive/MyDrive/colab/crisisfacts/model/epoch3_batch52\n"
          ]
        },
        {
          "metadata": {
            "tags": null
          },
          "name": "stderr",
          "output_type": "stream",
          "text": [
            "Epoch 3/3:  12%|█▏        | 56/459 [01:51<13:39,  2.03s/it]"
          ]
        },
        {
          "metadata": {
            "tags": null
          },
          "name": "stdout",
          "output_type": "stream",
          "text": [
            "Model saved at /content/gdrive/MyDrive/colab/crisisfacts/model/epoch3_batch56\n"
          ]
        },
        {
          "metadata": {
            "tags": null
          },
          "name": "stderr",
          "output_type": "stream",
          "text": [
            "Epoch 3/3:  13%|█▎        | 60/459 [02:00<14:44,  2.22s/it]"
          ]
        },
        {
          "metadata": {
            "tags": null
          },
          "name": "stdout",
          "output_type": "stream",
          "text": [
            "Model saved at /content/gdrive/MyDrive/colab/crisisfacts/model/epoch3_batch60\n"
          ]
        },
        {
          "metadata": {
            "tags": null
          },
          "name": "stderr",
          "output_type": "stream",
          "text": [
            "Epoch 3/3:  14%|█▍        | 64/459 [02:08<13:15,  2.01s/it]"
          ]
        },
        {
          "metadata": {
            "tags": null
          },
          "name": "stdout",
          "output_type": "stream",
          "text": [
            "Model saved at /content/gdrive/MyDrive/colab/crisisfacts/model/epoch3_batch64\n"
          ]
        },
        {
          "metadata": {
            "tags": null
          },
          "name": "stderr",
          "output_type": "stream",
          "text": [
            "Epoch 3/3:  15%|█▍        | 68/459 [02:17<14:55,  2.29s/it]"
          ]
        },
        {
          "metadata": {
            "tags": null
          },
          "name": "stdout",
          "output_type": "stream",
          "text": [
            "Model saved at /content/gdrive/MyDrive/colab/crisisfacts/model/epoch3_batch68\n"
          ]
        },
        {
          "metadata": {
            "tags": null
          },
          "name": "stderr",
          "output_type": "stream",
          "text": [
            "Epoch 3/3:  16%|█▌        | 72/459 [02:24<12:54,  2.00s/it]"
          ]
        },
        {
          "metadata": {
            "tags": null
          },
          "name": "stdout",
          "output_type": "stream",
          "text": [
            "Model saved at /content/gdrive/MyDrive/colab/crisisfacts/model/epoch3_batch72\n"
          ]
        },
        {
          "metadata": {
            "tags": null
          },
          "name": "stderr",
          "output_type": "stream",
          "text": [
            "Epoch 3/3:  17%|█▋        | 76/459 [02:33<14:43,  2.31s/it]"
          ]
        },
        {
          "metadata": {
            "tags": null
          },
          "name": "stdout",
          "output_type": "stream",
          "text": [
            "Model saved at /content/gdrive/MyDrive/colab/crisisfacts/model/epoch3_batch76\n"
          ]
        },
        {
          "metadata": {
            "tags": null
          },
          "name": "stderr",
          "output_type": "stream",
          "text": [
            "Epoch 3/3:  17%|█▋        | 80/459 [02:40<13:17,  2.10s/it]"
          ]
        },
        {
          "metadata": {
            "tags": null
          },
          "name": "stdout",
          "output_type": "stream",
          "text": [
            "Model saved at /content/gdrive/MyDrive/colab/crisisfacts/model/epoch3_batch80\n"
          ]
        },
        {
          "metadata": {
            "tags": null
          },
          "name": "stderr",
          "output_type": "stream",
          "text": [
            "Epoch 3/3:  18%|█▊        | 84/459 [02:49<14:14,  2.28s/it]"
          ]
        },
        {
          "metadata": {
            "tags": null
          },
          "name": "stdout",
          "output_type": "stream",
          "text": [
            "Model saved at /content/gdrive/MyDrive/colab/crisisfacts/model/epoch3_batch84\n"
          ]
        },
        {
          "metadata": {
            "tags": null
          },
          "name": "stderr",
          "output_type": "stream",
          "text": [
            "Epoch 3/3:  19%|█▉        | 88/459 [02:57<12:17,  1.99s/it]"
          ]
        },
        {
          "metadata": {
            "tags": null
          },
          "name": "stdout",
          "output_type": "stream",
          "text": [
            "Model saved at /content/gdrive/MyDrive/colab/crisisfacts/model/epoch3_batch88\n"
          ]
        },
        {
          "metadata": {
            "tags": null
          },
          "name": "stderr",
          "output_type": "stream",
          "text": [
            "Epoch 3/3:  20%|██        | 92/459 [03:06<14:46,  2.41s/it]"
          ]
        },
        {
          "metadata": {
            "tags": null
          },
          "name": "stdout",
          "output_type": "stream",
          "text": [
            "Model saved at /content/gdrive/MyDrive/colab/crisisfacts/model/epoch3_batch92\n"
          ]
        },
        {
          "metadata": {
            "tags": null
          },
          "name": "stderr",
          "output_type": "stream",
          "text": [
            "Epoch 3/3:  21%|██        | 96/459 [03:13<12:13,  2.02s/it]"
          ]
        },
        {
          "metadata": {
            "tags": null
          },
          "name": "stdout",
          "output_type": "stream",
          "text": [
            "Model saved at /content/gdrive/MyDrive/colab/crisisfacts/model/epoch3_batch96\n"
          ]
        },
        {
          "metadata": {
            "tags": null
          },
          "name": "stderr",
          "output_type": "stream",
          "text": [
            "Epoch 3/3:  22%|██▏       | 100/459 [03:22<13:59,  2.34s/it]"
          ]
        },
        {
          "metadata": {
            "tags": null
          },
          "name": "stdout",
          "output_type": "stream",
          "text": [
            "Model saved at /content/gdrive/MyDrive/colab/crisisfacts/model/epoch3_batch100\n"
          ]
        },
        {
          "metadata": {
            "tags": null
          },
          "name": "stderr",
          "output_type": "stream",
          "text": [
            "Epoch 3/3:  23%|██▎       | 104/459 [03:29<11:43,  1.98s/it]"
          ]
        },
        {
          "metadata": {
            "tags": null
          },
          "name": "stdout",
          "output_type": "stream",
          "text": [
            "Model saved at /content/gdrive/MyDrive/colab/crisisfacts/model/epoch3_batch104\n"
          ]
        },
        {
          "metadata": {
            "tags": null
          },
          "name": "stderr",
          "output_type": "stream",
          "text": [
            "Epoch 3/3:  24%|██▎       | 108/459 [03:38<13:24,  2.29s/it]"
          ]
        },
        {
          "metadata": {
            "tags": null
          },
          "name": "stdout",
          "output_type": "stream",
          "text": [
            "Model saved at /content/gdrive/MyDrive/colab/crisisfacts/model/epoch3_batch108\n"
          ]
        },
        {
          "metadata": {
            "tags": null
          },
          "name": "stderr",
          "output_type": "stream",
          "text": [
            "Epoch 3/3:  24%|██▍       | 112/459 [03:45<11:24,  1.97s/it]"
          ]
        },
        {
          "metadata": {
            "tags": null
          },
          "name": "stdout",
          "output_type": "stream",
          "text": [
            "Model saved at /content/gdrive/MyDrive/colab/crisisfacts/model/epoch3_batch112\n"
          ]
        },
        {
          "metadata": {
            "tags": null
          },
          "name": "stderr",
          "output_type": "stream",
          "text": [
            "Epoch 3/3:  25%|██▌       | 116/459 [03:54<12:56,  2.26s/it]"
          ]
        },
        {
          "metadata": {
            "tags": null
          },
          "name": "stdout",
          "output_type": "stream",
          "text": [
            "Model saved at /content/gdrive/MyDrive/colab/crisisfacts/model/epoch3_batch116\n"
          ]
        },
        {
          "metadata": {
            "tags": null
          },
          "name": "stderr",
          "output_type": "stream",
          "text": [
            "Epoch 3/3:  26%|██▌       | 120/459 [04:01<11:23,  2.02s/it]"
          ]
        },
        {
          "metadata": {
            "tags": null
          },
          "name": "stdout",
          "output_type": "stream",
          "text": [
            "Model saved at /content/gdrive/MyDrive/colab/crisisfacts/model/epoch3_batch120\n"
          ]
        },
        {
          "metadata": {
            "tags": null
          },
          "name": "stderr",
          "output_type": "stream",
          "text": [
            "Epoch 3/3:  27%|██▋       | 124/459 [04:10<12:40,  2.27s/it]"
          ]
        },
        {
          "metadata": {
            "tags": null
          },
          "name": "stdout",
          "output_type": "stream",
          "text": [
            "Model saved at /content/gdrive/MyDrive/colab/crisisfacts/model/epoch3_batch124\n"
          ]
        },
        {
          "metadata": {
            "tags": null
          },
          "name": "stderr",
          "output_type": "stream",
          "text": [
            "Epoch 3/3:  28%|██▊       | 128/459 [04:17<11:07,  2.02s/it]"
          ]
        },
        {
          "metadata": {
            "tags": null
          },
          "name": "stdout",
          "output_type": "stream",
          "text": [
            "Model saved at /content/gdrive/MyDrive/colab/crisisfacts/model/epoch3_batch128\n"
          ]
        },
        {
          "metadata": {
            "tags": null
          },
          "name": "stderr",
          "output_type": "stream",
          "text": [
            "Epoch 3/3:  29%|██▉       | 132/459 [04:26<12:38,  2.32s/it]"
          ]
        },
        {
          "metadata": {
            "tags": null
          },
          "name": "stdout",
          "output_type": "stream",
          "text": [
            "Model saved at /content/gdrive/MyDrive/colab/crisisfacts/model/epoch3_batch132\n"
          ]
        },
        {
          "metadata": {
            "tags": null
          },
          "name": "stderr",
          "output_type": "stream",
          "text": [
            "Epoch 3/3:  30%|██▉       | 136/459 [04:34<10:52,  2.02s/it]"
          ]
        },
        {
          "metadata": {
            "tags": null
          },
          "name": "stdout",
          "output_type": "stream",
          "text": [
            "Model saved at /content/gdrive/MyDrive/colab/crisisfacts/model/epoch3_batch136\n"
          ]
        },
        {
          "metadata": {
            "tags": null
          },
          "name": "stderr",
          "output_type": "stream",
          "text": [
            "Epoch 3/3:  31%|███       | 140/459 [04:42<11:54,  2.24s/it]"
          ]
        },
        {
          "metadata": {
            "tags": null
          },
          "name": "stdout",
          "output_type": "stream",
          "text": [
            "Model saved at /content/gdrive/MyDrive/colab/crisisfacts/model/epoch3_batch140\n"
          ]
        },
        {
          "metadata": {
            "tags": null
          },
          "name": "stderr",
          "output_type": "stream",
          "text": [
            "Epoch 3/3:  31%|███▏      | 144/459 [04:50<10:45,  2.05s/it]"
          ]
        },
        {
          "metadata": {
            "tags": null
          },
          "name": "stdout",
          "output_type": "stream",
          "text": [
            "Model saved at /content/gdrive/MyDrive/colab/crisisfacts/model/epoch3_batch144\n"
          ]
        },
        {
          "metadata": {
            "tags": null
          },
          "name": "stderr",
          "output_type": "stream",
          "text": [
            "Epoch 3/3:  32%|███▏      | 148/459 [04:58<11:25,  2.21s/it]"
          ]
        },
        {
          "metadata": {
            "tags": null
          },
          "name": "stdout",
          "output_type": "stream",
          "text": [
            "Model saved at /content/gdrive/MyDrive/colab/crisisfacts/model/epoch3_batch148\n"
          ]
        },
        {
          "metadata": {
            "tags": null
          },
          "name": "stderr",
          "output_type": "stream",
          "text": [
            "Epoch 3/3:  33%|███▎      | 152/459 [05:06<10:28,  2.05s/it]"
          ]
        },
        {
          "metadata": {
            "tags": null
          },
          "name": "stdout",
          "output_type": "stream",
          "text": [
            "Model saved at /content/gdrive/MyDrive/colab/crisisfacts/model/epoch3_batch152\n"
          ]
        },
        {
          "metadata": {
            "tags": null
          },
          "name": "stderr",
          "output_type": "stream",
          "text": [
            "Epoch 3/3:  34%|███▍      | 156/459 [05:14<11:06,  2.20s/it]"
          ]
        },
        {
          "metadata": {
            "tags": null
          },
          "name": "stdout",
          "output_type": "stream",
          "text": [
            "Model saved at /content/gdrive/MyDrive/colab/crisisfacts/model/epoch3_batch156\n"
          ]
        },
        {
          "metadata": {
            "tags": null
          },
          "name": "stderr",
          "output_type": "stream",
          "text": [
            "Epoch 3/3:  35%|███▍      | 160/459 [05:22<10:30,  2.11s/it]"
          ]
        },
        {
          "metadata": {
            "tags": null
          },
          "name": "stdout",
          "output_type": "stream",
          "text": [
            "Model saved at /content/gdrive/MyDrive/colab/crisisfacts/model/epoch3_batch160\n"
          ]
        },
        {
          "metadata": {
            "tags": null
          },
          "name": "stderr",
          "output_type": "stream",
          "text": [
            "Epoch 3/3:  36%|███▌      | 164/459 [05:30<10:07,  2.06s/it]"
          ]
        },
        {
          "metadata": {
            "tags": null
          },
          "name": "stdout",
          "output_type": "stream",
          "text": [
            "Model saved at /content/gdrive/MyDrive/colab/crisisfacts/model/epoch3_batch164\n"
          ]
        },
        {
          "metadata": {
            "tags": null
          },
          "name": "stderr",
          "output_type": "stream",
          "text": [
            "Epoch 3/3:  37%|███▋      | 168/459 [05:39<10:17,  2.12s/it]"
          ]
        },
        {
          "metadata": {
            "tags": null
          },
          "name": "stdout",
          "output_type": "stream",
          "text": [
            "Model saved at /content/gdrive/MyDrive/colab/crisisfacts/model/epoch3_batch168\n"
          ]
        },
        {
          "metadata": {
            "tags": null
          },
          "name": "stderr",
          "output_type": "stream",
          "text": [
            "Epoch 3/3:  37%|███▋      | 172/459 [05:46<09:54,  2.07s/it]"
          ]
        },
        {
          "metadata": {
            "tags": null
          },
          "name": "stdout",
          "output_type": "stream",
          "text": [
            "Model saved at /content/gdrive/MyDrive/colab/crisisfacts/model/epoch3_batch172\n"
          ]
        },
        {
          "metadata": {
            "tags": null
          },
          "name": "stderr",
          "output_type": "stream",
          "text": [
            "Epoch 3/3:  38%|███▊      | 176/459 [05:55<09:55,  2.10s/it]"
          ]
        },
        {
          "metadata": {
            "tags": null
          },
          "name": "stdout",
          "output_type": "stream",
          "text": [
            "Model saved at /content/gdrive/MyDrive/colab/crisisfacts/model/epoch3_batch176\n"
          ]
        },
        {
          "metadata": {
            "tags": null
          },
          "name": "stderr",
          "output_type": "stream",
          "text": [
            "Epoch 3/3:  39%|███▉      | 180/459 [06:02<09:51,  2.12s/it]"
          ]
        },
        {
          "metadata": {
            "tags": null
          },
          "name": "stdout",
          "output_type": "stream",
          "text": [
            "Model saved at /content/gdrive/MyDrive/colab/crisisfacts/model/epoch3_batch180\n"
          ]
        },
        {
          "metadata": {
            "tags": null
          },
          "name": "stderr",
          "output_type": "stream",
          "text": [
            "Epoch 3/3:  40%|████      | 184/459 [06:10<09:34,  2.09s/it]"
          ]
        },
        {
          "metadata": {
            "tags": null
          },
          "name": "stdout",
          "output_type": "stream",
          "text": [
            "Model saved at /content/gdrive/MyDrive/colab/crisisfacts/model/epoch3_batch184\n"
          ]
        },
        {
          "metadata": {
            "tags": null
          },
          "name": "stderr",
          "output_type": "stream",
          "text": [
            "Epoch 3/3:  41%|████      | 188/459 [06:18<09:10,  2.03s/it]"
          ]
        },
        {
          "metadata": {
            "tags": null
          },
          "name": "stdout",
          "output_type": "stream",
          "text": [
            "Model saved at /content/gdrive/MyDrive/colab/crisisfacts/model/epoch3_batch188\n"
          ]
        },
        {
          "metadata": {
            "tags": null
          },
          "name": "stderr",
          "output_type": "stream",
          "text": [
            "Epoch 3/3:  42%|████▏     | 192/459 [06:27<09:58,  2.24s/it]"
          ]
        },
        {
          "metadata": {
            "tags": null
          },
          "name": "stdout",
          "output_type": "stream",
          "text": [
            "Model saved at /content/gdrive/MyDrive/colab/crisisfacts/model/epoch3_batch192\n"
          ]
        },
        {
          "metadata": {
            "tags": null
          },
          "name": "stderr",
          "output_type": "stream",
          "text": [
            "Epoch 3/3:  43%|████▎     | 196/459 [06:35<08:59,  2.05s/it]"
          ]
        },
        {
          "metadata": {
            "tags": null
          },
          "name": "stdout",
          "output_type": "stream",
          "text": [
            "Model saved at /content/gdrive/MyDrive/colab/crisisfacts/model/epoch3_batch196\n"
          ]
        },
        {
          "metadata": {
            "tags": null
          },
          "name": "stderr",
          "output_type": "stream",
          "text": [
            "Epoch 3/3:  44%|████▎     | 200/459 [06:43<09:31,  2.21s/it]"
          ]
        },
        {
          "metadata": {
            "tags": null
          },
          "name": "stdout",
          "output_type": "stream",
          "text": [
            "Model saved at /content/gdrive/MyDrive/colab/crisisfacts/model/epoch3_batch200\n"
          ]
        },
        {
          "metadata": {
            "tags": null
          },
          "name": "stderr",
          "output_type": "stream",
          "text": [
            "Epoch 3/3:  44%|████▍     | 204/459 [06:51<08:35,  2.02s/it]"
          ]
        },
        {
          "metadata": {
            "tags": null
          },
          "name": "stdout",
          "output_type": "stream",
          "text": [
            "Model saved at /content/gdrive/MyDrive/colab/crisisfacts/model/epoch3_batch204\n"
          ]
        },
        {
          "metadata": {
            "tags": null
          },
          "name": "stderr",
          "output_type": "stream",
          "text": [
            "Epoch 3/3:  45%|████▌     | 208/459 [07:00<09:29,  2.27s/it]"
          ]
        },
        {
          "metadata": {
            "tags": null
          },
          "name": "stdout",
          "output_type": "stream",
          "text": [
            "Model saved at /content/gdrive/MyDrive/colab/crisisfacts/model/epoch3_batch208\n"
          ]
        },
        {
          "metadata": {
            "tags": null
          },
          "name": "stderr",
          "output_type": "stream",
          "text": [
            "Epoch 3/3:  46%|████▌     | 212/459 [07:07<08:12,  1.99s/it]"
          ]
        },
        {
          "metadata": {
            "tags": null
          },
          "name": "stdout",
          "output_type": "stream",
          "text": [
            "Model saved at /content/gdrive/MyDrive/colab/crisisfacts/model/epoch3_batch212\n"
          ]
        },
        {
          "metadata": {
            "tags": null
          },
          "name": "stderr",
          "output_type": "stream",
          "text": [
            "Epoch 3/3:  47%|████▋     | 216/459 [07:16<08:55,  2.21s/it]"
          ]
        },
        {
          "metadata": {
            "tags": null
          },
          "name": "stdout",
          "output_type": "stream",
          "text": [
            "Model saved at /content/gdrive/MyDrive/colab/crisisfacts/model/epoch3_batch216\n"
          ]
        },
        {
          "metadata": {
            "tags": null
          },
          "name": "stderr",
          "output_type": "stream",
          "text": [
            "Epoch 3/3:  48%|████▊     | 220/459 [07:23<07:51,  1.97s/it]"
          ]
        },
        {
          "metadata": {
            "tags": null
          },
          "name": "stdout",
          "output_type": "stream",
          "text": [
            "Model saved at /content/gdrive/MyDrive/colab/crisisfacts/model/epoch3_batch220\n"
          ]
        },
        {
          "metadata": {
            "tags": null
          },
          "name": "stderr",
          "output_type": "stream",
          "text": [
            "Epoch 3/3:  49%|████▉     | 224/459 [07:32<08:33,  2.19s/it]"
          ]
        },
        {
          "metadata": {
            "tags": null
          },
          "name": "stdout",
          "output_type": "stream",
          "text": [
            "Model saved at /content/gdrive/MyDrive/colab/crisisfacts/model/epoch3_batch224\n"
          ]
        },
        {
          "metadata": {
            "tags": null
          },
          "name": "stderr",
          "output_type": "stream",
          "text": [
            "Epoch 3/3:  50%|████▉     | 228/459 [07:40<07:45,  2.01s/it]"
          ]
        },
        {
          "metadata": {
            "tags": null
          },
          "name": "stdout",
          "output_type": "stream",
          "text": [
            "Model saved at /content/gdrive/MyDrive/colab/crisisfacts/model/epoch3_batch228\n"
          ]
        },
        {
          "metadata": {
            "tags": null
          },
          "name": "stderr",
          "output_type": "stream",
          "text": [
            "Epoch 3/3:  51%|█████     | 232/459 [07:48<08:26,  2.23s/it]"
          ]
        },
        {
          "metadata": {
            "tags": null
          },
          "name": "stdout",
          "output_type": "stream",
          "text": [
            "Model saved at /content/gdrive/MyDrive/colab/crisisfacts/model/epoch3_batch232\n"
          ]
        },
        {
          "metadata": {
            "tags": null
          },
          "name": "stderr",
          "output_type": "stream",
          "text": [
            "Epoch 3/3:  51%|█████▏    | 236/459 [07:56<07:34,  2.04s/it]"
          ]
        },
        {
          "metadata": {
            "tags": null
          },
          "name": "stdout",
          "output_type": "stream",
          "text": [
            "Model saved at /content/gdrive/MyDrive/colab/crisisfacts/model/epoch3_batch236\n"
          ]
        },
        {
          "metadata": {
            "tags": null
          },
          "name": "stderr",
          "output_type": "stream",
          "text": [
            "Epoch 3/3:  52%|█████▏    | 240/459 [08:05<08:18,  2.28s/it]"
          ]
        },
        {
          "metadata": {
            "tags": null
          },
          "name": "stdout",
          "output_type": "stream",
          "text": [
            "Model saved at /content/gdrive/MyDrive/colab/crisisfacts/model/epoch3_batch240\n"
          ]
        },
        {
          "metadata": {
            "tags": null
          },
          "name": "stderr",
          "output_type": "stream",
          "text": [
            "Epoch 3/3:  53%|█████▎    | 244/459 [08:12<07:20,  2.05s/it]"
          ]
        },
        {
          "metadata": {
            "tags": null
          },
          "name": "stdout",
          "output_type": "stream",
          "text": [
            "Model saved at /content/gdrive/MyDrive/colab/crisisfacts/model/epoch3_batch244\n"
          ]
        },
        {
          "metadata": {
            "tags": null
          },
          "name": "stderr",
          "output_type": "stream",
          "text": [
            "Epoch 3/3:  54%|█████▍    | 248/459 [08:21<07:54,  2.25s/it]"
          ]
        },
        {
          "metadata": {
            "tags": null
          },
          "name": "stdout",
          "output_type": "stream",
          "text": [
            "Model saved at /content/gdrive/MyDrive/colab/crisisfacts/model/epoch3_batch248\n"
          ]
        },
        {
          "metadata": {
            "tags": null
          },
          "name": "stderr",
          "output_type": "stream",
          "text": [
            "Epoch 3/3:  55%|█████▍    | 252/459 [08:29<07:10,  2.08s/it]"
          ]
        },
        {
          "metadata": {
            "tags": null
          },
          "name": "stdout",
          "output_type": "stream",
          "text": [
            "Model saved at /content/gdrive/MyDrive/colab/crisisfacts/model/epoch3_batch252\n"
          ]
        },
        {
          "output_type": "stream",
          "name": "stderr",
          "text": [
            "Epoch 3/3:  56%|█████▌    | 256/459 [08:38<08:10,  2.42s/it]"
          ]
        },
        {
          "output_type": "stream",
          "name": "stdout",
          "text": [
            "Model saved at /content/gdrive/MyDrive/colab/crisisfacts/model/epoch3_batch256\n"
          ]
        },
        {
          "output_type": "stream",
          "name": "stderr",
          "text": [
            "Epoch 3/3:  57%|█████▋    | 260/459 [08:45<06:53,  2.08s/it]"
          ]
        },
        {
          "output_type": "stream",
          "name": "stdout",
          "text": [
            "Model saved at /content/gdrive/MyDrive/colab/crisisfacts/model/epoch3_batch260\n"
          ]
        },
        {
          "output_type": "stream",
          "name": "stderr",
          "text": [
            "Epoch 3/3:  58%|█████▊    | 264/459 [08:54<07:42,  2.37s/it]"
          ]
        },
        {
          "output_type": "stream",
          "name": "stdout",
          "text": [
            "Model saved at /content/gdrive/MyDrive/colab/crisisfacts/model/epoch3_batch264\n"
          ]
        },
        {
          "output_type": "stream",
          "name": "stderr",
          "text": [
            "Epoch 3/3:  58%|█████▊    | 268/459 [09:02<06:25,  2.02s/it]"
          ]
        },
        {
          "output_type": "stream",
          "name": "stdout",
          "text": [
            "Model saved at /content/gdrive/MyDrive/colab/crisisfacts/model/epoch3_batch268\n"
          ]
        },
        {
          "output_type": "stream",
          "name": "stderr",
          "text": [
            "Epoch 3/3:  59%|█████▉    | 272/459 [09:10<06:52,  2.21s/it]"
          ]
        },
        {
          "output_type": "stream",
          "name": "stdout",
          "text": [
            "Model saved at /content/gdrive/MyDrive/colab/crisisfacts/model/epoch3_batch272\n"
          ]
        },
        {
          "output_type": "stream",
          "name": "stderr",
          "text": [
            "Epoch 3/3:  60%|██████    | 276/459 [09:18<06:19,  2.07s/it]"
          ]
        },
        {
          "output_type": "stream",
          "name": "stdout",
          "text": [
            "Model saved at /content/gdrive/MyDrive/colab/crisisfacts/model/epoch3_batch276\n"
          ]
        },
        {
          "output_type": "stream",
          "name": "stderr",
          "text": [
            "Epoch 3/3:  61%|██████    | 280/459 [09:27<06:58,  2.34s/it]"
          ]
        },
        {
          "output_type": "stream",
          "name": "stdout",
          "text": [
            "Model saved at /content/gdrive/MyDrive/colab/crisisfacts/model/epoch3_batch280\n"
          ]
        },
        {
          "output_type": "stream",
          "name": "stderr",
          "text": [
            "Epoch 3/3:  62%|██████▏   | 284/459 [09:34<05:59,  2.05s/it]"
          ]
        },
        {
          "output_type": "stream",
          "name": "stdout",
          "text": [
            "Model saved at /content/gdrive/MyDrive/colab/crisisfacts/model/epoch3_batch284\n"
          ]
        },
        {
          "output_type": "stream",
          "name": "stderr",
          "text": [
            "Epoch 3/3:  63%|██████▎   | 288/459 [09:43<06:38,  2.33s/it]"
          ]
        },
        {
          "output_type": "stream",
          "name": "stdout",
          "text": [
            "Model saved at /content/gdrive/MyDrive/colab/crisisfacts/model/epoch3_batch288\n"
          ]
        },
        {
          "output_type": "stream",
          "name": "stderr",
          "text": [
            "Epoch 3/3:  64%|██████▎   | 292/459 [09:51<05:42,  2.05s/it]"
          ]
        },
        {
          "output_type": "stream",
          "name": "stdout",
          "text": [
            "Model saved at /content/gdrive/MyDrive/colab/crisisfacts/model/epoch3_batch292\n"
          ]
        },
        {
          "output_type": "stream",
          "name": "stderr",
          "text": [
            "Epoch 3/3:  64%|██████▍   | 296/459 [09:59<05:58,  2.20s/it]"
          ]
        },
        {
          "output_type": "stream",
          "name": "stdout",
          "text": [
            "Model saved at /content/gdrive/MyDrive/colab/crisisfacts/model/epoch3_batch296\n"
          ]
        },
        {
          "output_type": "stream",
          "name": "stderr",
          "text": [
            "Epoch 3/3:  65%|██████▌   | 300/459 [10:07<05:37,  2.12s/it]"
          ]
        },
        {
          "output_type": "stream",
          "name": "stdout",
          "text": [
            "Model saved at /content/gdrive/MyDrive/colab/crisisfacts/model/epoch3_batch300\n"
          ]
        },
        {
          "output_type": "stream",
          "name": "stderr",
          "text": [
            "Epoch 3/3:  66%|██████▌   | 304/459 [10:15<05:31,  2.14s/it]"
          ]
        },
        {
          "output_type": "stream",
          "name": "stdout",
          "text": [
            "Model saved at /content/gdrive/MyDrive/colab/crisisfacts/model/epoch3_batch304\n"
          ]
        },
        {
          "output_type": "stream",
          "name": "stderr",
          "text": [
            "Epoch 3/3:  67%|██████▋   | 308/459 [10:23<05:15,  2.09s/it]"
          ]
        },
        {
          "output_type": "stream",
          "name": "stdout",
          "text": [
            "Model saved at /content/gdrive/MyDrive/colab/crisisfacts/model/epoch3_batch308\n"
          ]
        },
        {
          "output_type": "stream",
          "name": "stderr",
          "text": [
            "Epoch 3/3:  68%|██████▊   | 312/459 [10:31<05:03,  2.07s/it]"
          ]
        },
        {
          "output_type": "stream",
          "name": "stdout",
          "text": [
            "Model saved at /content/gdrive/MyDrive/colab/crisisfacts/model/epoch3_batch312\n"
          ]
        },
        {
          "output_type": "stream",
          "name": "stderr",
          "text": [
            "Epoch 3/3:  69%|██████▉   | 316/459 [10:39<05:15,  2.21s/it]"
          ]
        },
        {
          "output_type": "stream",
          "name": "stdout",
          "text": [
            "Model saved at /content/gdrive/MyDrive/colab/crisisfacts/model/epoch3_batch316\n"
          ]
        },
        {
          "output_type": "stream",
          "name": "stderr",
          "text": [
            "Epoch 3/3:  70%|██████▉   | 320/459 [10:47<04:53,  2.11s/it]"
          ]
        },
        {
          "output_type": "stream",
          "name": "stdout",
          "text": [
            "Model saved at /content/gdrive/MyDrive/colab/crisisfacts/model/epoch3_batch320\n"
          ]
        },
        {
          "output_type": "stream",
          "name": "stderr",
          "text": [
            "Epoch 3/3:  71%|███████   | 324/459 [10:55<04:50,  2.15s/it]"
          ]
        },
        {
          "output_type": "stream",
          "name": "stdout",
          "text": [
            "Model saved at /content/gdrive/MyDrive/colab/crisisfacts/model/epoch3_batch324\n"
          ]
        },
        {
          "output_type": "stream",
          "name": "stderr",
          "text": [
            "Epoch 3/3:  71%|███████▏  | 328/459 [11:03<04:28,  2.05s/it]"
          ]
        },
        {
          "output_type": "stream",
          "name": "stdout",
          "text": [
            "Model saved at /content/gdrive/MyDrive/colab/crisisfacts/model/epoch3_batch328\n"
          ]
        },
        {
          "output_type": "stream",
          "name": "stderr",
          "text": [
            "Epoch 3/3:  72%|███████▏  | 332/459 [11:12<04:36,  2.18s/it]"
          ]
        },
        {
          "output_type": "stream",
          "name": "stdout",
          "text": [
            "Model saved at /content/gdrive/MyDrive/colab/crisisfacts/model/epoch3_batch332\n"
          ]
        },
        {
          "output_type": "stream",
          "name": "stderr",
          "text": [
            "Epoch 3/3:  73%|███████▎  | 336/459 [11:20<04:14,  2.07s/it]"
          ]
        },
        {
          "output_type": "stream",
          "name": "stdout",
          "text": [
            "Model saved at /content/gdrive/MyDrive/colab/crisisfacts/model/epoch3_batch336\n"
          ]
        },
        {
          "output_type": "stream",
          "name": "stderr",
          "text": [
            "Epoch 3/3:  74%|███████▍  | 340/459 [11:28<04:18,  2.17s/it]"
          ]
        },
        {
          "output_type": "stream",
          "name": "stdout",
          "text": [
            "Model saved at /content/gdrive/MyDrive/colab/crisisfacts/model/epoch3_batch340\n"
          ]
        },
        {
          "output_type": "stream",
          "name": "stderr",
          "text": [
            "Epoch 3/3:  75%|███████▍  | 344/459 [11:35<03:50,  2.00s/it]"
          ]
        },
        {
          "output_type": "stream",
          "name": "stdout",
          "text": [
            "Model saved at /content/gdrive/MyDrive/colab/crisisfacts/model/epoch3_batch344\n"
          ]
        },
        {
          "output_type": "stream",
          "name": "stderr",
          "text": [
            "Epoch 3/3:  76%|███████▌  | 348/459 [11:44<04:12,  2.27s/it]"
          ]
        },
        {
          "output_type": "stream",
          "name": "stdout",
          "text": [
            "Model saved at /content/gdrive/MyDrive/colab/crisisfacts/model/epoch3_batch348\n"
          ]
        },
        {
          "output_type": "stream",
          "name": "stderr",
          "text": [
            "Epoch 3/3:  77%|███████▋  | 352/459 [11:52<03:38,  2.04s/it]"
          ]
        },
        {
          "output_type": "stream",
          "name": "stdout",
          "text": [
            "Model saved at /content/gdrive/MyDrive/colab/crisisfacts/model/epoch3_batch352\n"
          ]
        },
        {
          "output_type": "stream",
          "name": "stderr",
          "text": [
            "Epoch 3/3:  78%|███████▊  | 356/459 [12:01<03:51,  2.24s/it]"
          ]
        },
        {
          "output_type": "stream",
          "name": "stdout",
          "text": [
            "Model saved at /content/gdrive/MyDrive/colab/crisisfacts/model/epoch3_batch356\n"
          ]
        },
        {
          "output_type": "stream",
          "name": "stderr",
          "text": [
            "Epoch 3/3:  78%|███████▊  | 360/459 [12:08<03:18,  2.00s/it]"
          ]
        },
        {
          "output_type": "stream",
          "name": "stdout",
          "text": [
            "Model saved at /content/gdrive/MyDrive/colab/crisisfacts/model/epoch3_batch360\n"
          ]
        },
        {
          "output_type": "stream",
          "name": "stderr",
          "text": [
            "Epoch 3/3:  79%|███████▉  | 364/459 [12:17<03:38,  2.30s/it]"
          ]
        },
        {
          "output_type": "stream",
          "name": "stdout",
          "text": [
            "Model saved at /content/gdrive/MyDrive/colab/crisisfacts/model/epoch3_batch364\n"
          ]
        },
        {
          "output_type": "stream",
          "name": "stderr",
          "text": [
            "Epoch 3/3:  80%|████████  | 368/459 [12:24<03:00,  1.98s/it]"
          ]
        },
        {
          "output_type": "stream",
          "name": "stdout",
          "text": [
            "Model saved at /content/gdrive/MyDrive/colab/crisisfacts/model/epoch3_batch368\n"
          ]
        },
        {
          "output_type": "stream",
          "name": "stderr",
          "text": [
            "Epoch 3/3:  81%|████████  | 372/459 [12:34<03:27,  2.39s/it]"
          ]
        },
        {
          "output_type": "stream",
          "name": "stdout",
          "text": [
            "Model saved at /content/gdrive/MyDrive/colab/crisisfacts/model/epoch3_batch372\n"
          ]
        },
        {
          "output_type": "stream",
          "name": "stderr",
          "text": [
            "Epoch 3/3:  82%|████████▏ | 376/459 [12:41<02:47,  2.02s/it]"
          ]
        },
        {
          "output_type": "stream",
          "name": "stdout",
          "text": [
            "Model saved at /content/gdrive/MyDrive/colab/crisisfacts/model/epoch3_batch376\n"
          ]
        },
        {
          "output_type": "stream",
          "name": "stderr",
          "text": [
            "Epoch 3/3:  83%|████████▎ | 380/459 [12:50<03:05,  2.35s/it]"
          ]
        },
        {
          "output_type": "stream",
          "name": "stdout",
          "text": [
            "Model saved at /content/gdrive/MyDrive/colab/crisisfacts/model/epoch3_batch380\n"
          ]
        },
        {
          "output_type": "stream",
          "name": "stderr",
          "text": [
            "Epoch 3/3:  84%|████████▎ | 384/459 [12:57<02:32,  2.03s/it]"
          ]
        },
        {
          "output_type": "stream",
          "name": "stdout",
          "text": [
            "Model saved at /content/gdrive/MyDrive/colab/crisisfacts/model/epoch3_batch384\n"
          ]
        },
        {
          "output_type": "stream",
          "name": "stderr",
          "text": [
            "Epoch 3/3:  85%|████████▍ | 388/459 [13:06<02:43,  2.30s/it]"
          ]
        },
        {
          "output_type": "stream",
          "name": "stdout",
          "text": [
            "Model saved at /content/gdrive/MyDrive/colab/crisisfacts/model/epoch3_batch388\n"
          ]
        },
        {
          "output_type": "stream",
          "name": "stderr",
          "text": [
            "Epoch 3/3:  85%|████████▌ | 392/459 [13:14<02:15,  2.02s/it]"
          ]
        },
        {
          "output_type": "stream",
          "name": "stdout",
          "text": [
            "Model saved at /content/gdrive/MyDrive/colab/crisisfacts/model/epoch3_batch392\n"
          ]
        },
        {
          "output_type": "stream",
          "name": "stderr",
          "text": [
            "Epoch 3/3:  86%|████████▋ | 396/459 [13:22<02:22,  2.25s/it]"
          ]
        },
        {
          "output_type": "stream",
          "name": "stdout",
          "text": [
            "Model saved at /content/gdrive/MyDrive/colab/crisisfacts/model/epoch3_batch396\n"
          ]
        },
        {
          "output_type": "stream",
          "name": "stderr",
          "text": [
            "Epoch 3/3:  87%|████████▋ | 400/459 [13:31<02:17,  2.33s/it]"
          ]
        },
        {
          "output_type": "stream",
          "name": "stdout",
          "text": [
            "Model saved at /content/gdrive/MyDrive/colab/crisisfacts/model/epoch3_batch400\n"
          ]
        },
        {
          "output_type": "stream",
          "name": "stderr",
          "text": [
            "Epoch 3/3:  88%|████████▊ | 404/459 [13:40<02:12,  2.42s/it]"
          ]
        },
        {
          "output_type": "stream",
          "name": "stdout",
          "text": [
            "Model saved at /content/gdrive/MyDrive/colab/crisisfacts/model/epoch3_batch404\n"
          ]
        },
        {
          "output_type": "stream",
          "name": "stderr",
          "text": [
            "Epoch 3/3:  89%|████████▉ | 408/459 [13:47<01:45,  2.07s/it]"
          ]
        },
        {
          "output_type": "stream",
          "name": "stdout",
          "text": [
            "Model saved at /content/gdrive/MyDrive/colab/crisisfacts/model/epoch3_batch408\n"
          ]
        },
        {
          "output_type": "stream",
          "name": "stderr",
          "text": [
            "Epoch 3/3:  90%|████████▉ | 412/459 [13:56<01:48,  2.31s/it]"
          ]
        },
        {
          "output_type": "stream",
          "name": "stdout",
          "text": [
            "Model saved at /content/gdrive/MyDrive/colab/crisisfacts/model/epoch3_batch412\n"
          ]
        },
        {
          "output_type": "stream",
          "name": "stderr",
          "text": [
            "Epoch 3/3:  91%|█████████ | 416/459 [14:03<01:25,  1.98s/it]"
          ]
        },
        {
          "output_type": "stream",
          "name": "stdout",
          "text": [
            "Model saved at /content/gdrive/MyDrive/colab/crisisfacts/model/epoch3_batch416\n"
          ]
        },
        {
          "output_type": "stream",
          "name": "stderr",
          "text": [
            "Epoch 3/3:  92%|█████████▏| 420/459 [14:12<01:27,  2.24s/it]"
          ]
        },
        {
          "output_type": "stream",
          "name": "stdout",
          "text": [
            "Model saved at /content/gdrive/MyDrive/colab/crisisfacts/model/epoch3_batch420\n"
          ]
        },
        {
          "output_type": "stream",
          "name": "stderr",
          "text": [
            "Epoch 3/3:  92%|█████████▏| 424/459 [14:19<01:10,  2.02s/it]"
          ]
        },
        {
          "output_type": "stream",
          "name": "stdout",
          "text": [
            "Model saved at /content/gdrive/MyDrive/colab/crisisfacts/model/epoch3_batch424\n"
          ]
        },
        {
          "output_type": "stream",
          "name": "stderr",
          "text": [
            "Epoch 3/3:  93%|█████████▎| 428/459 [14:28<01:09,  2.25s/it]"
          ]
        },
        {
          "output_type": "stream",
          "name": "stdout",
          "text": [
            "Model saved at /content/gdrive/MyDrive/colab/crisisfacts/model/epoch3_batch428\n"
          ]
        },
        {
          "output_type": "stream",
          "name": "stderr",
          "text": [
            "Epoch 3/3:  94%|█████████▍| 432/459 [14:35<00:54,  2.02s/it]"
          ]
        },
        {
          "output_type": "stream",
          "name": "stdout",
          "text": [
            "Model saved at /content/gdrive/MyDrive/colab/crisisfacts/model/epoch3_batch432\n"
          ]
        },
        {
          "output_type": "stream",
          "name": "stderr",
          "text": [
            "Epoch 3/3:  95%|█████████▍| 436/459 [14:44<00:53,  2.31s/it]"
          ]
        },
        {
          "output_type": "stream",
          "name": "stdout",
          "text": [
            "Model saved at /content/gdrive/MyDrive/colab/crisisfacts/model/epoch3_batch436\n"
          ]
        },
        {
          "output_type": "stream",
          "name": "stderr",
          "text": [
            "Epoch 3/3:  96%|█████████▌| 440/459 [14:52<00:39,  2.07s/it]"
          ]
        },
        {
          "output_type": "stream",
          "name": "stdout",
          "text": [
            "Model saved at /content/gdrive/MyDrive/colab/crisisfacts/model/epoch3_batch440\n"
          ]
        },
        {
          "output_type": "stream",
          "name": "stderr",
          "text": [
            "Epoch 3/3:  97%|█████████▋| 444/459 [15:00<00:34,  2.28s/it]"
          ]
        },
        {
          "output_type": "stream",
          "name": "stdout",
          "text": [
            "Model saved at /content/gdrive/MyDrive/colab/crisisfacts/model/epoch3_batch444\n"
          ]
        },
        {
          "output_type": "stream",
          "name": "stderr",
          "text": [
            "Epoch 3/3:  98%|█████████▊| 448/459 [15:08<00:22,  2.03s/it]"
          ]
        },
        {
          "output_type": "stream",
          "name": "stdout",
          "text": [
            "Model saved at /content/gdrive/MyDrive/colab/crisisfacts/model/epoch3_batch448\n"
          ]
        },
        {
          "output_type": "stream",
          "name": "stderr",
          "text": [
            "Epoch 3/3:  98%|█████████▊| 452/459 [15:16<00:15,  2.27s/it]"
          ]
        },
        {
          "output_type": "stream",
          "name": "stdout",
          "text": [
            "Model saved at /content/gdrive/MyDrive/colab/crisisfacts/model/epoch3_batch452\n"
          ]
        },
        {
          "output_type": "stream",
          "name": "stderr",
          "text": [
            "Epoch 3/3:  99%|█████████▉| 456/459 [15:24<00:06,  2.12s/it]"
          ]
        },
        {
          "output_type": "stream",
          "name": "stdout",
          "text": [
            "Model saved at /content/gdrive/MyDrive/colab/crisisfacts/model/epoch3_batch456\n"
          ]
        },
        {
          "output_type": "stream",
          "name": "stderr",
          "text": [
            "Epoch 3/3: 100%|██████████| 459/459 [15:30<00:00,  2.03s/it]\n"
          ]
        },
        {
          "output_type": "stream",
          "name": "stdout",
          "text": [
            "Epoch 3 completed.\n",
            "Final model saved at /content/gdrive/MyDrive/colab/crisisfacts/model\n"
          ]
        }
      ]
    },
    {
      "cell_type": "code",
      "source": [
        "from google.colab import drive\n",
        "drive.mount('/content/gdrive')\n"
      ],
      "metadata": {
        "colab": {
          "base_uri": "https://localhost:8080/"
        },
        "id": "agOhwKh2F_i9",
        "outputId": "3c77b363-8728-4108-c2c1-e4571c968c7c"
      },
      "execution_count": null,
      "outputs": [
        {
          "output_type": "stream",
          "name": "stdout",
          "text": [
            "Mounted at /content/gdrive\n"
          ]
        }
      ]
    },
    {
      "cell_type": "code",
      "source": [
        "!ls \"/content/gdrive/MyDrive/colab/crisisfacts/model\"\n"
      ],
      "metadata": {
        "id": "KYXtD1JLFnzN"
      },
      "execution_count": null,
      "outputs": []
    },
    {
      "cell_type": "code",
      "source": [
        "!pip install transformers\n",
        "from transformers import BertForMaskedLM, BertTokenizer\n",
        "\n",
        "save_base_path = \"/content/gdrive/MyDrive/colab/crisisfacts/model\"\n",
        "\n",
        "model = BertForMaskedLM.from_pretrained(save_base_path)\n",
        "tokenizer = BertTokenizer.from_pretrained('bert-base-uncased')\n",
        "\n"
      ],
      "metadata": {
        "colab": {
          "base_uri": "https://localhost:8080/",
          "height": 623,
          "referenced_widgets": [
            "68a530c91e664011953e3b66f048a5c8",
            "cd354a01d24d4d5db3be4d350f2b9f64",
            "8d51897c8687427a8052a2360c6bf573",
            "41031d4119314aeab16424142ff23540",
            "5b89ee20b0e4474c99613831ef96ebfa",
            "f91fa2a68dfe45b1b518ba8a12e1d37f",
            "58f991721b43482c966e2a6bc2626750",
            "1f9358239f4b4caeab8c27c76f5b2335",
            "15e689bda25d4346b3e5f75a14e09c19",
            "8caad493276a46ba91f74e18a575532f",
            "5478e7a50db5405197c2337ac0803b03",
            "48ece33f351142b0aae9b81f43747ff2",
            "ee4fdaebd4764abc95456a6cf7e1c8c5",
            "829a03185baa4c40b3b1c8ef619dd5cf",
            "b175b4215a02446db8312eeaf461ba1c",
            "c792602f0c3d421eae4b067e5784500b",
            "ad9293e5ae834af596c3a3690ef4f03f",
            "d1fa0ba66c124c5c8d7d299ce1619e86",
            "0547b63a5f22434485186c8d28397f15",
            "32b0c6ae60424e5292153093dc27c0a3",
            "8c37858710104737b00ed3194680598f",
            "506e1e69bae845b6b57ed5cbee4dc57f",
            "a35ab191f48949ce8a49520100de8f1b",
            "1421909efbac47769a1ee938268fdd0c",
            "759bbc5b15304af0a60816133fe6e524",
            "b1ffbf81c2f34e51b90c11012cd92229",
            "4c5fccc7993c430c9630b08c4e9b7a78",
            "d245b9caa22642e78671cdd9ea8a508d",
            "c0193d83cc744b768d23f8c99b48f172",
            "bac1bf3049dc4b49b4ce9bf6f41b15e0",
            "e54b400ab2cc404b8184f6bc75343f03",
            "e0b0d46baec2449aab3eacd59ee57e68",
            "4ed455a968254777a912843866430119"
          ]
        },
        "id": "juhVDG4RE1Ip",
        "outputId": "ca72eba1-471f-41ee-ad94-9333d6418899"
      },
      "execution_count": null,
      "outputs": [
        {
          "output_type": "stream",
          "name": "stdout",
          "text": [
            "Collecting transformers\n",
            "  Downloading transformers-4.31.0-py3-none-any.whl (7.4 MB)\n",
            "\u001b[2K     \u001b[90m━━━━━━━━━━━━━━━━━━━━━━━━━━━━━━━━━━━━━━━━\u001b[0m \u001b[32m7.4/7.4 MB\u001b[0m \u001b[31m17.2 MB/s\u001b[0m eta \u001b[36m0:00:00\u001b[0m\n",
            "\u001b[?25hRequirement already satisfied: filelock in /usr/local/lib/python3.10/dist-packages (from transformers) (3.12.2)\n",
            "Collecting huggingface-hub<1.0,>=0.14.1 (from transformers)\n",
            "  Downloading huggingface_hub-0.16.4-py3-none-any.whl (268 kB)\n",
            "\u001b[2K     \u001b[90m━━━━━━━━━━━━━━━━━━━━━━━━━━━━━━━━━━━━━━\u001b[0m \u001b[32m268.8/268.8 kB\u001b[0m \u001b[31m26.0 MB/s\u001b[0m eta \u001b[36m0:00:00\u001b[0m\n",
            "\u001b[?25hRequirement already satisfied: numpy>=1.17 in /usr/local/lib/python3.10/dist-packages (from transformers) (1.25.2)\n",
            "Requirement already satisfied: packaging>=20.0 in /usr/local/lib/python3.10/dist-packages (from transformers) (23.1)\n",
            "Requirement already satisfied: pyyaml>=5.1 in /usr/local/lib/python3.10/dist-packages (from transformers) (6.0.1)\n",
            "Requirement already satisfied: regex!=2019.12.17 in /usr/local/lib/python3.10/dist-packages (from transformers) (2023.6.3)\n",
            "Requirement already satisfied: requests in /usr/local/lib/python3.10/dist-packages (from transformers) (2.31.0)\n",
            "Collecting tokenizers!=0.11.3,<0.14,>=0.11.1 (from transformers)\n",
            "  Downloading tokenizers-0.13.3-cp310-cp310-manylinux_2_17_x86_64.manylinux2014_x86_64.whl (7.8 MB)\n",
            "\u001b[2K     \u001b[90m━━━━━━━━━━━━━━━━━━━━━━━━━━━━━━━━━━━━━━━━\u001b[0m \u001b[32m7.8/7.8 MB\u001b[0m \u001b[31m44.3 MB/s\u001b[0m eta \u001b[36m0:00:00\u001b[0m\n",
            "\u001b[?25hCollecting safetensors>=0.3.1 (from transformers)\n",
            "  Downloading safetensors-0.3.2-cp310-cp310-manylinux_2_17_x86_64.manylinux2014_x86_64.whl (1.3 MB)\n",
            "\u001b[2K     \u001b[90m━━━━━━━━━━━━━━━━━━━━━━━━━━━━━━━━━━━━━━━━\u001b[0m \u001b[32m1.3/1.3 MB\u001b[0m \u001b[31m47.0 MB/s\u001b[0m eta \u001b[36m0:00:00\u001b[0m\n",
            "\u001b[?25hRequirement already satisfied: tqdm>=4.27 in /usr/local/lib/python3.10/dist-packages (from transformers) (4.66.0)\n",
            "Requirement already satisfied: fsspec in /usr/local/lib/python3.10/dist-packages (from huggingface-hub<1.0,>=0.14.1->transformers) (2023.6.0)\n",
            "Requirement already satisfied: typing-extensions>=3.7.4.3 in /usr/local/lib/python3.10/dist-packages (from huggingface-hub<1.0,>=0.14.1->transformers) (4.7.1)\n",
            "Requirement already satisfied: charset-normalizer<4,>=2 in /usr/local/lib/python3.10/dist-packages (from requests->transformers) (3.2.0)\n",
            "Requirement already satisfied: idna<4,>=2.5 in /usr/local/lib/python3.10/dist-packages (from requests->transformers) (3.4)\n",
            "Requirement already satisfied: urllib3<3,>=1.21.1 in /usr/local/lib/python3.10/dist-packages (from requests->transformers) (2.0.4)\n",
            "Requirement already satisfied: certifi>=2017.4.17 in /usr/local/lib/python3.10/dist-packages (from requests->transformers) (2023.7.22)\n",
            "Installing collected packages: tokenizers, safetensors, huggingface-hub, transformers\n",
            "Successfully installed huggingface-hub-0.16.4 safetensors-0.3.2 tokenizers-0.13.3 transformers-4.31.0\n"
          ]
        },
        {
          "output_type": "display_data",
          "data": {
            "text/plain": [
              "Downloading (…)solve/main/vocab.txt:   0%|          | 0.00/232k [00:00<?, ?B/s]"
            ],
            "application/vnd.jupyter.widget-view+json": {
              "version_major": 2,
              "version_minor": 0,
              "model_id": "68a530c91e664011953e3b66f048a5c8"
            }
          },
          "metadata": {}
        },
        {
          "output_type": "display_data",
          "data": {
            "text/plain": [
              "Downloading (…)okenizer_config.json:   0%|          | 0.00/28.0 [00:00<?, ?B/s]"
            ],
            "application/vnd.jupyter.widget-view+json": {
              "version_major": 2,
              "version_minor": 0,
              "model_id": "48ece33f351142b0aae9b81f43747ff2"
            }
          },
          "metadata": {}
        },
        {
          "output_type": "display_data",
          "data": {
            "text/plain": [
              "Downloading (…)lve/main/config.json:   0%|          | 0.00/570 [00:00<?, ?B/s]"
            ],
            "application/vnd.jupyter.widget-view+json": {
              "version_major": 2,
              "version_minor": 0,
              "model_id": "a35ab191f48949ce8a49520100de8f1b"
            }
          },
          "metadata": {}
        }
      ]
    },
    {
      "cell_type": "code",
      "source": [
        "def predict_masked_text(text):\n",
        "    # Tokenize the input text\n",
        "    inputs = tokenizer(text, return_tensors=\"pt\", truncation=True, padding='max_length', max_length=128)\n",
        "\n",
        "    # Predict the masked tokens\n",
        "    with torch.no_grad():\n",
        "        outputs = model(**inputs)\n",
        "        predictions = torch.argmax(outputs.logits, dim=-1)\n",
        "\n",
        "    # Decode the predictions to text\n",
        "    predicted_text = tokenizer.decode(predictions[0])\n",
        "\n",
        "    return predicted_text\n"
      ],
      "metadata": {
        "id": "qzRWYRNoE3ZU"
      },
      "execution_count": null,
      "outputs": []
    },
    {
      "cell_type": "code",
      "source": [
        "def clean_predicted_text(predicted_tokens):\n",
        "    # Remove special tokens\n",
        "    readable_text = predicted_tokens.replace(\"[CLS]\", \"\").replace(\"[SEP]\", \"\")\n",
        "\n",
        "    # Remove padding tokens\n",
        "    readable_text = readable_text.replace(\"[PAD]\", \"\").strip()\n",
        "\n",
        "    return readable_text"
      ],
      "metadata": {
        "id": "rsjDA2yUGqQq"
      },
      "execution_count": null,
      "outputs": []
    },
    {
      "cell_type": "code",
      "source": [
        "predicted_text = \"[CLS] the hurricane caused moderate damage. [SEP] [PAD] [PAD] ...\"\n",
        "cleaned_text = clean_predicted_text(predicted_text)\n",
        "print(cleaned_text)  # Output: \"the hurricane caused moderate damage.\"\n"
      ],
      "metadata": {
        "colab": {
          "base_uri": "https://localhost:8080/"
        },
        "id": "uuCBFwVDGttT",
        "outputId": "0714be64-ff1f-4a42-94c1-ab277dedfe95"
      },
      "execution_count": null,
      "outputs": [
        {
          "output_type": "stream",
          "name": "stdout",
          "text": [
            "the hurricane caused moderate damage.    ...\n"
          ]
        }
      ]
    },
    {
      "cell_type": "code",
      "source": [
        "import torch\n",
        "\n",
        "result = predict_masked_text(\"The hurricane caused [MASK] damage.\")\n",
        "print(result)\n"
      ],
      "metadata": {
        "colab": {
          "base_uri": "https://localhost:8080/"
        },
        "id": "PihZR5MSE5Zp",
        "outputId": "0822fd22-36fa-48f4-f8a9-e443c47d57f0"
      },
      "execution_count": null,
      "outputs": [
        {
          "output_type": "stream",
          "name": "stdout",
          "text": [
            "[CLS] the hurricane caused moderate damage. [SEP] [PAD] [PAD] [PAD] [PAD] [PAD] [PAD] [PAD] [PAD] [PAD] [PAD] [PAD] [PAD] [PAD] [PAD] [PAD] [PAD] [PAD] [PAD] [PAD] [PAD] [PAD] [PAD] [PAD] [PAD] [PAD] [PAD] [PAD] [PAD] [PAD] [PAD] [PAD] [PAD] [PAD] [PAD] [PAD] [PAD] [PAD] [PAD] [PAD] [PAD] [PAD] [PAD] [PAD] [PAD] [PAD] [PAD] [PAD] [PAD] [PAD] [PAD] [PAD] [PAD] [PAD] [PAD] [PAD] [PAD] [PAD] [PAD] [PAD] [PAD] [PAD] [PAD] [PAD] [PAD] [PAD] [PAD] [PAD] [PAD] [PAD] [PAD] [PAD] [PAD] [PAD] [PAD] [PAD] [PAD] [PAD] [PAD] [PAD] [PAD] [PAD] [PAD] [PAD] [PAD] [PAD] [PAD] [PAD] [PAD] [PAD] [PAD] [PAD] [PAD] [PAD] [PAD] [PAD] [PAD] [PAD] [PAD] [PAD] [PAD] [PAD] [PAD] [PAD] [PAD] [PAD] [PAD] [PAD] [PAD] [PAD] [PAD] [PAD] [PAD] [PAD] [PAD] [PAD] [PAD] [PAD] [PAD] [PAD] [PAD]\n"
          ]
        }
      ]
    },
    {
      "cell_type": "code",
      "source": [
        "from tqdm.notebook import tqdm\n",
        "import time\n",
        "import numpy as np\n",
        "from sklearn.metrics.pairwise import cosine_similarity\n",
        "\n",
        "# Function to create embeddings using the trained BERT model\n",
        "def create_embedding(text):\n",
        "    inputs = tokenizer(text, return_tensors=\"pt\", padding=True, truncation=True, max_length=128)\n",
        "    with torch.no_grad():\n",
        "        outputs = model.bert(**inputs) # Use the underlying BERT model\n",
        "    return outputs.last_hidden_state.mean(dim=1) # Average the token embeddings to get a single vector\n",
        "\n",
        "start_time = time.time()\n",
        "\n",
        "# Create embeddings for queries\n",
        "query_embeddings = [create_embedding(User_Profiles_Event_Definition.iloc[idx]['text']).numpy() for idx in tqdm(range(len(User_Profiles_Event_Definition)), desc=\"Processing Queries\")]\n",
        "\n",
        "# Create embeddings for documents\n",
        "document_embeddings = []\n",
        "for eventNo in tqdm(eventNoList, desc=\"Processing Documents\"):\n",
        "    dataset = ir_datasets.load(f'crisisfacts/{eventNo}/2017-12-07') # Adjust the date as needed\n",
        "    for item in dataset.docs_iter():\n",
        "        document_embeddings.append(create_embedding(item.text).numpy())\n",
        "\n",
        "# Compute similarity matrix\n",
        "similarity_matrix = cosine_similarity(np.vstack(query_embeddings), np.vstack(document_embeddings))\n",
        "\n",
        "# Get top 5 indices of most similar documents for each query\n",
        "top_indices = np.argsort(-similarity_matrix, axis=1)[:, :5]\n",
        "\n",
        "# Retrieve and print the corresponding documents for each query\n",
        "document_list = [item.text for eventNo in eventNoList for item in ir_datasets.load(f'crisisfacts/{eventNo}/2017-12-07').docs_iter()]\n",
        "for query_idx, indices in enumerate(top_indices):\n",
        "    query_text = User_Profiles_Event_Definition.iloc[query_idx]['text']\n",
        "    print(f\"Query: {query_text}\")\n",
        "    print(\"Top 5 Relevant Documents:\")\n",
        "    for idx in indices:\n",
        "        document_text = document_list[idx]\n",
        "        print(f\"  - {document_text}\")\n",
        "    print(\"\\n\" + \"=\"*50 + \"\\n\")\n",
        "\n",
        "end_time = time.time()\n",
        "print(f\"Total execution time: {end_time - start_time:.2f} seconds\")\n"
      ],
      "metadata": {
        "colab": {
          "base_uri": "https://localhost:8080/",
          "height": 1000,
          "referenced_widgets": [
            "28b682c47e5d4fddb5b4fc957c58036d",
            "1f50c524f32b4b99ba5d929fd9bd27b0",
            "fb08006775854a6788aeb0d731b826d2",
            "a88f3d9b1f224ae7a50c6d47ca1b02c1",
            "70ad766185cb400ca945d340866245a9",
            "3fc0c74a71ce49dbaba75bc64743322f",
            "55e67ed27e9c488b985a52c598e39967",
            "31732e812aa14a7da405f2828b5873df",
            "d0de429a540f4b7e892025f6116e62ee",
            "3a7006394abc436984673bbe93b4333b",
            "6be509267b564f2aa6649355116ae8e2",
            "bfe5057047a648cf88036b5787896312",
            "aaa0c537ae9d440ebd63b7a8cd496d0f",
            "82dd0e7ff8844238a641300cf70145bc",
            "7aaa8550066e4c6396a823bed7d8174d",
            "ab81cadcc938449287a99986d022a79d",
            "01dc4650904c4af6848dbe355338a845",
            "20a865a6e7474126b9e00b544f53ca33",
            "1ae1d230788f449db89c9f67e5080119",
            "907f342755ac42a6b979c2360da4ec2c",
            "ca992a28d7ca4f1f833b735921049d20",
            "dcbd33e6f8d04a14bd18453a2e20d4bb"
          ]
        },
        "id": "FELNZHptPgOR",
        "outputId": "5fe797c8-cfaa-4be6-e6c8-db7af3060178"
      },
      "execution_count": null,
      "outputs": [
        {
          "output_type": "display_data",
          "data": {
            "text/plain": [
              "Processing Queries:   0%|          | 0/52 [00:00<?, ?it/s]"
            ],
            "application/vnd.jupyter.widget-view+json": {
              "version_major": 2,
              "version_minor": 0,
              "model_id": "28b682c47e5d4fddb5b4fc957c58036d"
            }
          },
          "metadata": {}
        },
        {
          "output_type": "display_data",
          "data": {
            "text/plain": [
              "Processing Documents:   0%|          | 0/1 [00:00<?, ?it/s]"
            ],
            "application/vnd.jupyter.widget-view+json": {
              "version_major": 2,
              "version_minor": 0,
              "model_id": "bfe5057047a648cf88036b5787896312"
            }
          },
          "metadata": {}
        },
        {
          "output_type": "stream",
          "name": "stdout",
          "text": [
            "Query: Have airports closed\n",
            "Top 5 Relevant Documents:\n",
            "  - OTHER CLOSURES  Legoland California will be closed Friday out of consideration for employees affected by the recent fires.\n",
            "  - ROAD AND FREEWAY CLOSURES  All roadways that were previously closed are now open.\n",
            "  - Officials have lifted both evacuations and road closures caused by the fire.\n",
            "  - #Breaking #LilacFire 150 acres. update: 2 structures have burned down, 12 damaged.  no word if these are homes or not.\n",
            "  - “There are horses running all loose down here,” Sise told the racing publication.\n",
            "\n",
            "==================================================\n",
            "\n",
            "Query: Have railways closed\n",
            "Top 5 Relevant Documents:\n",
            "  - “There are horses running all loose down here,” Sise told the racing publication.\n",
            "  - OTHER CLOSURES  Legoland California will be closed Friday out of consideration for employees affected by the recent fires.\n",
            "  - 519 power poles have been damaged by the Thomas fire.\n",
            "  - ROAD AND FREEWAY CLOSURES  All roadways that were previously closed are now open.\n",
            "  - @BDeniSE home will always receive you with open arms boo 🤗🌊☀️🌴\n",
            "\n",
            "==================================================\n",
            "\n",
            "Query: Have water supplied been contaminated\n",
            "Top 5 Relevant Documents:\n",
            "  - 519 power poles have been damaged by the Thomas fire.\n",
            "  - #LilacFire [update] Two civilian burn victims are in the process of being treated &amp; transported.\n",
            "  - At least two people were burned and sent for treatment, according to Cal Fire.\n",
            "  - (Reason: \"We've turned off the power for safety.\")\n",
            "  - Nearly 20,000 SDG&E customers were without power by Thursday afternoon, most affected by the utility’s decision to kill power in backcountry areas experiencing the worst winds.\n",
            "\n",
            "==================================================\n",
            "\n",
            "Query: How many firefighters are active\n",
            "Top 5 Relevant Documents:\n",
            "  - aaaand now san diego is on fire. IS SOMEONE ACTIVELY SETTING FIRES?\n",
            "  - About 500 firefighters from multiple local agencies were battling the blaze, Cal Fire said.\n",
            "  - Meanwhile, Harber said the website of San Diego Voluntary Organizations Active in Disaster has published a list of community partners aiding in fire recovery efforts.\n",
            "  - @NikkiSixx The winds have moved South. North San Diego county is on fire!\n",
            "  - About 300 firefighters were tackling flames moving through heavy fuels.\n",
            "\n",
            "==================================================\n",
            "\n",
            "Query: How many people are affected\n",
            "Top 5 Relevant Documents:\n",
            "  - How you can help families and animals affected by the Lilac fire\n",
            "  - \"I don't know how many are living and how many are dead,\" Hansen said.\n",
            "  - #LilacFire 10 structures lost, 1000 threathened.  This is bad news.\n",
            "  - (Figures will be updated as new information becomes available)  Fires’ impact across Southern California  260,000+ acres have been burned in the Southland.\n",
            "  - The #LilacFire is threatening 1,000 structures according to Cal Fire. At least 5 have been destroyed and many more damaged. #NBC7\n",
            "\n",
            "==================================================\n",
            "\n",
            "Query: How many people are in shelters\n",
            "Top 5 Relevant Documents:\n",
            "  - #LilacFire if anyone in north county needs shelter for people/animals hmu I’ve got plenty of room\n",
            "  - There are about 230 manufactured homes there now for people ages 55 and older.\n",
            "  - \"I don't know how many are living and how many are dead,\" Hansen said.\n",
            "  - In addition, they are asking for donations of feed and bedding (shavings, etc) for the animals that are being sheltered from the fire (more than 100 have been brought in on Thursday).\n",
            "  - @sir_barton Channel 10 is reporting that there are people with trailers ready and willing to help. #LilacFire\n",
            "\n",
            "==================================================\n",
            "\n",
            "Query: How many people are missing\n",
            "Top 5 Relevant Documents:\n",
            "  - \"I don't know how many are living and how many are dead,\" Hansen said.\n",
            "  - #LilacFire 10 structures lost, 1000 threathened.  This is bad news.\n",
            "  - #LilacFire if anyone in north county needs shelter for people/animals hmu I’ve got plenty of room\n",
            "  - I just heard there are as many as 400 horses at San Luis Rey Training Center. #LilacFire\n",
            "  - California fires: officials made more than 100,000 calls for people to evacuate\n",
            "\n",
            "==================================================\n",
            "\n",
            "Query: How many people are trapped\n",
            "Top 5 Relevant Documents:\n",
            "  - \"I don't know how many are living and how many are dead,\" Hansen said.\n",
            "  - Three people were burned when they couldn’t escape flames fast enough, while another was hospitalized with smoke inhalation.\n",
            "  - #LilacFire 10 structures lost, 1000 threathened.  This is bad news.\n",
            "  - #LilacFire if anyone in north county needs shelter for people/animals hmu I’ve got plenty of room\n",
            "  - Why do alerts have to be so loud ! It scares me EVERY time\n",
            "\n",
            "==================================================\n",
            "\n",
            "Query: How many people have been injured\n",
            "Top 5 Relevant Documents:\n",
            "  - \"I don't know how many are living and how many are dead,\" Hansen said.\n",
            "  - #BREAKING: Two people have been injured in the #LilacFire. Cal Fire reports they are being treated for burns and transported. #NBC7\n",
            "  - Three people were burned when they couldn’t escape flames fast enough, while another was hospitalized with smoke inhalation.\n",
            "  - The #LilacFire is threatening 1,000 structures according to Cal Fire. At least 5 have been destroyed and many more damaged. #NBC7\n",
            "  - #LilacFire 10 structures lost, 1000 threathened.  This is bad news.\n",
            "\n",
            "==================================================\n",
            "\n",
            "Query: How many people have been killed\n",
            "Top 5 Relevant Documents:\n",
            "  - \"I don't know how many are living and how many are dead,\" Hansen said.\n",
            "  - The #LilacFire is threatening 1,000 structures according to Cal Fire. At least 5 have been destroyed and many more damaged. #NBC7\n",
            "  - There has been so many deaths around me recently &amp; when I can’t sleep at night it’s all I can think about.. this world is a fucked up place\n",
            "  - #LilacFire 10 structures lost, 1000 threathened.  This is bad news.\n",
            "  - The #LilacFire is now up to 1000+ acres, with at least half a dozen homes lost—likely more than that. This video ju… https://t.co/m0ejpp0EgY\n",
            "\n",
            "==================================================\n",
            "\n",
            "Query: How much monetary damage has been caused\n",
            "Top 5 Relevant Documents:\n",
            "  - Damages: At least 20 structures destroyed, unknown amount damaged.\n",
            "  - The #LilacFire is threatening 1,000 structures according to Cal Fire. At least 5 have been destroyed and many more damaged. #NBC7\n",
            "  - (Figures will be updated as new information becomes available)  Fires’ impact across Southern California  260,000+ acres have been burned in the Southland.\n",
            "  - At least 65 structures had been destroyed by fire by Friday morning.\n",
            "  - 519 power poles have been damaged by the Thomas fire.\n",
            "\n",
            "==================================================\n",
            "\n",
            "Query: How much rain-fall as occured\n",
            "Top 5 Relevant Documents:\n",
            "  - Windy and dry conditions — due to weeks of no discernible amounts of rain — prompted SDG&E to say power may be out for several days before being restored safely.\n",
            "  - No official casualty count was available Thursday evening though it did seem judging by the sheer numbers of four-hooved fire victims moving throughout the area, that the quick work of skillful horse \n",
            "  - #LilacFire 10 structures lost, 1000 threathened.  This is bad news.\n",
            "  - @ColinCowherd When football players plan to injure an opponent on the tackle it has ceased to be a game and that's… https://t.co/PLJ3ADPeSD\n",
            "  - Re: last Tweet.  They are calling it the #LilacFire. I hope all those folks get out safely. Known many ppl frm there. Burn S of #Pala #Carny\n",
            "\n",
            "==================================================\n",
            "\n",
            "Query: What are the wind speeds\n",
            "Top 5 Relevant Documents:\n",
            "  - @chulavistafire  what is the smoke I am seeing towards Mexico?\n",
            "  - RELATED: High winds wreak havoc in San Diego County  Wind gusts have been recorded at 40-50 mph in the area, according to the National Weather Service.When wind speeds are above 30-35 mph, pilots assi\n",
            "  - Mandatory evacuation areas are the same as the map from last hour.\n",
            "  - WTH? How did we wind up with fires in San Diego (was just an earthquake @ 4.2) after LA? Are these being set?\n",
            "  - There is a fire in San Diego as well now and wind speed are picking up to over 20 MPH. My heart hurts.\n",
            "\n",
            "==================================================\n",
            "\n",
            "Query: What areas are being evacuated\n",
            "Top 5 Relevant Documents:\n",
            "  - aaaand now san diego is on fire. IS SOMEONE ACTIVELY SETTING FIRES?\n",
            "  - Residents are evacuating as Ojai is ringed by flames.\n",
            "  - #LilacFire [update] Two civilian burn victims are in the process of being treated &amp; transported.\n",
            "  - Advertisement  Large swaths of Bonsall and Oceanside were evacuated, and authorities warned residents to be on high alert overnight.\n",
            "  - #LilacFire If you are evacuating be aware there are horses that have been set loose and may run on road.\n",
            "\n",
            "==================================================\n",
            "\n",
            "Query: What areas are predicted to be impacted\n",
            "Top 5 Relevant Documents:\n",
            "  - (Figures will be updated as new information becomes available)  Fires’ impact across Southern California  260,000+ acres have been burned in the Southland.\n",
            "  - OTHER CLOSURES  Legoland California will be closed Friday out of consideration for employees affected by the recent fires.\n",
            "  - In addition, officials are stressing that the 211 line is only for people directly impacted by the fire and that residents of other areas should not be calling that number.\n",
            "  - But that number will likely rise as firefighters attempted to get a handle on the out of control fire.\n",
            "  - If the need for those types of items arises, a call for help will be announced.\n",
            "\n",
            "==================================================\n",
            "\n",
            "Query: What areas are without power\n",
            "Top 5 Relevant Documents:\n",
            "  - The Palomar Mountain area had nearly 1,500 customers without power and in Alpine, about 920 customers were without power.\n",
            "  - 519 power poles have been damaged by the Thomas fire.\n",
            "  - There might be a likelihood that cell phones and cell backpacks may not function due to power being shut off.\n",
            "  - As of 7 p.m. Thursday, SDG&E said there were 17,000 customers who had their power shut off due to strong wind gusts in the area.\n",
            "  - In addition, another 7,200 in the SDG&E service territory are without electricity due to various conditions under investigation by the utility.\n",
            "\n",
            "==================================================\n",
            "\n",
            "Query: What at-risk groups are being impacted\n",
            "Top 5 Relevant Documents:\n",
            "  - #LilacFire [update] Two civilian burn victims are in the process of being treated &amp; transported.\n",
            "  - Authorities are trying to help large animals in harm's way.\n",
            "  - More than 1,048 animals are being cared for by Ventura County Animal Services.\n",
            "  - If the need for those types of items arises, a call for help will be announced.\n",
            "  - The California Thoroughbred Horsemen's Foundation is among the groups assisting those impacted by the fire.\n",
            "\n",
            "==================================================\n",
            "\n",
            "Query: What barriers are hindering response efforts\n",
            "Top 5 Relevant Documents:\n",
            "  - Residents are evacuating as Ojai is ringed by flames.\n",
            "  - Though flames were burning much less intensely, Los Angeles Mayor Eric Garcetti warned residents that it’s still an insecure time.\n",
            "  - They are accepting donations for Lilac Fire efforts at their website.\n",
            "  - About 300 firefighters were tackling flames moving through heavy fuels.\n",
            "  - Meanwhile, Harber said the website of San Diego Voluntary Organizations Active in Disaster has published a list of community partners aiding in fire recovery efforts.\n",
            "\n",
            "==================================================\n",
            "\n",
            "Query: What bridges have been closed\n",
            "Top 5 Relevant Documents:\n",
            "  - 519 power poles have been damaged by the Thomas fire.\n",
            "  - ROAD AND FREEWAY CLOSURES  All roadways that were previously closed are now open.\n",
            "  - OTHER CLOSURES  Legoland California will be closed Friday out of consideration for employees affected by the recent fires.\n",
            "  - #Breaking #LilacFire 150 acres. update: 2 structures have burned down, 12 damaged.  no word if these are homes or not.\n",
            "  - At least 65 structures had been destroyed by fire by Friday morning.\n",
            "\n",
            "==================================================\n",
            "\n",
            "Query: What curfews are in place\n",
            "Top 5 Relevant Documents:\n",
            "  - @hardwina Update your phone. They should do something similar to NBA flagrant fouls.\n",
            "  - @10News PLEASE have ur reporter covering the #LilacFire force those horses out of their corral and lock them out if the fire heads that way\n",
            "  - @papahenz_wx How do we get wind forecasts? Live in windpath of current #lilacfire\n",
            "  - The wind is really picking up in East #SanDiego County. Please take care with all things that could spark a wildfir… https://t.co/Cd2iFH4fWS\n",
            "  - As of about 12:30 a.m. Friday, some 578 people had checked into evacuations centers, a county spokeswoman said.\n",
            "\n",
            "==================================================\n",
            "\n",
            "Query: Are there goods needing delivered\n",
            "Top 5 Relevant Documents:\n",
            "  - If the need for those types of items arises, a call for help will be announced.\n",
            "  - @UPS stands for U Package Somewhere but obviously not on the right truck to get delivered in a timely manner.  11 d… https://t.co/cAnUBtvRhM\n",
            "  - Timely discussions in class today. “What 5 things would you grab if you had to leave home quickly? “ #LilacFire\n",
            "  - They will update if in-kind donations are needed once again.\n",
            "  - She said that, for now, items like clothing, blankets and household goods are not needed.\n",
            "\n",
            "==================================================\n",
            "\n",
            "Query: What events have been canceled\n",
            "Top 5 Relevant Documents:\n",
            "  - OTHER CLOSURES  Legoland California will be closed Friday out of consideration for employees affected by the recent fires.\n",
            "  - #Breaking #LilacFire 150 acres. update: 2 structures have burned down, 12 damaged.  no word if these are homes or not.\n",
            "  - (Figures will be updated as new information becomes available)  Fires’ impact across Southern California  260,000+ acres have been burned in the Southland.\n",
            "  - Now, dozens of homes there appear have been decimated; a final tally of lost homes was not immediately available.\n",
            "  - RELATED: Hotels busy taking in evacuees  Authorities confirmed 20 structures have been destroyed and 12 damaged, but witness accounts and news footage made it clear the count was much higher.\n",
            "\n",
            "==================================================\n",
            "\n",
            "Query: What goods are being requested\n",
            "Top 5 Relevant Documents:\n",
            "  - If the need for those types of items arises, a call for help will be announced.\n",
            "  - They will update if in-kind donations are needed once again.\n",
            "  - More than 1,048 animals are being cared for by Ventura County Animal Services.\n",
            "  - They say they have met needs at shelters and are asking for monetary donations in lieu of material supplies.\n",
            "  - #LilacFire [update] Two civilian burn victims are in the process of being treated &amp; transported.\n",
            "\n",
            "==================================================\n",
            "\n",
            "Query: What preparations are being made\n",
            "Top 5 Relevant Documents:\n",
            "  - They will update if in-kind donations are needed once again.\n",
            "  - Several thousand other buildings are being menaced by the fire.\n",
            "  - Starting to think these fires are being purposely started.  WHY? https://t.co/8AvzuNm3r3\n",
            "  - They were being treated at local hospitals, but their conditions were not immediately known.\n",
            "  - In addition, they are asking for donations of feed and bedding (shavings, etc) for the animals that are being sheltered from the fire (more than 100 have been brought in on Thursday).\n",
            "\n",
            "==================================================\n",
            "\n",
            "Query: What regions have announced a state of emergency\n",
            "Top 5 Relevant Documents:\n",
            "  - The county had declared a state of emergency earlier in the day.\n",
            "  - Gov. Jerry Brown has declared a state of emergency in the county.\n",
            "  - The County has proclaimed a local emergency due to the #LilacFire. The proclamation will help make the region eligi… https://t.co/DjntG79ySz\n",
            "  - Gov. Jerry Brown declared a state of emergency in the county.\n",
            "  - The County has proclaimed a local emergency due to the #LilacFire. The proclamation will help make the region eligi… https://t.co/y5pLca4Dpe\n",
            "\n",
            "==================================================\n",
            "\n",
            "Query: What roads are blocked / closed\n",
            "Top 5 Relevant Documents:\n",
            "  - ROAD AND FREEWAY CLOSURES  All roadways that were previously closed are now open.\n",
            "  - Please pray, all the roads are shut down and my parents are trying to get to my dogs 😥 https://t.co/14gkYRZJvU\n",
            "  - #SIGALERT #Brushfire now at 150 acres. 15S past the 76, two right lanes blocked. Transition 76 E/W to the 15 shutdo… https://t.co/UYp1z4BTLO\n",
            "  - A crash has the two right lanes blocked. in #MissionValley on 163 SB before 8, stopped traffic back to Genesee Ave, delay of 15 mins\n",
            "  - Old 395 closed south of 76.  Multiple lanes closed on adjacent I-15 SB per Caltrans.  CHP and Sheriffs are trying t… https://t.co/IJoRzvIz6X\n",
            "\n",
            "==================================================\n",
            "\n",
            "Query: What roads have been re-opened\n",
            "Top 5 Relevant Documents:\n",
            "  - ROAD AND FREEWAY CLOSURES  All roadways that were previously closed are now open.\n",
            "  - Update: All evacuation orders have been lifted (with some restrictions) and roads re-opened as of 4 p.m. Sunday, Dec. 10.\n",
            "  - #LilacFire [update] Two civilian burn victims are in the process of being treated &amp; transported.\n",
            "  - OTHER CLOSURES  Legoland California will be closed Friday out of consideration for employees affected by the recent fires.\n",
            "  - Horses could be seen running in circles as firefighters opened homes' gates to free them.\n",
            "\n",
            "==================================================\n",
            "\n",
            "Query: What services have been closed\n",
            "Top 5 Relevant Documents:\n",
            "  - ROAD AND FREEWAY CLOSURES  All roadways that were previously closed are now open.\n",
            "  - OTHER CLOSURES  Legoland California will be closed Friday out of consideration for employees affected by the recent fires.\n",
            "  - 519 power poles have been damaged by the Thomas fire.\n",
            "  - #LilacFire [update] Two civilian burn victims are in the process of being treated &amp; transported.\n",
            "  - #Breaking #LilacFire 150 acres. update: 2 structures have burned down, 12 damaged.  no word if these are homes or not.\n",
            "\n",
            "==================================================\n",
            "\n",
            "Query: What shelters are open\n",
            "Top 5 Relevant Documents:\n",
            "  - Second amber alert there are now fires in San Diego\n",
            "  - ROAD AND FREEWAY CLOSURES  All roadways that were previously closed are now open.\n",
            "  - They will update if in-kind donations are needed once again.\n",
            "  - They are accepting donations for Lilac Fire efforts at their website.\n",
            "  - Authorities are trying to help large animals in harm's way.\n",
            "\n",
            "==================================================\n",
            "\n",
            "Query: What third-party support groups are active\n",
            "Top 5 Relevant Documents:\n",
            "  - They will update if in-kind donations are needed once again.\n",
            "  - Meanwhile, Harber said the website of San Diego Voluntary Organizations Active in Disaster has published a list of community partners aiding in fire recovery efforts.\n",
            "  - They are accepting donations for Lilac Fire efforts at their website.\n",
            "  - LEA teams partner with each other to provide a \"feedforward\" on their Aim, Action Plans, and Challenges that might… https://t.co/eREmBNLy4S\n",
            "  - @EricBoehlert Not me. Use those resources to register new voters and activate the 54% of Americans who did not vote in 2016.\n",
            "\n",
            "==================================================\n",
            "\n",
            "Query: What traffic diversions are in effect\n",
            "Top 5 Relevant Documents:\n",
            "  - ROAD AND FREEWAY CLOSURES  All roadways that were previously closed are now open.\n",
            "  - #LilacFire If you are evacuating be aware there are horses that have been set loose and may run on road.\n",
            "  - A crash has the two right lanes blocked. in #MissionValley on 163 SB before 8, stopped traffic back to Genesee Ave, delay of 15 mins\n",
            "  - SDG&E’s outage map shows power shutoffs concentrated in the backcountry and North County areas but during the course of the day and part of the night, some outages were reported in more urban areas.\n",
            "  - A crash has the two right lanes blocked. in #SanDiego on 125 SB before 94, stopped traffic back to 8, delay of 18 mins #SDtraffic\n",
            "\n",
            "==================================================\n",
            "\n",
            "Query: What warnings are currently in effect\n",
            "Top 5 Relevant Documents:\n",
            "  - aaaand now san diego is on fire. IS SOMEONE ACTIVELY SETTING FIRES?\n",
            "  - They will update if in-kind donations are needed once again.\n",
            "  - #LilacFire [update] The fire is now 500 acres &amp; 0% contained. New evacuation warnings are in effect: North of Pala… https://t.co/YD8AmQgoVe\n",
            "  - A fire weather warning is in effect until 8 p.m. Sunday and means any fires that develop will spread rapidly and be very difficult to control.\n",
            "  - #LilacFire [update] A temporary evacuation point has been set up at the Carlsbad Forum. New evacuation orders are i… https://t.co/GLTeUqDOBH\n",
            "\n",
            "==================================================\n",
            "\n",
            "Query: What watches are currently in effect\n",
            "Top 5 Relevant Documents:\n",
            "  - aaaand now san diego is on fire. IS SOMEONE ACTIVELY SETTING FIRES?\n",
            "  - Is title fight still an active band? Or have they transitioned into a full time clothing brand?\n",
            "  - #LilacFire [update] The fire is now 500 acres &amp; 0% contained. New evacuation warnings are in effect: North of Pala… https://t.co/YD8AmQgoVe\n",
            "  - #LilacFire: A temporary evacuation point has been set up at the Carlsbad Forum. New evacuation orders are in effect… https://t.co/aA5HDgcvoQ\n",
            "  - #LilacFire [update] A temporary evacuation point has been set up at the Carlsbad Forum. New evacuation orders are i… https://t.co/GLTeUqDOBH\n",
            "\n",
            "==================================================\n",
            "\n",
            "Query: Where are emergency services deployed\n",
            "Top 5 Relevant Documents:\n",
            "  - More than 1,048 animals are being cared for by Ventura County Animal Services.\n",
            "  - Fire officials say damage assessment teams from Cal Fire and other fire agencies are continuing to inspect fire areas.\n",
            "  - San Diego please be alert fires are nearby and very elusive.\n",
            "  - Hearing that there are now fires in San Diego County. Please reach out if you need assistance.\n",
            "  - don’t call 911 for information , call 211 to know the locations that are being evacuated! #LilacFire\n",
            "\n",
            "==================================================\n",
            "\n",
            "Query: Where are emergency services needed\n",
            "Top 5 Relevant Documents:\n",
            "  - Hearing that there are now fires in San Diego County. Please reach out if you need assistance.\n",
            "  - don’t call 911 for information , call 211 to know the locations that are being evacuated! #LilacFire\n",
            "  - For tips on evacuating animals during a disaster, visit here.\n",
            "  - If the need for those types of items arises, a call for help will be announced.\n",
            "  - Remember 211 for urgent non emergency calls, leave 911 clear unless a critical emergency. #lilacfire\n",
            "\n",
            "==================================================\n",
            "\n",
            "Query: Where are evacuation centres\n",
            "Top 5 Relevant Documents:\n",
            "  - @NorthCountyFire where are horses being evacuated to? #lilacfire\n",
            "  - Does anyone know what direction  #LilacFire is moving?\n",
            "  - aaaand now san diego is on fire. IS SOMEONE ACTIVELY SETTING FIRES?\n",
            "  - @UniStudios headed there from San Diego tomorrow. Any concerns with the fires?\n",
            "  - A full list of the latest evacuations and closures can be found here.\n",
            "\n",
            "==================================================\n",
            "\n",
            "Query: Where are evacuations needed\n",
            "Top 5 Relevant Documents:\n",
            "  - A full list of the latest evacuations and closures can be found here.\n",
            "  - @NorthCountyFire where are horses being evacuated to? #lilacfire\n",
            "  - Does anyone know what direction  #LilacFire is moving?\n",
            "  - aaaand now san diego is on fire. IS SOMEONE ACTIVELY SETTING FIRES?\n",
            "  - Officials have lifted both evacuations and road closures caused by the fire.\n",
            "\n",
            "==================================================\n",
            "\n",
            "Query: Where are firefighters needed\n",
            "Top 5 Relevant Documents:\n",
            "  - @UniStudios headed there from San Diego tomorrow. Any concerns with the fires?\n",
            "  - @NorthCountyFire where are horses being evacuated to? #lilacfire\n",
            "  - About 500 firefighters from multiple local agencies were battling the blaze, Cal Fire said.\n",
            "  - Crews from nearby Camp Pendelton joined local firefighters in an effort to contain the blaze.\n",
            "  - About 300 firefighters were tackling flames moving through heavy fuels.\n",
            "\n",
            "==================================================\n",
            "\n",
            "Query: Where are people needing rescued\n",
            "Top 5 Relevant Documents:\n",
            "  - “Nobody knows where a lot of (the loose horses) ended up,” Dunham said.\n",
            "  - Authorities are trying to help large animals in harm's way.\n",
            "  - There are about 230 manufactured homes there now for people ages 55 and older.\n",
            "  - #LilacFire if anyone in north county needs shelter for people/animals hmu I’ve got plenty of room\n",
            "  - @sir_barton Channel 10 is reporting that there are people with trailers ready and willing to help. #LilacFire\n",
            "\n",
            "==================================================\n",
            "\n",
            "Query: Where are public officials located\n",
            "Top 5 Relevant Documents:\n",
            "  - And some were still missing, as nightfall prevented officials from thoroughly searching the area.\n",
            "  - San Diego please be alert fires are nearby and very elusive.\n",
            "  - @NorthCountyFire where are horses being evacuated to? #lilacfire\n",
            "  - They are accepting donations for Lilac Fire efforts at their website.\n",
            "  - don’t call 911 for information , call 211 to know the locations that are being evacuated! #LilacFire\n",
            "\n",
            "==================================================\n",
            "\n",
            "Query: Where are recovery efforts taking place\n",
            "Top 5 Relevant Documents:\n",
            "  - They are accepting donations for Lilac Fire efforts at their website.\n",
            "  - Meanwhile, Harber said the website of San Diego Voluntary Organizations Active in Disaster has published a list of community partners aiding in fire recovery efforts.\n",
            "  - #LilacFire [update] Two civilian burn victims are in the process of being treated &amp; transported.\n",
            "  - But that number will likely rise as firefighters attempted to get a handle on the out of control fire.\n",
            "  - The new blazes come as fatigued firefighters in Los Angeles County began to make progress on major fires that together have destroyed or damaged more than 30 homes and prompted the evacuations of more\n",
            "\n",
            "==================================================\n",
            "\n",
            "Query: Where has building or infrastructure damage occurred\n",
            "Top 5 Relevant Documents:\n",
            "  - Damages: At least 20 structures destroyed, unknown amount damaged.\n",
            "  - #Breaking #LilacFire 150 acres. update: 2 structures have burned down, 12 damaged.  no word if these are homes or not.\n",
            "  - #LilacFire 10 structures lost, 1000 threathened.  This is bad news.\n",
            "  - 519 power poles have been damaged by the Thomas fire.\n",
            "  - School closures on Tuesday:  · Bonsall Unified School District  Damage: 151 structures destroyed, 56 damaged, seven people injured.\n",
            "\n",
            "==================================================\n",
            "\n",
            "Query: Where has flooding occured\n",
            "Top 5 Relevant Documents:\n",
            "  - #LilacFire 10 structures lost, 1000 threathened.  This is bad news.\n",
            "  - Does anyone know what direction  #LilacFire is moving?\n",
            "  - @chulavistafire  what is the smoke I am seeing towards Mexico?\n",
            "  - Now, dozens of homes there appear have been decimated; a final tally of lost homes was not immediately available.\n",
            "  - (Figures will be updated as new information becomes available)  Fires’ impact across Southern California  260,000+ acres have been burned in the Southland.\n",
            "\n",
            "==================================================\n",
            "\n",
            "Query: Where are volunteers being requested\n",
            "Top 5 Relevant Documents:\n",
            "  - Volunteers wishing to donate their time should head to shelters across North County being operated by SDICRC.\n",
            "  - More than 1,048 animals are being cared for by Ventura County Animal Services.\n",
            "  - They will update if in-kind donations are needed once again.\n",
            "  - #LilacFire [update] Two civilian burn victims are in the process of being treated &amp; transported.\n",
            "  - They are accepting donations for Lilac Fire efforts at their website.\n",
            "\n",
            "==================================================\n",
            "\n",
            "Query: What hazardous chemicals or materials are involved\n",
            "Top 5 Relevant Documents:\n",
            "  - Other hazards to be aware of are trees and poles that are deeply charred or still smoking, as well as asbestos, heavy metals and chemicals on property.\n",
            "  - If the need for those types of items arises, a call for help will be announced.\n",
            "  - FIRE ALERT: We’re actively involved in animal evacuation and support efforts associated with the #LilacFire. Take y… https://t.co/y9mdrPTosj\n",
            "  - FIRE ALERT: We’re actively involved in animal evacuation and support efforts associated with the #LilacFire. Take y… https://t.co/SR3xagsXiN\n",
            "  - #LilacFire If you are evacuating be aware there are horses that have been set loose and may run on road.\n",
            "\n",
            "==================================================\n",
            "\n",
            "Query: Where has road damage occured\n",
            "Top 5 Relevant Documents:\n",
            "  - #LilacFire 10 structures lost, 1000 threathened.  This is bad news.\n",
            "  - Now, dozens of homes there appear have been decimated; a final tally of lost homes was not immediately available.\n",
            "  - Damages: At least 20 structures destroyed, unknown amount damaged.\n",
            "  - 519 power poles have been damaged by the Thomas fire.\n",
            "  - (Figures will be updated as new information becomes available)  Fires’ impact across Southern California  260,000+ acres have been burned in the Southland.\n",
            "\n",
            "==================================================\n",
            "\n",
            "Query: What area has the wildfire burned\n",
            "Top 5 Relevant Documents:\n",
            "  - The Lilac Fire has charred approximately 500 acres of land.\n",
            "  - This map shows where the Lilac fire near Fallbrook is burning\n",
            "  - Does anyone know what direction  #LilacFire is moving?\n",
            "  - The #LilacFire has grown to 2,000 acres with 0% contained and has destroyed at least 2 buildings\n",
            "  - Update the #LilacFire is up to 2000 acres burned and 0% contained.\n",
            "\n",
            "==================================================\n",
            "\n",
            "Query: Where are wind speeds expected to be high\n",
            "Top 5 Relevant Documents:\n",
            "  - Strong winds at times with the highest report coming just southwest of Julian at 75 mph. Winds will pick up after s… https://t.co/7sHDGOc6ql\n",
            "  - RELATED: High winds wreak havoc in San Diego County  Wind gusts have been recorded at 40-50 mph in the area, according to the National Weather Service.When wind speeds are above 30-35 mph, pilots assi\n",
            "  - We are getting alerts in San Diego, to expect power outages, die to high winds. So far we are fine, but the wind is… https://t.co/5ZdPb7sibM\n",
            "  - Strong winds may cause power outages today for far inland areas into the mountains. Make sure your phone is charged… https://t.co/UjHdIrE5uy\n",
            "  - 4 San Diego County school districts will be closed tomorrow due to forecast high winds, possible power outages: https://t.co/rtzYiss6Ou\n",
            "\n",
            "==================================================\n",
            "\n",
            "Query: Are helicopters available\n",
            "Top 5 Relevant Documents:\n",
            "  - They are accepting donations for Lilac Fire efforts at their website.\n",
            "  - Monetary donations for fire recovery efforts can also be made online here.\n",
            "  - At least one fire truck was on site with helicopters hovering above.\n",
            "  - San Diego please be alert fires are nearby and very elusive.\n",
            "  - More than 1,048 animals are being cared for by Ventura County Animal Services.\n",
            "\n",
            "==================================================\n",
            "\n",
            "Query: Where have homes been damaged or destroyed\n",
            "Top 5 Relevant Documents:\n",
            "  - #Breaking #LilacFire 150 acres. update: 2 structures have burned down, 12 damaged.  no word if these are homes or not.\n",
            "  - 519 power poles have been damaged by the Thomas fire.\n",
            "  - Damages: At least 20 structures destroyed, unknown amount damaged.\n",
            "  - At least 65 structures had been destroyed by fire by Friday morning.\n",
            "  - The #LilacFire is threatening 1,000 structures according to Cal Fire. At least 5 have been destroyed and many more damaged. #NBC7\n",
            "\n",
            "==================================================\n",
            "\n",
            "Query: How quickly is the fire spreading\n",
            "Top 5 Relevant Documents:\n",
            "  - The fast moving fire has charred more than 1,000 acres.\n",
            "  - Does anyone know what direction  #LilacFire is moving?\n",
            "  - PHOTOS: Lilac Fire strikes in North County  Cal Fire said the fire was, \"growing at a dangerous rate of spread with structures threatened.\"\n",
            "  - This map shows where the Lilac fire near Fallbrook is burning\n",
            "  - The fire’s burning 13 miles from my house. Praying the winds die down and the fire department can get it contained #LilacFire\n",
            "\n",
            "==================================================\n",
            "\n",
            "Query: What is the fire containment level\n",
            "Top 5 Relevant Documents:\n",
            "  - Does anyone know what direction  #LilacFire is moving?\n",
            "  - @chulavistafire  what is the smoke I am seeing towards Mexico?\n",
            "  - Check the SDG&E outage map for the latest information.\n",
            "  - #BREAKING: The #LilacFire burning in the Bonsall area is 150 acres with zero containment. Mandatory evacuations near Sullivan Middle School.\n",
            "  - #LilacFire 10 structures lost, 1000 threathened.  This is bad news.\n",
            "\n",
            "==================================================\n",
            "\n",
            "Total execution time: 225.33 seconds\n"
          ]
        }
      ]
    },
    {
      "cell_type": "markdown",
      "source": [
        "## Model Overview\n",
        "\n",
        "### Data Retrieval and Preprocessing\n",
        "Our model begins by defining specific events and their associated disaster-day pairs. Through a series of functions and API calls, we retrieve and preprocess the required data, converting it into a format amenable to analysis.\n",
        "\n",
        "### Fine-Tuning BERT for Masked Language Modeling (MLM)\n",
        "We utilize the BERT model, fine-tuned using unsupervised learning with the MLM task. The fine-tuning process involves masking specific tokens in the input text and training the model to predict the masked words. This helps the model to understand the semantics and structure of the language, especially in the context of disaster-related content.\n",
        "\n",
        "## Potential Issues\n",
        "\n",
        "1. **Lack of Fact Extraction Mechanism**: The current model focuses on MLM fine-tuning but lacks a dedicated mechanism for extracting atomic facts and importance scores as required by the task.\n",
        "2. **Redundancy Management**: The task requires a minimally redundant list of facts, and the current model does not have a clear method to handle redundancy.\n",
        "3. **Contextual Understanding**: Although BERT is a powerful model, it may not fully capture the specific nuances and contextual needs of disaster-related information.\n",
        "\n",
        "## Future Improvements and Fine-Tuning\n",
        "\n",
        "1. **Integrate Fact Extraction Layer**: We plan to integrate a specific layer for fact extraction, capable of producing atomic facts and associating importance scores with them.\n",
        "2. **Implement Redundancy Reduction**: A mechanism will be developed to ensure minimal redundancy in the extracted facts.\n",
        "3. **Utilize Domain-Specific Pretraining**: By further fine-tuning the model on domain-specific data, we can enhance its understanding of disaster-related terminology and context."
      ],
      "metadata": {
        "id": "4MKW6OB0pWQ6"
      }
    },
    {
      "cell_type": "code",
      "source": [
        "# Testing Against 2023 Data\n",
        "from sklearn.model_selection import train_test_split\n",
        "from torch.utils.data import TensorDataset, DataLoader\n",
        "\n",
        "# Assuming `text_data` is your combined text data\n",
        "text_data = User_Profiles_Event_Definition['text'].tolist() + itemsAsDataFrame['text'].tolist()\n",
        "\n",
        "# Split into training and test data\n",
        "train_data, test_data = train_test_split(text_data, test_size=0.2, random_state=42)\n",
        "\n",
        "# Preprocess training data\n",
        "train_encoded_data = tokenizer(train_data, truncation=True, padding='max_length', max_length=128, return_tensors='pt')\n",
        "\n",
        "# Preprocess test data\n",
        "test_encoded_data = tokenizer(test_data, truncation=True, padding='max_length', max_length=128, return_tensors='pt')\n",
        "\n",
        "# Masking for test data\n",
        "test_masked_input_ids = test_encoded_data['input_ids'].clone()\n",
        "for i in range(test_masked_input_ids.size(0)):\n",
        "    for j in range(test_masked_input_ids.size(1)):\n",
        "        if torch.rand(1).item() < probability:\n",
        "            test_masked_input_ids[i, j] = tokenizer.mask_token_id\n",
        "\n",
        "# DataLoader for test data\n",
        "test_dataset = TensorDataset(test_masked_input_ids, test_encoded_data['attention_mask'], test_encoded_data['input_ids'])\n",
        "test_dataloader = DataLoader(test_dataset, batch_size=16, shuffle=False)\n",
        "\n",
        "# Evaluate on test data\n",
        "model.eval()\n",
        "total_loss = 0\n",
        "for batch in test_dataloader:\n",
        "    inputs, attention_mask, labels = batch\n",
        "    with torch.no_grad():\n",
        "        outputs = model(inputs, attention_mask=attention_mask, labels=labels)\n",
        "        loss = outputs.loss\n",
        "        total_loss += loss.item()\n",
        "average_test_loss = total_loss / len(test_dataloader)\n",
        "print(f\"Test Loss: {average_test_loss}\")\n"
      ],
      "metadata": {
        "id": "VfU_cvw4wsyD",
        "outputId": "d36a6a00-3260-4e68-dd98-d04036de4e21",
        "colab": {
          "base_uri": "https://localhost:8080/",
          "height": 253
        }
      },
      "execution_count": null,
      "outputs": [
        {
          "output_type": "error",
          "ename": "NameError",
          "evalue": "ignored",
          "traceback": [
            "\u001b[0;31m---------------------------------------------------------------------------\u001b[0m",
            "\u001b[0;31mNameError\u001b[0m                                 Traceback (most recent call last)",
            "\u001b[0;32m<ipython-input-1-1e40c4a7678b>\u001b[0m in \u001b[0;36m<cell line: 6>\u001b[0;34m()\u001b[0m\n\u001b[1;32m      4\u001b[0m \u001b[0;34m\u001b[0m\u001b[0m\n\u001b[1;32m      5\u001b[0m \u001b[0;31m# Assuming `text_data` is your combined text data\u001b[0m\u001b[0;34m\u001b[0m\u001b[0;34m\u001b[0m\u001b[0m\n\u001b[0;32m----> 6\u001b[0;31m \u001b[0mtext_data\u001b[0m \u001b[0;34m=\u001b[0m \u001b[0mUser_Profiles_Event_Definition\u001b[0m\u001b[0;34m[\u001b[0m\u001b[0;34m'text'\u001b[0m\u001b[0;34m]\u001b[0m\u001b[0;34m.\u001b[0m\u001b[0mtolist\u001b[0m\u001b[0;34m(\u001b[0m\u001b[0;34m)\u001b[0m \u001b[0;34m+\u001b[0m \u001b[0mitemsAsDataFrame\u001b[0m\u001b[0;34m[\u001b[0m\u001b[0;34m'text'\u001b[0m\u001b[0;34m]\u001b[0m\u001b[0;34m.\u001b[0m\u001b[0mtolist\u001b[0m\u001b[0;34m(\u001b[0m\u001b[0;34m)\u001b[0m\u001b[0;34m\u001b[0m\u001b[0;34m\u001b[0m\u001b[0m\n\u001b[0m\u001b[1;32m      7\u001b[0m \u001b[0;34m\u001b[0m\u001b[0m\n\u001b[1;32m      8\u001b[0m \u001b[0;31m# Split into training and test data\u001b[0m\u001b[0;34m\u001b[0m\u001b[0;34m\u001b[0m\u001b[0m\n",
            "\u001b[0;31mNameError\u001b[0m: name 'User_Profiles_Event_Definition' is not defined"
          ]
        }
      ]
    }
  ],
  "metadata": {
    "colab": {
      "provenance": [],
      "machine_shape": "hm",
      "include_colab_link": true
    },
    "kernelspec": {
      "display_name": "Python 3",
      "name": "python3"
    },
    "language_info": {
      "name": "python"
    },
    "accelerator": "TPU",
    "widgets": {
      "application/vnd.jupyter.widget-state+json": {
        "560d8f75807a430cb6494087b75b8a6a": {
          "model_module": "@jupyter-widgets/controls",
          "model_name": "HBoxModel",
          "model_module_version": "1.5.0",
          "state": {
            "_dom_classes": [],
            "_model_module": "@jupyter-widgets/controls",
            "_model_module_version": "1.5.0",
            "_model_name": "HBoxModel",
            "_view_count": null,
            "_view_module": "@jupyter-widgets/controls",
            "_view_module_version": "1.5.0",
            "_view_name": "HBoxView",
            "box_style": "",
            "children": [
              "IPY_MODEL_47d6a3f8c5a84ebd8b9ed0532b09341f",
              "IPY_MODEL_9e43c33c0e7c451ebaca240c267b3545",
              "IPY_MODEL_b2ef44acea804fc5a2f4944b264233a4"
            ],
            "layout": "IPY_MODEL_8f5f555875a446a598ebc94b52fca29a"
          }
        },
        "47d6a3f8c5a84ebd8b9ed0532b09341f": {
          "model_module": "@jupyter-widgets/controls",
          "model_name": "HTMLModel",
          "model_module_version": "1.5.0",
          "state": {
            "_dom_classes": [],
            "_model_module": "@jupyter-widgets/controls",
            "_model_module_version": "1.5.0",
            "_model_name": "HTMLModel",
            "_view_count": null,
            "_view_module": "@jupyter-widgets/controls",
            "_view_module_version": "1.5.0",
            "_view_name": "HTMLView",
            "description": "",
            "description_tooltip": null,
            "layout": "IPY_MODEL_a9a93ae25fb94ef0bb52304a57a0ee50",
            "placeholder": "​",
            "style": "IPY_MODEL_4862f04203ae457ca41cdad0aaccfca6",
            "value": "Downloading (…)lve/main/config.json: 100%"
          }
        },
        "9e43c33c0e7c451ebaca240c267b3545": {
          "model_module": "@jupyter-widgets/controls",
          "model_name": "FloatProgressModel",
          "model_module_version": "1.5.0",
          "state": {
            "_dom_classes": [],
            "_model_module": "@jupyter-widgets/controls",
            "_model_module_version": "1.5.0",
            "_model_name": "FloatProgressModel",
            "_view_count": null,
            "_view_module": "@jupyter-widgets/controls",
            "_view_module_version": "1.5.0",
            "_view_name": "ProgressView",
            "bar_style": "success",
            "description": "",
            "description_tooltip": null,
            "layout": "IPY_MODEL_03a40e0d2e184a669c918f5517785408",
            "max": 570,
            "min": 0,
            "orientation": "horizontal",
            "style": "IPY_MODEL_7eae8b7d5e26413c9a8be9c54983ffda",
            "value": 570
          }
        },
        "b2ef44acea804fc5a2f4944b264233a4": {
          "model_module": "@jupyter-widgets/controls",
          "model_name": "HTMLModel",
          "model_module_version": "1.5.0",
          "state": {
            "_dom_classes": [],
            "_model_module": "@jupyter-widgets/controls",
            "_model_module_version": "1.5.0",
            "_model_name": "HTMLModel",
            "_view_count": null,
            "_view_module": "@jupyter-widgets/controls",
            "_view_module_version": "1.5.0",
            "_view_name": "HTMLView",
            "description": "",
            "description_tooltip": null,
            "layout": "IPY_MODEL_f3e459bf6e8e439d8a0ec7e536dd0868",
            "placeholder": "​",
            "style": "IPY_MODEL_c9a4a0118f4d4bf59a78aee334e98a9b",
            "value": " 570/570 [00:00&lt;00:00, 46.7kB/s]"
          }
        },
        "8f5f555875a446a598ebc94b52fca29a": {
          "model_module": "@jupyter-widgets/base",
          "model_name": "LayoutModel",
          "model_module_version": "1.2.0",
          "state": {
            "_model_module": "@jupyter-widgets/base",
            "_model_module_version": "1.2.0",
            "_model_name": "LayoutModel",
            "_view_count": null,
            "_view_module": "@jupyter-widgets/base",
            "_view_module_version": "1.2.0",
            "_view_name": "LayoutView",
            "align_content": null,
            "align_items": null,
            "align_self": null,
            "border": null,
            "bottom": null,
            "display": null,
            "flex": null,
            "flex_flow": null,
            "grid_area": null,
            "grid_auto_columns": null,
            "grid_auto_flow": null,
            "grid_auto_rows": null,
            "grid_column": null,
            "grid_gap": null,
            "grid_row": null,
            "grid_template_areas": null,
            "grid_template_columns": null,
            "grid_template_rows": null,
            "height": null,
            "justify_content": null,
            "justify_items": null,
            "left": null,
            "margin": null,
            "max_height": null,
            "max_width": null,
            "min_height": null,
            "min_width": null,
            "object_fit": null,
            "object_position": null,
            "order": null,
            "overflow": null,
            "overflow_x": null,
            "overflow_y": null,
            "padding": null,
            "right": null,
            "top": null,
            "visibility": null,
            "width": null
          }
        },
        "a9a93ae25fb94ef0bb52304a57a0ee50": {
          "model_module": "@jupyter-widgets/base",
          "model_name": "LayoutModel",
          "model_module_version": "1.2.0",
          "state": {
            "_model_module": "@jupyter-widgets/base",
            "_model_module_version": "1.2.0",
            "_model_name": "LayoutModel",
            "_view_count": null,
            "_view_module": "@jupyter-widgets/base",
            "_view_module_version": "1.2.0",
            "_view_name": "LayoutView",
            "align_content": null,
            "align_items": null,
            "align_self": null,
            "border": null,
            "bottom": null,
            "display": null,
            "flex": null,
            "flex_flow": null,
            "grid_area": null,
            "grid_auto_columns": null,
            "grid_auto_flow": null,
            "grid_auto_rows": null,
            "grid_column": null,
            "grid_gap": null,
            "grid_row": null,
            "grid_template_areas": null,
            "grid_template_columns": null,
            "grid_template_rows": null,
            "height": null,
            "justify_content": null,
            "justify_items": null,
            "left": null,
            "margin": null,
            "max_height": null,
            "max_width": null,
            "min_height": null,
            "min_width": null,
            "object_fit": null,
            "object_position": null,
            "order": null,
            "overflow": null,
            "overflow_x": null,
            "overflow_y": null,
            "padding": null,
            "right": null,
            "top": null,
            "visibility": null,
            "width": null
          }
        },
        "4862f04203ae457ca41cdad0aaccfca6": {
          "model_module": "@jupyter-widgets/controls",
          "model_name": "DescriptionStyleModel",
          "model_module_version": "1.5.0",
          "state": {
            "_model_module": "@jupyter-widgets/controls",
            "_model_module_version": "1.5.0",
            "_model_name": "DescriptionStyleModel",
            "_view_count": null,
            "_view_module": "@jupyter-widgets/base",
            "_view_module_version": "1.2.0",
            "_view_name": "StyleView",
            "description_width": ""
          }
        },
        "03a40e0d2e184a669c918f5517785408": {
          "model_module": "@jupyter-widgets/base",
          "model_name": "LayoutModel",
          "model_module_version": "1.2.0",
          "state": {
            "_model_module": "@jupyter-widgets/base",
            "_model_module_version": "1.2.0",
            "_model_name": "LayoutModel",
            "_view_count": null,
            "_view_module": "@jupyter-widgets/base",
            "_view_module_version": "1.2.0",
            "_view_name": "LayoutView",
            "align_content": null,
            "align_items": null,
            "align_self": null,
            "border": null,
            "bottom": null,
            "display": null,
            "flex": null,
            "flex_flow": null,
            "grid_area": null,
            "grid_auto_columns": null,
            "grid_auto_flow": null,
            "grid_auto_rows": null,
            "grid_column": null,
            "grid_gap": null,
            "grid_row": null,
            "grid_template_areas": null,
            "grid_template_columns": null,
            "grid_template_rows": null,
            "height": null,
            "justify_content": null,
            "justify_items": null,
            "left": null,
            "margin": null,
            "max_height": null,
            "max_width": null,
            "min_height": null,
            "min_width": null,
            "object_fit": null,
            "object_position": null,
            "order": null,
            "overflow": null,
            "overflow_x": null,
            "overflow_y": null,
            "padding": null,
            "right": null,
            "top": null,
            "visibility": null,
            "width": null
          }
        },
        "7eae8b7d5e26413c9a8be9c54983ffda": {
          "model_module": "@jupyter-widgets/controls",
          "model_name": "ProgressStyleModel",
          "model_module_version": "1.5.0",
          "state": {
            "_model_module": "@jupyter-widgets/controls",
            "_model_module_version": "1.5.0",
            "_model_name": "ProgressStyleModel",
            "_view_count": null,
            "_view_module": "@jupyter-widgets/base",
            "_view_module_version": "1.2.0",
            "_view_name": "StyleView",
            "bar_color": null,
            "description_width": ""
          }
        },
        "f3e459bf6e8e439d8a0ec7e536dd0868": {
          "model_module": "@jupyter-widgets/base",
          "model_name": "LayoutModel",
          "model_module_version": "1.2.0",
          "state": {
            "_model_module": "@jupyter-widgets/base",
            "_model_module_version": "1.2.0",
            "_model_name": "LayoutModel",
            "_view_count": null,
            "_view_module": "@jupyter-widgets/base",
            "_view_module_version": "1.2.0",
            "_view_name": "LayoutView",
            "align_content": null,
            "align_items": null,
            "align_self": null,
            "border": null,
            "bottom": null,
            "display": null,
            "flex": null,
            "flex_flow": null,
            "grid_area": null,
            "grid_auto_columns": null,
            "grid_auto_flow": null,
            "grid_auto_rows": null,
            "grid_column": null,
            "grid_gap": null,
            "grid_row": null,
            "grid_template_areas": null,
            "grid_template_columns": null,
            "grid_template_rows": null,
            "height": null,
            "justify_content": null,
            "justify_items": null,
            "left": null,
            "margin": null,
            "max_height": null,
            "max_width": null,
            "min_height": null,
            "min_width": null,
            "object_fit": null,
            "object_position": null,
            "order": null,
            "overflow": null,
            "overflow_x": null,
            "overflow_y": null,
            "padding": null,
            "right": null,
            "top": null,
            "visibility": null,
            "width": null
          }
        },
        "c9a4a0118f4d4bf59a78aee334e98a9b": {
          "model_module": "@jupyter-widgets/controls",
          "model_name": "DescriptionStyleModel",
          "model_module_version": "1.5.0",
          "state": {
            "_model_module": "@jupyter-widgets/controls",
            "_model_module_version": "1.5.0",
            "_model_name": "DescriptionStyleModel",
            "_view_count": null,
            "_view_module": "@jupyter-widgets/base",
            "_view_module_version": "1.2.0",
            "_view_name": "StyleView",
            "description_width": ""
          }
        },
        "44b93683bf174bb9930c371139c6ca93": {
          "model_module": "@jupyter-widgets/controls",
          "model_name": "HBoxModel",
          "model_module_version": "1.5.0",
          "state": {
            "_dom_classes": [],
            "_model_module": "@jupyter-widgets/controls",
            "_model_module_version": "1.5.0",
            "_model_name": "HBoxModel",
            "_view_count": null,
            "_view_module": "@jupyter-widgets/controls",
            "_view_module_version": "1.5.0",
            "_view_name": "HBoxView",
            "box_style": "",
            "children": [
              "IPY_MODEL_77f936a3afc74a3283a2b195919d7263",
              "IPY_MODEL_8a6403b9781544698387524c212c34e2",
              "IPY_MODEL_9bba37526b5141da96f979ca4ffe7e96"
            ],
            "layout": "IPY_MODEL_c040d425d47640498142f0a05d5ff356"
          }
        },
        "77f936a3afc74a3283a2b195919d7263": {
          "model_module": "@jupyter-widgets/controls",
          "model_name": "HTMLModel",
          "model_module_version": "1.5.0",
          "state": {
            "_dom_classes": [],
            "_model_module": "@jupyter-widgets/controls",
            "_model_module_version": "1.5.0",
            "_model_name": "HTMLModel",
            "_view_count": null,
            "_view_module": "@jupyter-widgets/controls",
            "_view_module_version": "1.5.0",
            "_view_name": "HTMLView",
            "description": "",
            "description_tooltip": null,
            "layout": "IPY_MODEL_6ebf027473734ad4a76cab6dd9413a51",
            "placeholder": "​",
            "style": "IPY_MODEL_68f2aa755aec4edea5765ed34a0a63e6",
            "value": "Downloading model.safetensors: 100%"
          }
        },
        "8a6403b9781544698387524c212c34e2": {
          "model_module": "@jupyter-widgets/controls",
          "model_name": "FloatProgressModel",
          "model_module_version": "1.5.0",
          "state": {
            "_dom_classes": [],
            "_model_module": "@jupyter-widgets/controls",
            "_model_module_version": "1.5.0",
            "_model_name": "FloatProgressModel",
            "_view_count": null,
            "_view_module": "@jupyter-widgets/controls",
            "_view_module_version": "1.5.0",
            "_view_name": "ProgressView",
            "bar_style": "success",
            "description": "",
            "description_tooltip": null,
            "layout": "IPY_MODEL_f53bed8b81f34a09b7517093530a2a51",
            "max": 440449768,
            "min": 0,
            "orientation": "horizontal",
            "style": "IPY_MODEL_1f0b0e3f07f84279b392134ad8c380ac",
            "value": 440449768
          }
        },
        "9bba37526b5141da96f979ca4ffe7e96": {
          "model_module": "@jupyter-widgets/controls",
          "model_name": "HTMLModel",
          "model_module_version": "1.5.0",
          "state": {
            "_dom_classes": [],
            "_model_module": "@jupyter-widgets/controls",
            "_model_module_version": "1.5.0",
            "_model_name": "HTMLModel",
            "_view_count": null,
            "_view_module": "@jupyter-widgets/controls",
            "_view_module_version": "1.5.0",
            "_view_name": "HTMLView",
            "description": "",
            "description_tooltip": null,
            "layout": "IPY_MODEL_83d692586cb24e97bd59b74c0d0eb4a1",
            "placeholder": "​",
            "style": "IPY_MODEL_eb028b5185b24c148bf56c3d6734f77c",
            "value": " 440M/440M [00:13&lt;00:00, 33.7MB/s]"
          }
        },
        "c040d425d47640498142f0a05d5ff356": {
          "model_module": "@jupyter-widgets/base",
          "model_name": "LayoutModel",
          "model_module_version": "1.2.0",
          "state": {
            "_model_module": "@jupyter-widgets/base",
            "_model_module_version": "1.2.0",
            "_model_name": "LayoutModel",
            "_view_count": null,
            "_view_module": "@jupyter-widgets/base",
            "_view_module_version": "1.2.0",
            "_view_name": "LayoutView",
            "align_content": null,
            "align_items": null,
            "align_self": null,
            "border": null,
            "bottom": null,
            "display": null,
            "flex": null,
            "flex_flow": null,
            "grid_area": null,
            "grid_auto_columns": null,
            "grid_auto_flow": null,
            "grid_auto_rows": null,
            "grid_column": null,
            "grid_gap": null,
            "grid_row": null,
            "grid_template_areas": null,
            "grid_template_columns": null,
            "grid_template_rows": null,
            "height": null,
            "justify_content": null,
            "justify_items": null,
            "left": null,
            "margin": null,
            "max_height": null,
            "max_width": null,
            "min_height": null,
            "min_width": null,
            "object_fit": null,
            "object_position": null,
            "order": null,
            "overflow": null,
            "overflow_x": null,
            "overflow_y": null,
            "padding": null,
            "right": null,
            "top": null,
            "visibility": null,
            "width": null
          }
        },
        "6ebf027473734ad4a76cab6dd9413a51": {
          "model_module": "@jupyter-widgets/base",
          "model_name": "LayoutModel",
          "model_module_version": "1.2.0",
          "state": {
            "_model_module": "@jupyter-widgets/base",
            "_model_module_version": "1.2.0",
            "_model_name": "LayoutModel",
            "_view_count": null,
            "_view_module": "@jupyter-widgets/base",
            "_view_module_version": "1.2.0",
            "_view_name": "LayoutView",
            "align_content": null,
            "align_items": null,
            "align_self": null,
            "border": null,
            "bottom": null,
            "display": null,
            "flex": null,
            "flex_flow": null,
            "grid_area": null,
            "grid_auto_columns": null,
            "grid_auto_flow": null,
            "grid_auto_rows": null,
            "grid_column": null,
            "grid_gap": null,
            "grid_row": null,
            "grid_template_areas": null,
            "grid_template_columns": null,
            "grid_template_rows": null,
            "height": null,
            "justify_content": null,
            "justify_items": null,
            "left": null,
            "margin": null,
            "max_height": null,
            "max_width": null,
            "min_height": null,
            "min_width": null,
            "object_fit": null,
            "object_position": null,
            "order": null,
            "overflow": null,
            "overflow_x": null,
            "overflow_y": null,
            "padding": null,
            "right": null,
            "top": null,
            "visibility": null,
            "width": null
          }
        },
        "68f2aa755aec4edea5765ed34a0a63e6": {
          "model_module": "@jupyter-widgets/controls",
          "model_name": "DescriptionStyleModel",
          "model_module_version": "1.5.0",
          "state": {
            "_model_module": "@jupyter-widgets/controls",
            "_model_module_version": "1.5.0",
            "_model_name": "DescriptionStyleModel",
            "_view_count": null,
            "_view_module": "@jupyter-widgets/base",
            "_view_module_version": "1.2.0",
            "_view_name": "StyleView",
            "description_width": ""
          }
        },
        "f53bed8b81f34a09b7517093530a2a51": {
          "model_module": "@jupyter-widgets/base",
          "model_name": "LayoutModel",
          "model_module_version": "1.2.0",
          "state": {
            "_model_module": "@jupyter-widgets/base",
            "_model_module_version": "1.2.0",
            "_model_name": "LayoutModel",
            "_view_count": null,
            "_view_module": "@jupyter-widgets/base",
            "_view_module_version": "1.2.0",
            "_view_name": "LayoutView",
            "align_content": null,
            "align_items": null,
            "align_self": null,
            "border": null,
            "bottom": null,
            "display": null,
            "flex": null,
            "flex_flow": null,
            "grid_area": null,
            "grid_auto_columns": null,
            "grid_auto_flow": null,
            "grid_auto_rows": null,
            "grid_column": null,
            "grid_gap": null,
            "grid_row": null,
            "grid_template_areas": null,
            "grid_template_columns": null,
            "grid_template_rows": null,
            "height": null,
            "justify_content": null,
            "justify_items": null,
            "left": null,
            "margin": null,
            "max_height": null,
            "max_width": null,
            "min_height": null,
            "min_width": null,
            "object_fit": null,
            "object_position": null,
            "order": null,
            "overflow": null,
            "overflow_x": null,
            "overflow_y": null,
            "padding": null,
            "right": null,
            "top": null,
            "visibility": null,
            "width": null
          }
        },
        "1f0b0e3f07f84279b392134ad8c380ac": {
          "model_module": "@jupyter-widgets/controls",
          "model_name": "ProgressStyleModel",
          "model_module_version": "1.5.0",
          "state": {
            "_model_module": "@jupyter-widgets/controls",
            "_model_module_version": "1.5.0",
            "_model_name": "ProgressStyleModel",
            "_view_count": null,
            "_view_module": "@jupyter-widgets/base",
            "_view_module_version": "1.2.0",
            "_view_name": "StyleView",
            "bar_color": null,
            "description_width": ""
          }
        },
        "83d692586cb24e97bd59b74c0d0eb4a1": {
          "model_module": "@jupyter-widgets/base",
          "model_name": "LayoutModel",
          "model_module_version": "1.2.0",
          "state": {
            "_model_module": "@jupyter-widgets/base",
            "_model_module_version": "1.2.0",
            "_model_name": "LayoutModel",
            "_view_count": null,
            "_view_module": "@jupyter-widgets/base",
            "_view_module_version": "1.2.0",
            "_view_name": "LayoutView",
            "align_content": null,
            "align_items": null,
            "align_self": null,
            "border": null,
            "bottom": null,
            "display": null,
            "flex": null,
            "flex_flow": null,
            "grid_area": null,
            "grid_auto_columns": null,
            "grid_auto_flow": null,
            "grid_auto_rows": null,
            "grid_column": null,
            "grid_gap": null,
            "grid_row": null,
            "grid_template_areas": null,
            "grid_template_columns": null,
            "grid_template_rows": null,
            "height": null,
            "justify_content": null,
            "justify_items": null,
            "left": null,
            "margin": null,
            "max_height": null,
            "max_width": null,
            "min_height": null,
            "min_width": null,
            "object_fit": null,
            "object_position": null,
            "order": null,
            "overflow": null,
            "overflow_x": null,
            "overflow_y": null,
            "padding": null,
            "right": null,
            "top": null,
            "visibility": null,
            "width": null
          }
        },
        "eb028b5185b24c148bf56c3d6734f77c": {
          "model_module": "@jupyter-widgets/controls",
          "model_name": "DescriptionStyleModel",
          "model_module_version": "1.5.0",
          "state": {
            "_model_module": "@jupyter-widgets/controls",
            "_model_module_version": "1.5.0",
            "_model_name": "DescriptionStyleModel",
            "_view_count": null,
            "_view_module": "@jupyter-widgets/base",
            "_view_module_version": "1.2.0",
            "_view_name": "StyleView",
            "description_width": ""
          }
        },
        "8f72ba54e3894ffcad2c40cdd0618615": {
          "model_module": "@jupyter-widgets/controls",
          "model_name": "HBoxModel",
          "model_module_version": "1.5.0",
          "state": {
            "_dom_classes": [],
            "_model_module": "@jupyter-widgets/controls",
            "_model_module_version": "1.5.0",
            "_model_name": "HBoxModel",
            "_view_count": null,
            "_view_module": "@jupyter-widgets/controls",
            "_view_module_version": "1.5.0",
            "_view_name": "HBoxView",
            "box_style": "",
            "children": [
              "IPY_MODEL_3f1c01d45f7442e58b4b5b7c0aaf64a7",
              "IPY_MODEL_d47e1ca545944d7184c2793c727d41bb",
              "IPY_MODEL_76d7c079640943bea0213a6f4044c2f9"
            ],
            "layout": "IPY_MODEL_a03b8cbdad2440e2bf750efd0b421b4f"
          }
        },
        "3f1c01d45f7442e58b4b5b7c0aaf64a7": {
          "model_module": "@jupyter-widgets/controls",
          "model_name": "HTMLModel",
          "model_module_version": "1.5.0",
          "state": {
            "_dom_classes": [],
            "_model_module": "@jupyter-widgets/controls",
            "_model_module_version": "1.5.0",
            "_model_name": "HTMLModel",
            "_view_count": null,
            "_view_module": "@jupyter-widgets/controls",
            "_view_module_version": "1.5.0",
            "_view_name": "HTMLView",
            "description": "",
            "description_tooltip": null,
            "layout": "IPY_MODEL_041c7b2b261543dfaf46b01d1488e277",
            "placeholder": "​",
            "style": "IPY_MODEL_232221a1b07f4b27a7955878fdeddeec",
            "value": "Downloading (…)solve/main/vocab.txt: 100%"
          }
        },
        "d47e1ca545944d7184c2793c727d41bb": {
          "model_module": "@jupyter-widgets/controls",
          "model_name": "FloatProgressModel",
          "model_module_version": "1.5.0",
          "state": {
            "_dom_classes": [],
            "_model_module": "@jupyter-widgets/controls",
            "_model_module_version": "1.5.0",
            "_model_name": "FloatProgressModel",
            "_view_count": null,
            "_view_module": "@jupyter-widgets/controls",
            "_view_module_version": "1.5.0",
            "_view_name": "ProgressView",
            "bar_style": "success",
            "description": "",
            "description_tooltip": null,
            "layout": "IPY_MODEL_8ba066c8d0fd487091982574fa3d8200",
            "max": 231508,
            "min": 0,
            "orientation": "horizontal",
            "style": "IPY_MODEL_384acd2fdfc94024adc191680fde5466",
            "value": 231508
          }
        },
        "76d7c079640943bea0213a6f4044c2f9": {
          "model_module": "@jupyter-widgets/controls",
          "model_name": "HTMLModel",
          "model_module_version": "1.5.0",
          "state": {
            "_dom_classes": [],
            "_model_module": "@jupyter-widgets/controls",
            "_model_module_version": "1.5.0",
            "_model_name": "HTMLModel",
            "_view_count": null,
            "_view_module": "@jupyter-widgets/controls",
            "_view_module_version": "1.5.0",
            "_view_name": "HTMLView",
            "description": "",
            "description_tooltip": null,
            "layout": "IPY_MODEL_a8ff2727cfca42df96d557c6d02fa007",
            "placeholder": "​",
            "style": "IPY_MODEL_53ccbb64a93644cb8d6f6369da44f6f6",
            "value": " 232k/232k [00:00&lt;00:00, 5.84MB/s]"
          }
        },
        "a03b8cbdad2440e2bf750efd0b421b4f": {
          "model_module": "@jupyter-widgets/base",
          "model_name": "LayoutModel",
          "model_module_version": "1.2.0",
          "state": {
            "_model_module": "@jupyter-widgets/base",
            "_model_module_version": "1.2.0",
            "_model_name": "LayoutModel",
            "_view_count": null,
            "_view_module": "@jupyter-widgets/base",
            "_view_module_version": "1.2.0",
            "_view_name": "LayoutView",
            "align_content": null,
            "align_items": null,
            "align_self": null,
            "border": null,
            "bottom": null,
            "display": null,
            "flex": null,
            "flex_flow": null,
            "grid_area": null,
            "grid_auto_columns": null,
            "grid_auto_flow": null,
            "grid_auto_rows": null,
            "grid_column": null,
            "grid_gap": null,
            "grid_row": null,
            "grid_template_areas": null,
            "grid_template_columns": null,
            "grid_template_rows": null,
            "height": null,
            "justify_content": null,
            "justify_items": null,
            "left": null,
            "margin": null,
            "max_height": null,
            "max_width": null,
            "min_height": null,
            "min_width": null,
            "object_fit": null,
            "object_position": null,
            "order": null,
            "overflow": null,
            "overflow_x": null,
            "overflow_y": null,
            "padding": null,
            "right": null,
            "top": null,
            "visibility": null,
            "width": null
          }
        },
        "041c7b2b261543dfaf46b01d1488e277": {
          "model_module": "@jupyter-widgets/base",
          "model_name": "LayoutModel",
          "model_module_version": "1.2.0",
          "state": {
            "_model_module": "@jupyter-widgets/base",
            "_model_module_version": "1.2.0",
            "_model_name": "LayoutModel",
            "_view_count": null,
            "_view_module": "@jupyter-widgets/base",
            "_view_module_version": "1.2.0",
            "_view_name": "LayoutView",
            "align_content": null,
            "align_items": null,
            "align_self": null,
            "border": null,
            "bottom": null,
            "display": null,
            "flex": null,
            "flex_flow": null,
            "grid_area": null,
            "grid_auto_columns": null,
            "grid_auto_flow": null,
            "grid_auto_rows": null,
            "grid_column": null,
            "grid_gap": null,
            "grid_row": null,
            "grid_template_areas": null,
            "grid_template_columns": null,
            "grid_template_rows": null,
            "height": null,
            "justify_content": null,
            "justify_items": null,
            "left": null,
            "margin": null,
            "max_height": null,
            "max_width": null,
            "min_height": null,
            "min_width": null,
            "object_fit": null,
            "object_position": null,
            "order": null,
            "overflow": null,
            "overflow_x": null,
            "overflow_y": null,
            "padding": null,
            "right": null,
            "top": null,
            "visibility": null,
            "width": null
          }
        },
        "232221a1b07f4b27a7955878fdeddeec": {
          "model_module": "@jupyter-widgets/controls",
          "model_name": "DescriptionStyleModel",
          "model_module_version": "1.5.0",
          "state": {
            "_model_module": "@jupyter-widgets/controls",
            "_model_module_version": "1.5.0",
            "_model_name": "DescriptionStyleModel",
            "_view_count": null,
            "_view_module": "@jupyter-widgets/base",
            "_view_module_version": "1.2.0",
            "_view_name": "StyleView",
            "description_width": ""
          }
        },
        "8ba066c8d0fd487091982574fa3d8200": {
          "model_module": "@jupyter-widgets/base",
          "model_name": "LayoutModel",
          "model_module_version": "1.2.0",
          "state": {
            "_model_module": "@jupyter-widgets/base",
            "_model_module_version": "1.2.0",
            "_model_name": "LayoutModel",
            "_view_count": null,
            "_view_module": "@jupyter-widgets/base",
            "_view_module_version": "1.2.0",
            "_view_name": "LayoutView",
            "align_content": null,
            "align_items": null,
            "align_self": null,
            "border": null,
            "bottom": null,
            "display": null,
            "flex": null,
            "flex_flow": null,
            "grid_area": null,
            "grid_auto_columns": null,
            "grid_auto_flow": null,
            "grid_auto_rows": null,
            "grid_column": null,
            "grid_gap": null,
            "grid_row": null,
            "grid_template_areas": null,
            "grid_template_columns": null,
            "grid_template_rows": null,
            "height": null,
            "justify_content": null,
            "justify_items": null,
            "left": null,
            "margin": null,
            "max_height": null,
            "max_width": null,
            "min_height": null,
            "min_width": null,
            "object_fit": null,
            "object_position": null,
            "order": null,
            "overflow": null,
            "overflow_x": null,
            "overflow_y": null,
            "padding": null,
            "right": null,
            "top": null,
            "visibility": null,
            "width": null
          }
        },
        "384acd2fdfc94024adc191680fde5466": {
          "model_module": "@jupyter-widgets/controls",
          "model_name": "ProgressStyleModel",
          "model_module_version": "1.5.0",
          "state": {
            "_model_module": "@jupyter-widgets/controls",
            "_model_module_version": "1.5.0",
            "_model_name": "ProgressStyleModel",
            "_view_count": null,
            "_view_module": "@jupyter-widgets/base",
            "_view_module_version": "1.2.0",
            "_view_name": "StyleView",
            "bar_color": null,
            "description_width": ""
          }
        },
        "a8ff2727cfca42df96d557c6d02fa007": {
          "model_module": "@jupyter-widgets/base",
          "model_name": "LayoutModel",
          "model_module_version": "1.2.0",
          "state": {
            "_model_module": "@jupyter-widgets/base",
            "_model_module_version": "1.2.0",
            "_model_name": "LayoutModel",
            "_view_count": null,
            "_view_module": "@jupyter-widgets/base",
            "_view_module_version": "1.2.0",
            "_view_name": "LayoutView",
            "align_content": null,
            "align_items": null,
            "align_self": null,
            "border": null,
            "bottom": null,
            "display": null,
            "flex": null,
            "flex_flow": null,
            "grid_area": null,
            "grid_auto_columns": null,
            "grid_auto_flow": null,
            "grid_auto_rows": null,
            "grid_column": null,
            "grid_gap": null,
            "grid_row": null,
            "grid_template_areas": null,
            "grid_template_columns": null,
            "grid_template_rows": null,
            "height": null,
            "justify_content": null,
            "justify_items": null,
            "left": null,
            "margin": null,
            "max_height": null,
            "max_width": null,
            "min_height": null,
            "min_width": null,
            "object_fit": null,
            "object_position": null,
            "order": null,
            "overflow": null,
            "overflow_x": null,
            "overflow_y": null,
            "padding": null,
            "right": null,
            "top": null,
            "visibility": null,
            "width": null
          }
        },
        "53ccbb64a93644cb8d6f6369da44f6f6": {
          "model_module": "@jupyter-widgets/controls",
          "model_name": "DescriptionStyleModel",
          "model_module_version": "1.5.0",
          "state": {
            "_model_module": "@jupyter-widgets/controls",
            "_model_module_version": "1.5.0",
            "_model_name": "DescriptionStyleModel",
            "_view_count": null,
            "_view_module": "@jupyter-widgets/base",
            "_view_module_version": "1.2.0",
            "_view_name": "StyleView",
            "description_width": ""
          }
        },
        "799987f13cfe418bbbea1983b10d4da1": {
          "model_module": "@jupyter-widgets/controls",
          "model_name": "HBoxModel",
          "model_module_version": "1.5.0",
          "state": {
            "_dom_classes": [],
            "_model_module": "@jupyter-widgets/controls",
            "_model_module_version": "1.5.0",
            "_model_name": "HBoxModel",
            "_view_count": null,
            "_view_module": "@jupyter-widgets/controls",
            "_view_module_version": "1.5.0",
            "_view_name": "HBoxView",
            "box_style": "",
            "children": [
              "IPY_MODEL_46a16bfb974541dbbf08da293876f38e",
              "IPY_MODEL_5b505d6881ec40df93d21597a2da3f20",
              "IPY_MODEL_6db1a895448b46509da04510133f8766"
            ],
            "layout": "IPY_MODEL_e0ca7a694fbd463084e02c38a466e0cd"
          }
        },
        "46a16bfb974541dbbf08da293876f38e": {
          "model_module": "@jupyter-widgets/controls",
          "model_name": "HTMLModel",
          "model_module_version": "1.5.0",
          "state": {
            "_dom_classes": [],
            "_model_module": "@jupyter-widgets/controls",
            "_model_module_version": "1.5.0",
            "_model_name": "HTMLModel",
            "_view_count": null,
            "_view_module": "@jupyter-widgets/controls",
            "_view_module_version": "1.5.0",
            "_view_name": "HTMLView",
            "description": "",
            "description_tooltip": null,
            "layout": "IPY_MODEL_78b0a57f55324964a49bb1dc91e62c8f",
            "placeholder": "​",
            "style": "IPY_MODEL_f7344c11fdee4b738651b69bc122a472",
            "value": "Downloading (…)okenizer_config.json: 100%"
          }
        },
        "5b505d6881ec40df93d21597a2da3f20": {
          "model_module": "@jupyter-widgets/controls",
          "model_name": "FloatProgressModel",
          "model_module_version": "1.5.0",
          "state": {
            "_dom_classes": [],
            "_model_module": "@jupyter-widgets/controls",
            "_model_module_version": "1.5.0",
            "_model_name": "FloatProgressModel",
            "_view_count": null,
            "_view_module": "@jupyter-widgets/controls",
            "_view_module_version": "1.5.0",
            "_view_name": "ProgressView",
            "bar_style": "success",
            "description": "",
            "description_tooltip": null,
            "layout": "IPY_MODEL_8f3239ed79404e3a9ae2904a0ace5c7a",
            "max": 28,
            "min": 0,
            "orientation": "horizontal",
            "style": "IPY_MODEL_173e00ffbb9d4c3f99b74ce4b5a7d8ff",
            "value": 28
          }
        },
        "6db1a895448b46509da04510133f8766": {
          "model_module": "@jupyter-widgets/controls",
          "model_name": "HTMLModel",
          "model_module_version": "1.5.0",
          "state": {
            "_dom_classes": [],
            "_model_module": "@jupyter-widgets/controls",
            "_model_module_version": "1.5.0",
            "_model_name": "HTMLModel",
            "_view_count": null,
            "_view_module": "@jupyter-widgets/controls",
            "_view_module_version": "1.5.0",
            "_view_name": "HTMLView",
            "description": "",
            "description_tooltip": null,
            "layout": "IPY_MODEL_f123940d35b749d98c6af54002fa7fb1",
            "placeholder": "​",
            "style": "IPY_MODEL_9278e71134d542e8b81318de77868aa4",
            "value": " 28.0/28.0 [00:00&lt;00:00, 2.04kB/s]"
          }
        },
        "e0ca7a694fbd463084e02c38a466e0cd": {
          "model_module": "@jupyter-widgets/base",
          "model_name": "LayoutModel",
          "model_module_version": "1.2.0",
          "state": {
            "_model_module": "@jupyter-widgets/base",
            "_model_module_version": "1.2.0",
            "_model_name": "LayoutModel",
            "_view_count": null,
            "_view_module": "@jupyter-widgets/base",
            "_view_module_version": "1.2.0",
            "_view_name": "LayoutView",
            "align_content": null,
            "align_items": null,
            "align_self": null,
            "border": null,
            "bottom": null,
            "display": null,
            "flex": null,
            "flex_flow": null,
            "grid_area": null,
            "grid_auto_columns": null,
            "grid_auto_flow": null,
            "grid_auto_rows": null,
            "grid_column": null,
            "grid_gap": null,
            "grid_row": null,
            "grid_template_areas": null,
            "grid_template_columns": null,
            "grid_template_rows": null,
            "height": null,
            "justify_content": null,
            "justify_items": null,
            "left": null,
            "margin": null,
            "max_height": null,
            "max_width": null,
            "min_height": null,
            "min_width": null,
            "object_fit": null,
            "object_position": null,
            "order": null,
            "overflow": null,
            "overflow_x": null,
            "overflow_y": null,
            "padding": null,
            "right": null,
            "top": null,
            "visibility": null,
            "width": null
          }
        },
        "78b0a57f55324964a49bb1dc91e62c8f": {
          "model_module": "@jupyter-widgets/base",
          "model_name": "LayoutModel",
          "model_module_version": "1.2.0",
          "state": {
            "_model_module": "@jupyter-widgets/base",
            "_model_module_version": "1.2.0",
            "_model_name": "LayoutModel",
            "_view_count": null,
            "_view_module": "@jupyter-widgets/base",
            "_view_module_version": "1.2.0",
            "_view_name": "LayoutView",
            "align_content": null,
            "align_items": null,
            "align_self": null,
            "border": null,
            "bottom": null,
            "display": null,
            "flex": null,
            "flex_flow": null,
            "grid_area": null,
            "grid_auto_columns": null,
            "grid_auto_flow": null,
            "grid_auto_rows": null,
            "grid_column": null,
            "grid_gap": null,
            "grid_row": null,
            "grid_template_areas": null,
            "grid_template_columns": null,
            "grid_template_rows": null,
            "height": null,
            "justify_content": null,
            "justify_items": null,
            "left": null,
            "margin": null,
            "max_height": null,
            "max_width": null,
            "min_height": null,
            "min_width": null,
            "object_fit": null,
            "object_position": null,
            "order": null,
            "overflow": null,
            "overflow_x": null,
            "overflow_y": null,
            "padding": null,
            "right": null,
            "top": null,
            "visibility": null,
            "width": null
          }
        },
        "f7344c11fdee4b738651b69bc122a472": {
          "model_module": "@jupyter-widgets/controls",
          "model_name": "DescriptionStyleModel",
          "model_module_version": "1.5.0",
          "state": {
            "_model_module": "@jupyter-widgets/controls",
            "_model_module_version": "1.5.0",
            "_model_name": "DescriptionStyleModel",
            "_view_count": null,
            "_view_module": "@jupyter-widgets/base",
            "_view_module_version": "1.2.0",
            "_view_name": "StyleView",
            "description_width": ""
          }
        },
        "8f3239ed79404e3a9ae2904a0ace5c7a": {
          "model_module": "@jupyter-widgets/base",
          "model_name": "LayoutModel",
          "model_module_version": "1.2.0",
          "state": {
            "_model_module": "@jupyter-widgets/base",
            "_model_module_version": "1.2.0",
            "_model_name": "LayoutModel",
            "_view_count": null,
            "_view_module": "@jupyter-widgets/base",
            "_view_module_version": "1.2.0",
            "_view_name": "LayoutView",
            "align_content": null,
            "align_items": null,
            "align_self": null,
            "border": null,
            "bottom": null,
            "display": null,
            "flex": null,
            "flex_flow": null,
            "grid_area": null,
            "grid_auto_columns": null,
            "grid_auto_flow": null,
            "grid_auto_rows": null,
            "grid_column": null,
            "grid_gap": null,
            "grid_row": null,
            "grid_template_areas": null,
            "grid_template_columns": null,
            "grid_template_rows": null,
            "height": null,
            "justify_content": null,
            "justify_items": null,
            "left": null,
            "margin": null,
            "max_height": null,
            "max_width": null,
            "min_height": null,
            "min_width": null,
            "object_fit": null,
            "object_position": null,
            "order": null,
            "overflow": null,
            "overflow_x": null,
            "overflow_y": null,
            "padding": null,
            "right": null,
            "top": null,
            "visibility": null,
            "width": null
          }
        },
        "173e00ffbb9d4c3f99b74ce4b5a7d8ff": {
          "model_module": "@jupyter-widgets/controls",
          "model_name": "ProgressStyleModel",
          "model_module_version": "1.5.0",
          "state": {
            "_model_module": "@jupyter-widgets/controls",
            "_model_module_version": "1.5.0",
            "_model_name": "ProgressStyleModel",
            "_view_count": null,
            "_view_module": "@jupyter-widgets/base",
            "_view_module_version": "1.2.0",
            "_view_name": "StyleView",
            "bar_color": null,
            "description_width": ""
          }
        },
        "f123940d35b749d98c6af54002fa7fb1": {
          "model_module": "@jupyter-widgets/base",
          "model_name": "LayoutModel",
          "model_module_version": "1.2.0",
          "state": {
            "_model_module": "@jupyter-widgets/base",
            "_model_module_version": "1.2.0",
            "_model_name": "LayoutModel",
            "_view_count": null,
            "_view_module": "@jupyter-widgets/base",
            "_view_module_version": "1.2.0",
            "_view_name": "LayoutView",
            "align_content": null,
            "align_items": null,
            "align_self": null,
            "border": null,
            "bottom": null,
            "display": null,
            "flex": null,
            "flex_flow": null,
            "grid_area": null,
            "grid_auto_columns": null,
            "grid_auto_flow": null,
            "grid_auto_rows": null,
            "grid_column": null,
            "grid_gap": null,
            "grid_row": null,
            "grid_template_areas": null,
            "grid_template_columns": null,
            "grid_template_rows": null,
            "height": null,
            "justify_content": null,
            "justify_items": null,
            "left": null,
            "margin": null,
            "max_height": null,
            "max_width": null,
            "min_height": null,
            "min_width": null,
            "object_fit": null,
            "object_position": null,
            "order": null,
            "overflow": null,
            "overflow_x": null,
            "overflow_y": null,
            "padding": null,
            "right": null,
            "top": null,
            "visibility": null,
            "width": null
          }
        },
        "9278e71134d542e8b81318de77868aa4": {
          "model_module": "@jupyter-widgets/controls",
          "model_name": "DescriptionStyleModel",
          "model_module_version": "1.5.0",
          "state": {
            "_model_module": "@jupyter-widgets/controls",
            "_model_module_version": "1.5.0",
            "_model_name": "DescriptionStyleModel",
            "_view_count": null,
            "_view_module": "@jupyter-widgets/base",
            "_view_module_version": "1.2.0",
            "_view_name": "StyleView",
            "description_width": ""
          }
        },
        "68a530c91e664011953e3b66f048a5c8": {
          "model_module": "@jupyter-widgets/controls",
          "model_name": "HBoxModel",
          "model_module_version": "1.5.0",
          "state": {
            "_dom_classes": [],
            "_model_module": "@jupyter-widgets/controls",
            "_model_module_version": "1.5.0",
            "_model_name": "HBoxModel",
            "_view_count": null,
            "_view_module": "@jupyter-widgets/controls",
            "_view_module_version": "1.5.0",
            "_view_name": "HBoxView",
            "box_style": "",
            "children": [
              "IPY_MODEL_cd354a01d24d4d5db3be4d350f2b9f64",
              "IPY_MODEL_8d51897c8687427a8052a2360c6bf573",
              "IPY_MODEL_41031d4119314aeab16424142ff23540"
            ],
            "layout": "IPY_MODEL_5b89ee20b0e4474c99613831ef96ebfa"
          }
        },
        "cd354a01d24d4d5db3be4d350f2b9f64": {
          "model_module": "@jupyter-widgets/controls",
          "model_name": "HTMLModel",
          "model_module_version": "1.5.0",
          "state": {
            "_dom_classes": [],
            "_model_module": "@jupyter-widgets/controls",
            "_model_module_version": "1.5.0",
            "_model_name": "HTMLModel",
            "_view_count": null,
            "_view_module": "@jupyter-widgets/controls",
            "_view_module_version": "1.5.0",
            "_view_name": "HTMLView",
            "description": "",
            "description_tooltip": null,
            "layout": "IPY_MODEL_f91fa2a68dfe45b1b518ba8a12e1d37f",
            "placeholder": "​",
            "style": "IPY_MODEL_58f991721b43482c966e2a6bc2626750",
            "value": "Downloading (…)solve/main/vocab.txt: 100%"
          }
        },
        "8d51897c8687427a8052a2360c6bf573": {
          "model_module": "@jupyter-widgets/controls",
          "model_name": "FloatProgressModel",
          "model_module_version": "1.5.0",
          "state": {
            "_dom_classes": [],
            "_model_module": "@jupyter-widgets/controls",
            "_model_module_version": "1.5.0",
            "_model_name": "FloatProgressModel",
            "_view_count": null,
            "_view_module": "@jupyter-widgets/controls",
            "_view_module_version": "1.5.0",
            "_view_name": "ProgressView",
            "bar_style": "success",
            "description": "",
            "description_tooltip": null,
            "layout": "IPY_MODEL_1f9358239f4b4caeab8c27c76f5b2335",
            "max": 231508,
            "min": 0,
            "orientation": "horizontal",
            "style": "IPY_MODEL_15e689bda25d4346b3e5f75a14e09c19",
            "value": 231508
          }
        },
        "41031d4119314aeab16424142ff23540": {
          "model_module": "@jupyter-widgets/controls",
          "model_name": "HTMLModel",
          "model_module_version": "1.5.0",
          "state": {
            "_dom_classes": [],
            "_model_module": "@jupyter-widgets/controls",
            "_model_module_version": "1.5.0",
            "_model_name": "HTMLModel",
            "_view_count": null,
            "_view_module": "@jupyter-widgets/controls",
            "_view_module_version": "1.5.0",
            "_view_name": "HTMLView",
            "description": "",
            "description_tooltip": null,
            "layout": "IPY_MODEL_8caad493276a46ba91f74e18a575532f",
            "placeholder": "​",
            "style": "IPY_MODEL_5478e7a50db5405197c2337ac0803b03",
            "value": " 232k/232k [00:00&lt;00:00, 5.70MB/s]"
          }
        },
        "5b89ee20b0e4474c99613831ef96ebfa": {
          "model_module": "@jupyter-widgets/base",
          "model_name": "LayoutModel",
          "model_module_version": "1.2.0",
          "state": {
            "_model_module": "@jupyter-widgets/base",
            "_model_module_version": "1.2.0",
            "_model_name": "LayoutModel",
            "_view_count": null,
            "_view_module": "@jupyter-widgets/base",
            "_view_module_version": "1.2.0",
            "_view_name": "LayoutView",
            "align_content": null,
            "align_items": null,
            "align_self": null,
            "border": null,
            "bottom": null,
            "display": null,
            "flex": null,
            "flex_flow": null,
            "grid_area": null,
            "grid_auto_columns": null,
            "grid_auto_flow": null,
            "grid_auto_rows": null,
            "grid_column": null,
            "grid_gap": null,
            "grid_row": null,
            "grid_template_areas": null,
            "grid_template_columns": null,
            "grid_template_rows": null,
            "height": null,
            "justify_content": null,
            "justify_items": null,
            "left": null,
            "margin": null,
            "max_height": null,
            "max_width": null,
            "min_height": null,
            "min_width": null,
            "object_fit": null,
            "object_position": null,
            "order": null,
            "overflow": null,
            "overflow_x": null,
            "overflow_y": null,
            "padding": null,
            "right": null,
            "top": null,
            "visibility": null,
            "width": null
          }
        },
        "f91fa2a68dfe45b1b518ba8a12e1d37f": {
          "model_module": "@jupyter-widgets/base",
          "model_name": "LayoutModel",
          "model_module_version": "1.2.0",
          "state": {
            "_model_module": "@jupyter-widgets/base",
            "_model_module_version": "1.2.0",
            "_model_name": "LayoutModel",
            "_view_count": null,
            "_view_module": "@jupyter-widgets/base",
            "_view_module_version": "1.2.0",
            "_view_name": "LayoutView",
            "align_content": null,
            "align_items": null,
            "align_self": null,
            "border": null,
            "bottom": null,
            "display": null,
            "flex": null,
            "flex_flow": null,
            "grid_area": null,
            "grid_auto_columns": null,
            "grid_auto_flow": null,
            "grid_auto_rows": null,
            "grid_column": null,
            "grid_gap": null,
            "grid_row": null,
            "grid_template_areas": null,
            "grid_template_columns": null,
            "grid_template_rows": null,
            "height": null,
            "justify_content": null,
            "justify_items": null,
            "left": null,
            "margin": null,
            "max_height": null,
            "max_width": null,
            "min_height": null,
            "min_width": null,
            "object_fit": null,
            "object_position": null,
            "order": null,
            "overflow": null,
            "overflow_x": null,
            "overflow_y": null,
            "padding": null,
            "right": null,
            "top": null,
            "visibility": null,
            "width": null
          }
        },
        "58f991721b43482c966e2a6bc2626750": {
          "model_module": "@jupyter-widgets/controls",
          "model_name": "DescriptionStyleModel",
          "model_module_version": "1.5.0",
          "state": {
            "_model_module": "@jupyter-widgets/controls",
            "_model_module_version": "1.5.0",
            "_model_name": "DescriptionStyleModel",
            "_view_count": null,
            "_view_module": "@jupyter-widgets/base",
            "_view_module_version": "1.2.0",
            "_view_name": "StyleView",
            "description_width": ""
          }
        },
        "1f9358239f4b4caeab8c27c76f5b2335": {
          "model_module": "@jupyter-widgets/base",
          "model_name": "LayoutModel",
          "model_module_version": "1.2.0",
          "state": {
            "_model_module": "@jupyter-widgets/base",
            "_model_module_version": "1.2.0",
            "_model_name": "LayoutModel",
            "_view_count": null,
            "_view_module": "@jupyter-widgets/base",
            "_view_module_version": "1.2.0",
            "_view_name": "LayoutView",
            "align_content": null,
            "align_items": null,
            "align_self": null,
            "border": null,
            "bottom": null,
            "display": null,
            "flex": null,
            "flex_flow": null,
            "grid_area": null,
            "grid_auto_columns": null,
            "grid_auto_flow": null,
            "grid_auto_rows": null,
            "grid_column": null,
            "grid_gap": null,
            "grid_row": null,
            "grid_template_areas": null,
            "grid_template_columns": null,
            "grid_template_rows": null,
            "height": null,
            "justify_content": null,
            "justify_items": null,
            "left": null,
            "margin": null,
            "max_height": null,
            "max_width": null,
            "min_height": null,
            "min_width": null,
            "object_fit": null,
            "object_position": null,
            "order": null,
            "overflow": null,
            "overflow_x": null,
            "overflow_y": null,
            "padding": null,
            "right": null,
            "top": null,
            "visibility": null,
            "width": null
          }
        },
        "15e689bda25d4346b3e5f75a14e09c19": {
          "model_module": "@jupyter-widgets/controls",
          "model_name": "ProgressStyleModel",
          "model_module_version": "1.5.0",
          "state": {
            "_model_module": "@jupyter-widgets/controls",
            "_model_module_version": "1.5.0",
            "_model_name": "ProgressStyleModel",
            "_view_count": null,
            "_view_module": "@jupyter-widgets/base",
            "_view_module_version": "1.2.0",
            "_view_name": "StyleView",
            "bar_color": null,
            "description_width": ""
          }
        },
        "8caad493276a46ba91f74e18a575532f": {
          "model_module": "@jupyter-widgets/base",
          "model_name": "LayoutModel",
          "model_module_version": "1.2.0",
          "state": {
            "_model_module": "@jupyter-widgets/base",
            "_model_module_version": "1.2.0",
            "_model_name": "LayoutModel",
            "_view_count": null,
            "_view_module": "@jupyter-widgets/base",
            "_view_module_version": "1.2.0",
            "_view_name": "LayoutView",
            "align_content": null,
            "align_items": null,
            "align_self": null,
            "border": null,
            "bottom": null,
            "display": null,
            "flex": null,
            "flex_flow": null,
            "grid_area": null,
            "grid_auto_columns": null,
            "grid_auto_flow": null,
            "grid_auto_rows": null,
            "grid_column": null,
            "grid_gap": null,
            "grid_row": null,
            "grid_template_areas": null,
            "grid_template_columns": null,
            "grid_template_rows": null,
            "height": null,
            "justify_content": null,
            "justify_items": null,
            "left": null,
            "margin": null,
            "max_height": null,
            "max_width": null,
            "min_height": null,
            "min_width": null,
            "object_fit": null,
            "object_position": null,
            "order": null,
            "overflow": null,
            "overflow_x": null,
            "overflow_y": null,
            "padding": null,
            "right": null,
            "top": null,
            "visibility": null,
            "width": null
          }
        },
        "5478e7a50db5405197c2337ac0803b03": {
          "model_module": "@jupyter-widgets/controls",
          "model_name": "DescriptionStyleModel",
          "model_module_version": "1.5.0",
          "state": {
            "_model_module": "@jupyter-widgets/controls",
            "_model_module_version": "1.5.0",
            "_model_name": "DescriptionStyleModel",
            "_view_count": null,
            "_view_module": "@jupyter-widgets/base",
            "_view_module_version": "1.2.0",
            "_view_name": "StyleView",
            "description_width": ""
          }
        },
        "48ece33f351142b0aae9b81f43747ff2": {
          "model_module": "@jupyter-widgets/controls",
          "model_name": "HBoxModel",
          "model_module_version": "1.5.0",
          "state": {
            "_dom_classes": [],
            "_model_module": "@jupyter-widgets/controls",
            "_model_module_version": "1.5.0",
            "_model_name": "HBoxModel",
            "_view_count": null,
            "_view_module": "@jupyter-widgets/controls",
            "_view_module_version": "1.5.0",
            "_view_name": "HBoxView",
            "box_style": "",
            "children": [
              "IPY_MODEL_ee4fdaebd4764abc95456a6cf7e1c8c5",
              "IPY_MODEL_829a03185baa4c40b3b1c8ef619dd5cf",
              "IPY_MODEL_b175b4215a02446db8312eeaf461ba1c"
            ],
            "layout": "IPY_MODEL_c792602f0c3d421eae4b067e5784500b"
          }
        },
        "ee4fdaebd4764abc95456a6cf7e1c8c5": {
          "model_module": "@jupyter-widgets/controls",
          "model_name": "HTMLModel",
          "model_module_version": "1.5.0",
          "state": {
            "_dom_classes": [],
            "_model_module": "@jupyter-widgets/controls",
            "_model_module_version": "1.5.0",
            "_model_name": "HTMLModel",
            "_view_count": null,
            "_view_module": "@jupyter-widgets/controls",
            "_view_module_version": "1.5.0",
            "_view_name": "HTMLView",
            "description": "",
            "description_tooltip": null,
            "layout": "IPY_MODEL_ad9293e5ae834af596c3a3690ef4f03f",
            "placeholder": "​",
            "style": "IPY_MODEL_d1fa0ba66c124c5c8d7d299ce1619e86",
            "value": "Downloading (…)okenizer_config.json: 100%"
          }
        },
        "829a03185baa4c40b3b1c8ef619dd5cf": {
          "model_module": "@jupyter-widgets/controls",
          "model_name": "FloatProgressModel",
          "model_module_version": "1.5.0",
          "state": {
            "_dom_classes": [],
            "_model_module": "@jupyter-widgets/controls",
            "_model_module_version": "1.5.0",
            "_model_name": "FloatProgressModel",
            "_view_count": null,
            "_view_module": "@jupyter-widgets/controls",
            "_view_module_version": "1.5.0",
            "_view_name": "ProgressView",
            "bar_style": "success",
            "description": "",
            "description_tooltip": null,
            "layout": "IPY_MODEL_0547b63a5f22434485186c8d28397f15",
            "max": 28,
            "min": 0,
            "orientation": "horizontal",
            "style": "IPY_MODEL_32b0c6ae60424e5292153093dc27c0a3",
            "value": 28
          }
        },
        "b175b4215a02446db8312eeaf461ba1c": {
          "model_module": "@jupyter-widgets/controls",
          "model_name": "HTMLModel",
          "model_module_version": "1.5.0",
          "state": {
            "_dom_classes": [],
            "_model_module": "@jupyter-widgets/controls",
            "_model_module_version": "1.5.0",
            "_model_name": "HTMLModel",
            "_view_count": null,
            "_view_module": "@jupyter-widgets/controls",
            "_view_module_version": "1.5.0",
            "_view_name": "HTMLView",
            "description": "",
            "description_tooltip": null,
            "layout": "IPY_MODEL_8c37858710104737b00ed3194680598f",
            "placeholder": "​",
            "style": "IPY_MODEL_506e1e69bae845b6b57ed5cbee4dc57f",
            "value": " 28.0/28.0 [00:00&lt;00:00, 2.13kB/s]"
          }
        },
        "c792602f0c3d421eae4b067e5784500b": {
          "model_module": "@jupyter-widgets/base",
          "model_name": "LayoutModel",
          "model_module_version": "1.2.0",
          "state": {
            "_model_module": "@jupyter-widgets/base",
            "_model_module_version": "1.2.0",
            "_model_name": "LayoutModel",
            "_view_count": null,
            "_view_module": "@jupyter-widgets/base",
            "_view_module_version": "1.2.0",
            "_view_name": "LayoutView",
            "align_content": null,
            "align_items": null,
            "align_self": null,
            "border": null,
            "bottom": null,
            "display": null,
            "flex": null,
            "flex_flow": null,
            "grid_area": null,
            "grid_auto_columns": null,
            "grid_auto_flow": null,
            "grid_auto_rows": null,
            "grid_column": null,
            "grid_gap": null,
            "grid_row": null,
            "grid_template_areas": null,
            "grid_template_columns": null,
            "grid_template_rows": null,
            "height": null,
            "justify_content": null,
            "justify_items": null,
            "left": null,
            "margin": null,
            "max_height": null,
            "max_width": null,
            "min_height": null,
            "min_width": null,
            "object_fit": null,
            "object_position": null,
            "order": null,
            "overflow": null,
            "overflow_x": null,
            "overflow_y": null,
            "padding": null,
            "right": null,
            "top": null,
            "visibility": null,
            "width": null
          }
        },
        "ad9293e5ae834af596c3a3690ef4f03f": {
          "model_module": "@jupyter-widgets/base",
          "model_name": "LayoutModel",
          "model_module_version": "1.2.0",
          "state": {
            "_model_module": "@jupyter-widgets/base",
            "_model_module_version": "1.2.0",
            "_model_name": "LayoutModel",
            "_view_count": null,
            "_view_module": "@jupyter-widgets/base",
            "_view_module_version": "1.2.0",
            "_view_name": "LayoutView",
            "align_content": null,
            "align_items": null,
            "align_self": null,
            "border": null,
            "bottom": null,
            "display": null,
            "flex": null,
            "flex_flow": null,
            "grid_area": null,
            "grid_auto_columns": null,
            "grid_auto_flow": null,
            "grid_auto_rows": null,
            "grid_column": null,
            "grid_gap": null,
            "grid_row": null,
            "grid_template_areas": null,
            "grid_template_columns": null,
            "grid_template_rows": null,
            "height": null,
            "justify_content": null,
            "justify_items": null,
            "left": null,
            "margin": null,
            "max_height": null,
            "max_width": null,
            "min_height": null,
            "min_width": null,
            "object_fit": null,
            "object_position": null,
            "order": null,
            "overflow": null,
            "overflow_x": null,
            "overflow_y": null,
            "padding": null,
            "right": null,
            "top": null,
            "visibility": null,
            "width": null
          }
        },
        "d1fa0ba66c124c5c8d7d299ce1619e86": {
          "model_module": "@jupyter-widgets/controls",
          "model_name": "DescriptionStyleModel",
          "model_module_version": "1.5.0",
          "state": {
            "_model_module": "@jupyter-widgets/controls",
            "_model_module_version": "1.5.0",
            "_model_name": "DescriptionStyleModel",
            "_view_count": null,
            "_view_module": "@jupyter-widgets/base",
            "_view_module_version": "1.2.0",
            "_view_name": "StyleView",
            "description_width": ""
          }
        },
        "0547b63a5f22434485186c8d28397f15": {
          "model_module": "@jupyter-widgets/base",
          "model_name": "LayoutModel",
          "model_module_version": "1.2.0",
          "state": {
            "_model_module": "@jupyter-widgets/base",
            "_model_module_version": "1.2.0",
            "_model_name": "LayoutModel",
            "_view_count": null,
            "_view_module": "@jupyter-widgets/base",
            "_view_module_version": "1.2.0",
            "_view_name": "LayoutView",
            "align_content": null,
            "align_items": null,
            "align_self": null,
            "border": null,
            "bottom": null,
            "display": null,
            "flex": null,
            "flex_flow": null,
            "grid_area": null,
            "grid_auto_columns": null,
            "grid_auto_flow": null,
            "grid_auto_rows": null,
            "grid_column": null,
            "grid_gap": null,
            "grid_row": null,
            "grid_template_areas": null,
            "grid_template_columns": null,
            "grid_template_rows": null,
            "height": null,
            "justify_content": null,
            "justify_items": null,
            "left": null,
            "margin": null,
            "max_height": null,
            "max_width": null,
            "min_height": null,
            "min_width": null,
            "object_fit": null,
            "object_position": null,
            "order": null,
            "overflow": null,
            "overflow_x": null,
            "overflow_y": null,
            "padding": null,
            "right": null,
            "top": null,
            "visibility": null,
            "width": null
          }
        },
        "32b0c6ae60424e5292153093dc27c0a3": {
          "model_module": "@jupyter-widgets/controls",
          "model_name": "ProgressStyleModel",
          "model_module_version": "1.5.0",
          "state": {
            "_model_module": "@jupyter-widgets/controls",
            "_model_module_version": "1.5.0",
            "_model_name": "ProgressStyleModel",
            "_view_count": null,
            "_view_module": "@jupyter-widgets/base",
            "_view_module_version": "1.2.0",
            "_view_name": "StyleView",
            "bar_color": null,
            "description_width": ""
          }
        },
        "8c37858710104737b00ed3194680598f": {
          "model_module": "@jupyter-widgets/base",
          "model_name": "LayoutModel",
          "model_module_version": "1.2.0",
          "state": {
            "_model_module": "@jupyter-widgets/base",
            "_model_module_version": "1.2.0",
            "_model_name": "LayoutModel",
            "_view_count": null,
            "_view_module": "@jupyter-widgets/base",
            "_view_module_version": "1.2.0",
            "_view_name": "LayoutView",
            "align_content": null,
            "align_items": null,
            "align_self": null,
            "border": null,
            "bottom": null,
            "display": null,
            "flex": null,
            "flex_flow": null,
            "grid_area": null,
            "grid_auto_columns": null,
            "grid_auto_flow": null,
            "grid_auto_rows": null,
            "grid_column": null,
            "grid_gap": null,
            "grid_row": null,
            "grid_template_areas": null,
            "grid_template_columns": null,
            "grid_template_rows": null,
            "height": null,
            "justify_content": null,
            "justify_items": null,
            "left": null,
            "margin": null,
            "max_height": null,
            "max_width": null,
            "min_height": null,
            "min_width": null,
            "object_fit": null,
            "object_position": null,
            "order": null,
            "overflow": null,
            "overflow_x": null,
            "overflow_y": null,
            "padding": null,
            "right": null,
            "top": null,
            "visibility": null,
            "width": null
          }
        },
        "506e1e69bae845b6b57ed5cbee4dc57f": {
          "model_module": "@jupyter-widgets/controls",
          "model_name": "DescriptionStyleModel",
          "model_module_version": "1.5.0",
          "state": {
            "_model_module": "@jupyter-widgets/controls",
            "_model_module_version": "1.5.0",
            "_model_name": "DescriptionStyleModel",
            "_view_count": null,
            "_view_module": "@jupyter-widgets/base",
            "_view_module_version": "1.2.0",
            "_view_name": "StyleView",
            "description_width": ""
          }
        },
        "a35ab191f48949ce8a49520100de8f1b": {
          "model_module": "@jupyter-widgets/controls",
          "model_name": "HBoxModel",
          "model_module_version": "1.5.0",
          "state": {
            "_dom_classes": [],
            "_model_module": "@jupyter-widgets/controls",
            "_model_module_version": "1.5.0",
            "_model_name": "HBoxModel",
            "_view_count": null,
            "_view_module": "@jupyter-widgets/controls",
            "_view_module_version": "1.5.0",
            "_view_name": "HBoxView",
            "box_style": "",
            "children": [
              "IPY_MODEL_1421909efbac47769a1ee938268fdd0c",
              "IPY_MODEL_759bbc5b15304af0a60816133fe6e524",
              "IPY_MODEL_b1ffbf81c2f34e51b90c11012cd92229"
            ],
            "layout": "IPY_MODEL_4c5fccc7993c430c9630b08c4e9b7a78"
          }
        },
        "1421909efbac47769a1ee938268fdd0c": {
          "model_module": "@jupyter-widgets/controls",
          "model_name": "HTMLModel",
          "model_module_version": "1.5.0",
          "state": {
            "_dom_classes": [],
            "_model_module": "@jupyter-widgets/controls",
            "_model_module_version": "1.5.0",
            "_model_name": "HTMLModel",
            "_view_count": null,
            "_view_module": "@jupyter-widgets/controls",
            "_view_module_version": "1.5.0",
            "_view_name": "HTMLView",
            "description": "",
            "description_tooltip": null,
            "layout": "IPY_MODEL_d245b9caa22642e78671cdd9ea8a508d",
            "placeholder": "​",
            "style": "IPY_MODEL_c0193d83cc744b768d23f8c99b48f172",
            "value": "Downloading (…)lve/main/config.json: 100%"
          }
        },
        "759bbc5b15304af0a60816133fe6e524": {
          "model_module": "@jupyter-widgets/controls",
          "model_name": "FloatProgressModel",
          "model_module_version": "1.5.0",
          "state": {
            "_dom_classes": [],
            "_model_module": "@jupyter-widgets/controls",
            "_model_module_version": "1.5.0",
            "_model_name": "FloatProgressModel",
            "_view_count": null,
            "_view_module": "@jupyter-widgets/controls",
            "_view_module_version": "1.5.0",
            "_view_name": "ProgressView",
            "bar_style": "success",
            "description": "",
            "description_tooltip": null,
            "layout": "IPY_MODEL_bac1bf3049dc4b49b4ce9bf6f41b15e0",
            "max": 570,
            "min": 0,
            "orientation": "horizontal",
            "style": "IPY_MODEL_e54b400ab2cc404b8184f6bc75343f03",
            "value": 570
          }
        },
        "b1ffbf81c2f34e51b90c11012cd92229": {
          "model_module": "@jupyter-widgets/controls",
          "model_name": "HTMLModel",
          "model_module_version": "1.5.0",
          "state": {
            "_dom_classes": [],
            "_model_module": "@jupyter-widgets/controls",
            "_model_module_version": "1.5.0",
            "_model_name": "HTMLModel",
            "_view_count": null,
            "_view_module": "@jupyter-widgets/controls",
            "_view_module_version": "1.5.0",
            "_view_name": "HTMLView",
            "description": "",
            "description_tooltip": null,
            "layout": "IPY_MODEL_e0b0d46baec2449aab3eacd59ee57e68",
            "placeholder": "​",
            "style": "IPY_MODEL_4ed455a968254777a912843866430119",
            "value": " 570/570 [00:00&lt;00:00, 38.3kB/s]"
          }
        },
        "4c5fccc7993c430c9630b08c4e9b7a78": {
          "model_module": "@jupyter-widgets/base",
          "model_name": "LayoutModel",
          "model_module_version": "1.2.0",
          "state": {
            "_model_module": "@jupyter-widgets/base",
            "_model_module_version": "1.2.0",
            "_model_name": "LayoutModel",
            "_view_count": null,
            "_view_module": "@jupyter-widgets/base",
            "_view_module_version": "1.2.0",
            "_view_name": "LayoutView",
            "align_content": null,
            "align_items": null,
            "align_self": null,
            "border": null,
            "bottom": null,
            "display": null,
            "flex": null,
            "flex_flow": null,
            "grid_area": null,
            "grid_auto_columns": null,
            "grid_auto_flow": null,
            "grid_auto_rows": null,
            "grid_column": null,
            "grid_gap": null,
            "grid_row": null,
            "grid_template_areas": null,
            "grid_template_columns": null,
            "grid_template_rows": null,
            "height": null,
            "justify_content": null,
            "justify_items": null,
            "left": null,
            "margin": null,
            "max_height": null,
            "max_width": null,
            "min_height": null,
            "min_width": null,
            "object_fit": null,
            "object_position": null,
            "order": null,
            "overflow": null,
            "overflow_x": null,
            "overflow_y": null,
            "padding": null,
            "right": null,
            "top": null,
            "visibility": null,
            "width": null
          }
        },
        "d245b9caa22642e78671cdd9ea8a508d": {
          "model_module": "@jupyter-widgets/base",
          "model_name": "LayoutModel",
          "model_module_version": "1.2.0",
          "state": {
            "_model_module": "@jupyter-widgets/base",
            "_model_module_version": "1.2.0",
            "_model_name": "LayoutModel",
            "_view_count": null,
            "_view_module": "@jupyter-widgets/base",
            "_view_module_version": "1.2.0",
            "_view_name": "LayoutView",
            "align_content": null,
            "align_items": null,
            "align_self": null,
            "border": null,
            "bottom": null,
            "display": null,
            "flex": null,
            "flex_flow": null,
            "grid_area": null,
            "grid_auto_columns": null,
            "grid_auto_flow": null,
            "grid_auto_rows": null,
            "grid_column": null,
            "grid_gap": null,
            "grid_row": null,
            "grid_template_areas": null,
            "grid_template_columns": null,
            "grid_template_rows": null,
            "height": null,
            "justify_content": null,
            "justify_items": null,
            "left": null,
            "margin": null,
            "max_height": null,
            "max_width": null,
            "min_height": null,
            "min_width": null,
            "object_fit": null,
            "object_position": null,
            "order": null,
            "overflow": null,
            "overflow_x": null,
            "overflow_y": null,
            "padding": null,
            "right": null,
            "top": null,
            "visibility": null,
            "width": null
          }
        },
        "c0193d83cc744b768d23f8c99b48f172": {
          "model_module": "@jupyter-widgets/controls",
          "model_name": "DescriptionStyleModel",
          "model_module_version": "1.5.0",
          "state": {
            "_model_module": "@jupyter-widgets/controls",
            "_model_module_version": "1.5.0",
            "_model_name": "DescriptionStyleModel",
            "_view_count": null,
            "_view_module": "@jupyter-widgets/base",
            "_view_module_version": "1.2.0",
            "_view_name": "StyleView",
            "description_width": ""
          }
        },
        "bac1bf3049dc4b49b4ce9bf6f41b15e0": {
          "model_module": "@jupyter-widgets/base",
          "model_name": "LayoutModel",
          "model_module_version": "1.2.0",
          "state": {
            "_model_module": "@jupyter-widgets/base",
            "_model_module_version": "1.2.0",
            "_model_name": "LayoutModel",
            "_view_count": null,
            "_view_module": "@jupyter-widgets/base",
            "_view_module_version": "1.2.0",
            "_view_name": "LayoutView",
            "align_content": null,
            "align_items": null,
            "align_self": null,
            "border": null,
            "bottom": null,
            "display": null,
            "flex": null,
            "flex_flow": null,
            "grid_area": null,
            "grid_auto_columns": null,
            "grid_auto_flow": null,
            "grid_auto_rows": null,
            "grid_column": null,
            "grid_gap": null,
            "grid_row": null,
            "grid_template_areas": null,
            "grid_template_columns": null,
            "grid_template_rows": null,
            "height": null,
            "justify_content": null,
            "justify_items": null,
            "left": null,
            "margin": null,
            "max_height": null,
            "max_width": null,
            "min_height": null,
            "min_width": null,
            "object_fit": null,
            "object_position": null,
            "order": null,
            "overflow": null,
            "overflow_x": null,
            "overflow_y": null,
            "padding": null,
            "right": null,
            "top": null,
            "visibility": null,
            "width": null
          }
        },
        "e54b400ab2cc404b8184f6bc75343f03": {
          "model_module": "@jupyter-widgets/controls",
          "model_name": "ProgressStyleModel",
          "model_module_version": "1.5.0",
          "state": {
            "_model_module": "@jupyter-widgets/controls",
            "_model_module_version": "1.5.0",
            "_model_name": "ProgressStyleModel",
            "_view_count": null,
            "_view_module": "@jupyter-widgets/base",
            "_view_module_version": "1.2.0",
            "_view_name": "StyleView",
            "bar_color": null,
            "description_width": ""
          }
        },
        "e0b0d46baec2449aab3eacd59ee57e68": {
          "model_module": "@jupyter-widgets/base",
          "model_name": "LayoutModel",
          "model_module_version": "1.2.0",
          "state": {
            "_model_module": "@jupyter-widgets/base",
            "_model_module_version": "1.2.0",
            "_model_name": "LayoutModel",
            "_view_count": null,
            "_view_module": "@jupyter-widgets/base",
            "_view_module_version": "1.2.0",
            "_view_name": "LayoutView",
            "align_content": null,
            "align_items": null,
            "align_self": null,
            "border": null,
            "bottom": null,
            "display": null,
            "flex": null,
            "flex_flow": null,
            "grid_area": null,
            "grid_auto_columns": null,
            "grid_auto_flow": null,
            "grid_auto_rows": null,
            "grid_column": null,
            "grid_gap": null,
            "grid_row": null,
            "grid_template_areas": null,
            "grid_template_columns": null,
            "grid_template_rows": null,
            "height": null,
            "justify_content": null,
            "justify_items": null,
            "left": null,
            "margin": null,
            "max_height": null,
            "max_width": null,
            "min_height": null,
            "min_width": null,
            "object_fit": null,
            "object_position": null,
            "order": null,
            "overflow": null,
            "overflow_x": null,
            "overflow_y": null,
            "padding": null,
            "right": null,
            "top": null,
            "visibility": null,
            "width": null
          }
        },
        "4ed455a968254777a912843866430119": {
          "model_module": "@jupyter-widgets/controls",
          "model_name": "DescriptionStyleModel",
          "model_module_version": "1.5.0",
          "state": {
            "_model_module": "@jupyter-widgets/controls",
            "_model_module_version": "1.5.0",
            "_model_name": "DescriptionStyleModel",
            "_view_count": null,
            "_view_module": "@jupyter-widgets/base",
            "_view_module_version": "1.2.0",
            "_view_name": "StyleView",
            "description_width": ""
          }
        },
        "28b682c47e5d4fddb5b4fc957c58036d": {
          "model_module": "@jupyter-widgets/controls",
          "model_name": "HBoxModel",
          "model_module_version": "1.5.0",
          "state": {
            "_dom_classes": [],
            "_model_module": "@jupyter-widgets/controls",
            "_model_module_version": "1.5.0",
            "_model_name": "HBoxModel",
            "_view_count": null,
            "_view_module": "@jupyter-widgets/controls",
            "_view_module_version": "1.5.0",
            "_view_name": "HBoxView",
            "box_style": "",
            "children": [
              "IPY_MODEL_1f50c524f32b4b99ba5d929fd9bd27b0",
              "IPY_MODEL_fb08006775854a6788aeb0d731b826d2",
              "IPY_MODEL_a88f3d9b1f224ae7a50c6d47ca1b02c1"
            ],
            "layout": "IPY_MODEL_70ad766185cb400ca945d340866245a9"
          }
        },
        "1f50c524f32b4b99ba5d929fd9bd27b0": {
          "model_module": "@jupyter-widgets/controls",
          "model_name": "HTMLModel",
          "model_module_version": "1.5.0",
          "state": {
            "_dom_classes": [],
            "_model_module": "@jupyter-widgets/controls",
            "_model_module_version": "1.5.0",
            "_model_name": "HTMLModel",
            "_view_count": null,
            "_view_module": "@jupyter-widgets/controls",
            "_view_module_version": "1.5.0",
            "_view_name": "HTMLView",
            "description": "",
            "description_tooltip": null,
            "layout": "IPY_MODEL_3fc0c74a71ce49dbaba75bc64743322f",
            "placeholder": "​",
            "style": "IPY_MODEL_55e67ed27e9c488b985a52c598e39967",
            "value": "Processing Queries: 100%"
          }
        },
        "fb08006775854a6788aeb0d731b826d2": {
          "model_module": "@jupyter-widgets/controls",
          "model_name": "FloatProgressModel",
          "model_module_version": "1.5.0",
          "state": {
            "_dom_classes": [],
            "_model_module": "@jupyter-widgets/controls",
            "_model_module_version": "1.5.0",
            "_model_name": "FloatProgressModel",
            "_view_count": null,
            "_view_module": "@jupyter-widgets/controls",
            "_view_module_version": "1.5.0",
            "_view_name": "ProgressView",
            "bar_style": "success",
            "description": "",
            "description_tooltip": null,
            "layout": "IPY_MODEL_31732e812aa14a7da405f2828b5873df",
            "max": 52,
            "min": 0,
            "orientation": "horizontal",
            "style": "IPY_MODEL_d0de429a540f4b7e892025f6116e62ee",
            "value": 52
          }
        },
        "a88f3d9b1f224ae7a50c6d47ca1b02c1": {
          "model_module": "@jupyter-widgets/controls",
          "model_name": "HTMLModel",
          "model_module_version": "1.5.0",
          "state": {
            "_dom_classes": [],
            "_model_module": "@jupyter-widgets/controls",
            "_model_module_version": "1.5.0",
            "_model_name": "HTMLModel",
            "_view_count": null,
            "_view_module": "@jupyter-widgets/controls",
            "_view_module_version": "1.5.0",
            "_view_name": "HTMLView",
            "description": "",
            "description_tooltip": null,
            "layout": "IPY_MODEL_3a7006394abc436984673bbe93b4333b",
            "placeholder": "​",
            "style": "IPY_MODEL_6be509267b564f2aa6649355116ae8e2",
            "value": " 52/52 [00:01&lt;00:00, 37.63it/s]"
          }
        },
        "70ad766185cb400ca945d340866245a9": {
          "model_module": "@jupyter-widgets/base",
          "model_name": "LayoutModel",
          "model_module_version": "1.2.0",
          "state": {
            "_model_module": "@jupyter-widgets/base",
            "_model_module_version": "1.2.0",
            "_model_name": "LayoutModel",
            "_view_count": null,
            "_view_module": "@jupyter-widgets/base",
            "_view_module_version": "1.2.0",
            "_view_name": "LayoutView",
            "align_content": null,
            "align_items": null,
            "align_self": null,
            "border": null,
            "bottom": null,
            "display": null,
            "flex": null,
            "flex_flow": null,
            "grid_area": null,
            "grid_auto_columns": null,
            "grid_auto_flow": null,
            "grid_auto_rows": null,
            "grid_column": null,
            "grid_gap": null,
            "grid_row": null,
            "grid_template_areas": null,
            "grid_template_columns": null,
            "grid_template_rows": null,
            "height": null,
            "justify_content": null,
            "justify_items": null,
            "left": null,
            "margin": null,
            "max_height": null,
            "max_width": null,
            "min_height": null,
            "min_width": null,
            "object_fit": null,
            "object_position": null,
            "order": null,
            "overflow": null,
            "overflow_x": null,
            "overflow_y": null,
            "padding": null,
            "right": null,
            "top": null,
            "visibility": null,
            "width": null
          }
        },
        "3fc0c74a71ce49dbaba75bc64743322f": {
          "model_module": "@jupyter-widgets/base",
          "model_name": "LayoutModel",
          "model_module_version": "1.2.0",
          "state": {
            "_model_module": "@jupyter-widgets/base",
            "_model_module_version": "1.2.0",
            "_model_name": "LayoutModel",
            "_view_count": null,
            "_view_module": "@jupyter-widgets/base",
            "_view_module_version": "1.2.0",
            "_view_name": "LayoutView",
            "align_content": null,
            "align_items": null,
            "align_self": null,
            "border": null,
            "bottom": null,
            "display": null,
            "flex": null,
            "flex_flow": null,
            "grid_area": null,
            "grid_auto_columns": null,
            "grid_auto_flow": null,
            "grid_auto_rows": null,
            "grid_column": null,
            "grid_gap": null,
            "grid_row": null,
            "grid_template_areas": null,
            "grid_template_columns": null,
            "grid_template_rows": null,
            "height": null,
            "justify_content": null,
            "justify_items": null,
            "left": null,
            "margin": null,
            "max_height": null,
            "max_width": null,
            "min_height": null,
            "min_width": null,
            "object_fit": null,
            "object_position": null,
            "order": null,
            "overflow": null,
            "overflow_x": null,
            "overflow_y": null,
            "padding": null,
            "right": null,
            "top": null,
            "visibility": null,
            "width": null
          }
        },
        "55e67ed27e9c488b985a52c598e39967": {
          "model_module": "@jupyter-widgets/controls",
          "model_name": "DescriptionStyleModel",
          "model_module_version": "1.5.0",
          "state": {
            "_model_module": "@jupyter-widgets/controls",
            "_model_module_version": "1.5.0",
            "_model_name": "DescriptionStyleModel",
            "_view_count": null,
            "_view_module": "@jupyter-widgets/base",
            "_view_module_version": "1.2.0",
            "_view_name": "StyleView",
            "description_width": ""
          }
        },
        "31732e812aa14a7da405f2828b5873df": {
          "model_module": "@jupyter-widgets/base",
          "model_name": "LayoutModel",
          "model_module_version": "1.2.0",
          "state": {
            "_model_module": "@jupyter-widgets/base",
            "_model_module_version": "1.2.0",
            "_model_name": "LayoutModel",
            "_view_count": null,
            "_view_module": "@jupyter-widgets/base",
            "_view_module_version": "1.2.0",
            "_view_name": "LayoutView",
            "align_content": null,
            "align_items": null,
            "align_self": null,
            "border": null,
            "bottom": null,
            "display": null,
            "flex": null,
            "flex_flow": null,
            "grid_area": null,
            "grid_auto_columns": null,
            "grid_auto_flow": null,
            "grid_auto_rows": null,
            "grid_column": null,
            "grid_gap": null,
            "grid_row": null,
            "grid_template_areas": null,
            "grid_template_columns": null,
            "grid_template_rows": null,
            "height": null,
            "justify_content": null,
            "justify_items": null,
            "left": null,
            "margin": null,
            "max_height": null,
            "max_width": null,
            "min_height": null,
            "min_width": null,
            "object_fit": null,
            "object_position": null,
            "order": null,
            "overflow": null,
            "overflow_x": null,
            "overflow_y": null,
            "padding": null,
            "right": null,
            "top": null,
            "visibility": null,
            "width": null
          }
        },
        "d0de429a540f4b7e892025f6116e62ee": {
          "model_module": "@jupyter-widgets/controls",
          "model_name": "ProgressStyleModel",
          "model_module_version": "1.5.0",
          "state": {
            "_model_module": "@jupyter-widgets/controls",
            "_model_module_version": "1.5.0",
            "_model_name": "ProgressStyleModel",
            "_view_count": null,
            "_view_module": "@jupyter-widgets/base",
            "_view_module_version": "1.2.0",
            "_view_name": "StyleView",
            "bar_color": null,
            "description_width": ""
          }
        },
        "3a7006394abc436984673bbe93b4333b": {
          "model_module": "@jupyter-widgets/base",
          "model_name": "LayoutModel",
          "model_module_version": "1.2.0",
          "state": {
            "_model_module": "@jupyter-widgets/base",
            "_model_module_version": "1.2.0",
            "_model_name": "LayoutModel",
            "_view_count": null,
            "_view_module": "@jupyter-widgets/base",
            "_view_module_version": "1.2.0",
            "_view_name": "LayoutView",
            "align_content": null,
            "align_items": null,
            "align_self": null,
            "border": null,
            "bottom": null,
            "display": null,
            "flex": null,
            "flex_flow": null,
            "grid_area": null,
            "grid_auto_columns": null,
            "grid_auto_flow": null,
            "grid_auto_rows": null,
            "grid_column": null,
            "grid_gap": null,
            "grid_row": null,
            "grid_template_areas": null,
            "grid_template_columns": null,
            "grid_template_rows": null,
            "height": null,
            "justify_content": null,
            "justify_items": null,
            "left": null,
            "margin": null,
            "max_height": null,
            "max_width": null,
            "min_height": null,
            "min_width": null,
            "object_fit": null,
            "object_position": null,
            "order": null,
            "overflow": null,
            "overflow_x": null,
            "overflow_y": null,
            "padding": null,
            "right": null,
            "top": null,
            "visibility": null,
            "width": null
          }
        },
        "6be509267b564f2aa6649355116ae8e2": {
          "model_module": "@jupyter-widgets/controls",
          "model_name": "DescriptionStyleModel",
          "model_module_version": "1.5.0",
          "state": {
            "_model_module": "@jupyter-widgets/controls",
            "_model_module_version": "1.5.0",
            "_model_name": "DescriptionStyleModel",
            "_view_count": null,
            "_view_module": "@jupyter-widgets/base",
            "_view_module_version": "1.2.0",
            "_view_name": "StyleView",
            "description_width": ""
          }
        },
        "bfe5057047a648cf88036b5787896312": {
          "model_module": "@jupyter-widgets/controls",
          "model_name": "HBoxModel",
          "model_module_version": "1.5.0",
          "state": {
            "_dom_classes": [],
            "_model_module": "@jupyter-widgets/controls",
            "_model_module_version": "1.5.0",
            "_model_name": "HBoxModel",
            "_view_count": null,
            "_view_module": "@jupyter-widgets/controls",
            "_view_module_version": "1.5.0",
            "_view_name": "HBoxView",
            "box_style": "",
            "children": [
              "IPY_MODEL_aaa0c537ae9d440ebd63b7a8cd496d0f",
              "IPY_MODEL_82dd0e7ff8844238a641300cf70145bc",
              "IPY_MODEL_7aaa8550066e4c6396a823bed7d8174d"
            ],
            "layout": "IPY_MODEL_ab81cadcc938449287a99986d022a79d"
          }
        },
        "aaa0c537ae9d440ebd63b7a8cd496d0f": {
          "model_module": "@jupyter-widgets/controls",
          "model_name": "HTMLModel",
          "model_module_version": "1.5.0",
          "state": {
            "_dom_classes": [],
            "_model_module": "@jupyter-widgets/controls",
            "_model_module_version": "1.5.0",
            "_model_name": "HTMLModel",
            "_view_count": null,
            "_view_module": "@jupyter-widgets/controls",
            "_view_module_version": "1.5.0",
            "_view_name": "HTMLView",
            "description": "",
            "description_tooltip": null,
            "layout": "IPY_MODEL_01dc4650904c4af6848dbe355338a845",
            "placeholder": "​",
            "style": "IPY_MODEL_20a865a6e7474126b9e00b544f53ca33",
            "value": "Processing Documents: 100%"
          }
        },
        "82dd0e7ff8844238a641300cf70145bc": {
          "model_module": "@jupyter-widgets/controls",
          "model_name": "FloatProgressModel",
          "model_module_version": "1.5.0",
          "state": {
            "_dom_classes": [],
            "_model_module": "@jupyter-widgets/controls",
            "_model_module_version": "1.5.0",
            "_model_name": "FloatProgressModel",
            "_view_count": null,
            "_view_module": "@jupyter-widgets/controls",
            "_view_module_version": "1.5.0",
            "_view_name": "ProgressView",
            "bar_style": "success",
            "description": "",
            "description_tooltip": null,
            "layout": "IPY_MODEL_1ae1d230788f449db89c9f67e5080119",
            "max": 1,
            "min": 0,
            "orientation": "horizontal",
            "style": "IPY_MODEL_907f342755ac42a6b979c2360da4ec2c",
            "value": 1
          }
        },
        "7aaa8550066e4c6396a823bed7d8174d": {
          "model_module": "@jupyter-widgets/controls",
          "model_name": "HTMLModel",
          "model_module_version": "1.5.0",
          "state": {
            "_dom_classes": [],
            "_model_module": "@jupyter-widgets/controls",
            "_model_module_version": "1.5.0",
            "_model_name": "HTMLModel",
            "_view_count": null,
            "_view_module": "@jupyter-widgets/controls",
            "_view_module_version": "1.5.0",
            "_view_name": "HTMLView",
            "description": "",
            "description_tooltip": null,
            "layout": "IPY_MODEL_ca992a28d7ca4f1f833b735921049d20",
            "placeholder": "​",
            "style": "IPY_MODEL_dcbd33e6f8d04a14bd18453a2e20d4bb",
            "value": " 1/1 [03:43&lt;00:00, 223.45s/it]"
          }
        },
        "ab81cadcc938449287a99986d022a79d": {
          "model_module": "@jupyter-widgets/base",
          "model_name": "LayoutModel",
          "model_module_version": "1.2.0",
          "state": {
            "_model_module": "@jupyter-widgets/base",
            "_model_module_version": "1.2.0",
            "_model_name": "LayoutModel",
            "_view_count": null,
            "_view_module": "@jupyter-widgets/base",
            "_view_module_version": "1.2.0",
            "_view_name": "LayoutView",
            "align_content": null,
            "align_items": null,
            "align_self": null,
            "border": null,
            "bottom": null,
            "display": null,
            "flex": null,
            "flex_flow": null,
            "grid_area": null,
            "grid_auto_columns": null,
            "grid_auto_flow": null,
            "grid_auto_rows": null,
            "grid_column": null,
            "grid_gap": null,
            "grid_row": null,
            "grid_template_areas": null,
            "grid_template_columns": null,
            "grid_template_rows": null,
            "height": null,
            "justify_content": null,
            "justify_items": null,
            "left": null,
            "margin": null,
            "max_height": null,
            "max_width": null,
            "min_height": null,
            "min_width": null,
            "object_fit": null,
            "object_position": null,
            "order": null,
            "overflow": null,
            "overflow_x": null,
            "overflow_y": null,
            "padding": null,
            "right": null,
            "top": null,
            "visibility": null,
            "width": null
          }
        },
        "01dc4650904c4af6848dbe355338a845": {
          "model_module": "@jupyter-widgets/base",
          "model_name": "LayoutModel",
          "model_module_version": "1.2.0",
          "state": {
            "_model_module": "@jupyter-widgets/base",
            "_model_module_version": "1.2.0",
            "_model_name": "LayoutModel",
            "_view_count": null,
            "_view_module": "@jupyter-widgets/base",
            "_view_module_version": "1.2.0",
            "_view_name": "LayoutView",
            "align_content": null,
            "align_items": null,
            "align_self": null,
            "border": null,
            "bottom": null,
            "display": null,
            "flex": null,
            "flex_flow": null,
            "grid_area": null,
            "grid_auto_columns": null,
            "grid_auto_flow": null,
            "grid_auto_rows": null,
            "grid_column": null,
            "grid_gap": null,
            "grid_row": null,
            "grid_template_areas": null,
            "grid_template_columns": null,
            "grid_template_rows": null,
            "height": null,
            "justify_content": null,
            "justify_items": null,
            "left": null,
            "margin": null,
            "max_height": null,
            "max_width": null,
            "min_height": null,
            "min_width": null,
            "object_fit": null,
            "object_position": null,
            "order": null,
            "overflow": null,
            "overflow_x": null,
            "overflow_y": null,
            "padding": null,
            "right": null,
            "top": null,
            "visibility": null,
            "width": null
          }
        },
        "20a865a6e7474126b9e00b544f53ca33": {
          "model_module": "@jupyter-widgets/controls",
          "model_name": "DescriptionStyleModel",
          "model_module_version": "1.5.0",
          "state": {
            "_model_module": "@jupyter-widgets/controls",
            "_model_module_version": "1.5.0",
            "_model_name": "DescriptionStyleModel",
            "_view_count": null,
            "_view_module": "@jupyter-widgets/base",
            "_view_module_version": "1.2.0",
            "_view_name": "StyleView",
            "description_width": ""
          }
        },
        "1ae1d230788f449db89c9f67e5080119": {
          "model_module": "@jupyter-widgets/base",
          "model_name": "LayoutModel",
          "model_module_version": "1.2.0",
          "state": {
            "_model_module": "@jupyter-widgets/base",
            "_model_module_version": "1.2.0",
            "_model_name": "LayoutModel",
            "_view_count": null,
            "_view_module": "@jupyter-widgets/base",
            "_view_module_version": "1.2.0",
            "_view_name": "LayoutView",
            "align_content": null,
            "align_items": null,
            "align_self": null,
            "border": null,
            "bottom": null,
            "display": null,
            "flex": null,
            "flex_flow": null,
            "grid_area": null,
            "grid_auto_columns": null,
            "grid_auto_flow": null,
            "grid_auto_rows": null,
            "grid_column": null,
            "grid_gap": null,
            "grid_row": null,
            "grid_template_areas": null,
            "grid_template_columns": null,
            "grid_template_rows": null,
            "height": null,
            "justify_content": null,
            "justify_items": null,
            "left": null,
            "margin": null,
            "max_height": null,
            "max_width": null,
            "min_height": null,
            "min_width": null,
            "object_fit": null,
            "object_position": null,
            "order": null,
            "overflow": null,
            "overflow_x": null,
            "overflow_y": null,
            "padding": null,
            "right": null,
            "top": null,
            "visibility": null,
            "width": null
          }
        },
        "907f342755ac42a6b979c2360da4ec2c": {
          "model_module": "@jupyter-widgets/controls",
          "model_name": "ProgressStyleModel",
          "model_module_version": "1.5.0",
          "state": {
            "_model_module": "@jupyter-widgets/controls",
            "_model_module_version": "1.5.0",
            "_model_name": "ProgressStyleModel",
            "_view_count": null,
            "_view_module": "@jupyter-widgets/base",
            "_view_module_version": "1.2.0",
            "_view_name": "StyleView",
            "bar_color": null,
            "description_width": ""
          }
        },
        "ca992a28d7ca4f1f833b735921049d20": {
          "model_module": "@jupyter-widgets/base",
          "model_name": "LayoutModel",
          "model_module_version": "1.2.0",
          "state": {
            "_model_module": "@jupyter-widgets/base",
            "_model_module_version": "1.2.0",
            "_model_name": "LayoutModel",
            "_view_count": null,
            "_view_module": "@jupyter-widgets/base",
            "_view_module_version": "1.2.0",
            "_view_name": "LayoutView",
            "align_content": null,
            "align_items": null,
            "align_self": null,
            "border": null,
            "bottom": null,
            "display": null,
            "flex": null,
            "flex_flow": null,
            "grid_area": null,
            "grid_auto_columns": null,
            "grid_auto_flow": null,
            "grid_auto_rows": null,
            "grid_column": null,
            "grid_gap": null,
            "grid_row": null,
            "grid_template_areas": null,
            "grid_template_columns": null,
            "grid_template_rows": null,
            "height": null,
            "justify_content": null,
            "justify_items": null,
            "left": null,
            "margin": null,
            "max_height": null,
            "max_width": null,
            "min_height": null,
            "min_width": null,
            "object_fit": null,
            "object_position": null,
            "order": null,
            "overflow": null,
            "overflow_x": null,
            "overflow_y": null,
            "padding": null,
            "right": null,
            "top": null,
            "visibility": null,
            "width": null
          }
        },
        "dcbd33e6f8d04a14bd18453a2e20d4bb": {
          "model_module": "@jupyter-widgets/controls",
          "model_name": "DescriptionStyleModel",
          "model_module_version": "1.5.0",
          "state": {
            "_model_module": "@jupyter-widgets/controls",
            "_model_module_version": "1.5.0",
            "_model_name": "DescriptionStyleModel",
            "_view_count": null,
            "_view_module": "@jupyter-widgets/base",
            "_view_module_version": "1.2.0",
            "_view_name": "StyleView",
            "description_width": ""
          }
        }
      }
    }
  },
  "nbformat": 4,
  "nbformat_minor": 0
}